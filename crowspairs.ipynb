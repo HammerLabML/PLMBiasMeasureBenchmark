{
 "cells": [
  {
   "cell_type": "code",
   "execution_count": 1,
   "id": "ca52ba16-9852-4cc9-a564-7282f85a3616",
   "metadata": {
    "tags": []
   },
   "outputs": [
    {
     "name": "stderr",
     "output_type": "stream",
     "text": [
      "/home/saschroeder/anaconda3/envs/plmbias/lib/python3.11/site-packages/tqdm/auto.py:21: TqdmWarning: IProgress not found. Please update jupyter and ipywidgets. See https://ipywidgets.readthedocs.io/en/stable/user_install.html\n",
      "  from .autonotebook import tqdm as notebook_tqdm\n",
      "2023-11-14 13:35:28.710733: I tensorflow/core/platform/cpu_feature_guard.cc:182] This TensorFlow binary is optimized to use available CPU instructions in performance-critical operations.\n",
      "To enable the following instructions: AVX2 AVX512F FMA, in other operations, rebuild TensorFlow with the appropriate compiler flags.\n",
      "2023-11-14 13:35:29.331292: W tensorflow/compiler/tf2tensorrt/utils/py_utils.cc:38] TF-TRT Warning: Could not find TensorRT\n"
     ]
    }
   ],
   "source": [
    "import numpy as np\n",
    "import math\n",
    "import os\n",
    "import pandas as pd\n",
    "from operator import itemgetter\n",
    "import pickle\n",
    "from tqdm import tqdm\n",
    "import scipy\n",
    "import random\n",
    "import yaml\n",
    "\n",
    "import difflib\n",
    "import string\n",
    "import json\n",
    "\n",
    "import matplotlib.pyplot as plt\n",
    "import matplotlib\n",
    "from matplotlib.patches import Patch\n",
    "import seaborn as sns\n",
    "\n",
    "import torch\n",
    "from torch import Tensor\n",
    "import datasets\n",
    "from datasets import load_dataset\n",
    "from embedding import BertHuggingfaceMLM\n",
    "from sklearn.decomposition import PCA\n",
    "from torch.utils.data import DataLoader, TensorDataset\n",
    "\n",
    "from geometrical_bias import SAME, WEAT, GeneralizedWEAT, DirectBias, RIPA, MAC, normalize, cossim, EmbSetList, EmbSet, GeometricBias\n",
    "from unmasking_bias import PLLBias\n",
    "\n",
    "from utils import CLFHead, SimpleCLFHead, CustomModel, CrowSPairsDataset, JigsawDataset, BiosDataset, MLMPipeline"
   ]
  },
  {
   "cell_type": "markdown",
   "id": "ece80132-0cbf-4edb-979d-d7a08a529cea",
   "metadata": {},
   "source": [
    "# TODO\n",
    "- implement datasets (especially preprocessing (removing invalid samples, labeling bias types/ groups, providing neutral samples) + general dataset methods\n",
    "  - jigsaw\n",
    "- (!) bias manipulation:\n",
    "  - mlm debias: need a wrapper for the model, with embedding -> (debias) -> mlm prediction pipeline, token-wise debiasing, problem: architecture specific names (only use bert and roberta?)\n",
    "- evaluation\n",
    "  1) correlation of extrinsic/ cosine bias on pre-trained data (+ head fine-tuning)\n",
    "  2) debiasing/ bias amplification (parameter k) -> statistical test (+ correlation?): do cosine scores and extrinsic measure agree which models are more/less biased\n",
    "  3) robustness (take the/ some models from 1), apply permutation test with different subsets of targets/samples or defining terms for cosine metrics"
   ]
  },
  {
   "cell_type": "markdown",
   "id": "bb2c68bf-ee46-4a50-8b69-1e2275f25812",
   "metadata": {},
   "source": [
    "## TODO: Tuesday\n",
    "- test debiasing (+amplification)with MLM head (see todos below), maybe first on CPU (code+plausibility)\n",
    "- wrapper (see below) + simple CPU test\n",
    "- how to save config?\n",
    "- BIOS dataset with GAP score (test on small subset if GPU not ready)\n",
    "\n",
    "\n",
    "### next steps:\n",
    "\n",
    "- wrapper for CLF experiment (get training running and save the artifacts/ results)\n",
    "- evaluate/visualize first mlm experiment"
   ]
  },
  {
   "cell_type": "code",
   "execution_count": 2,
   "id": "0f34d0a4-946f-45cf-965b-cf183c299c43",
   "metadata": {
    "tags": []
   },
   "outputs": [
    {
     "name": "stderr",
     "output_type": "stream",
     "text": [
      "Using bos_token, but it is not set yet.\n"
     ]
    }
   ],
   "source": [
    "#mlm = BertHuggingfaceMLM(model_name='distilbert-base-uncased', batch_size=2)\n",
    "pipeline = MLMPipeline(parameters={'debias': False, 'debias_k': 1, 'batch_size': 4}, model_name='distilbert-base-uncased')"
   ]
  },
  {
   "cell_type": "code",
   "execution_count": 2,
   "id": "86f427d6-3e40-42d9-9365-79949fe6c260",
   "metadata": {
    "tags": []
   },
   "outputs": [
    {
     "name": "stderr",
     "output_type": "stream",
     "text": [
      "Found cached dataset crows_pairs (/home/saschroeder/.cache/huggingface/datasets/crows_pairs/crows_pairs/1.0.0/33d1d2c8fb39ec51955a725d16f117ccbb733fc2adf2fad749b6442e6ed78a0e)\n"
     ]
    }
   ],
   "source": [
    "with open('data/protected_groups.json', 'r') as f:\n",
    "    pg_config = json.load(f)\n",
    "    \n",
    "with open('data/batch_size_lookup_1080.json', 'r') as f:\n",
    "    batch_size_lookup = json.load(f)\n",
    "    \n",
    "with open('configs/mlm_exp.json', 'r') as f:\n",
    "    exp_config = json.load(f)\n",
    "    \n",
    "groups_by_bias_types = pg_config['groups_by_bias_types']\n",
    "terms_by_groups = pg_config['terms_by_groups']\n",
    "\n",
    "cosine_scores = {'SAME': SAME, 'WEAT': WEAT, 'gWEAT': GeneralizedWEAT, 'DirectBias': DirectBias, 'MAC': MAC}\n",
    "\n",
    "\n",
    "csp_dataset = CrowSPairsDataset(groups_by_bias_types, terms_by_groups)"
   ]
  },
  {
   "cell_type": "code",
   "execution_count": 4,
   "id": "4d3e88f9-cbef-4261-ae51-f26aab015393",
   "metadata": {
    "tags": []
   },
   "outputs": [],
   "source": [
    "texts = [sample['text'] for sample in csp_dataset.data]"
   ]
  },
  {
   "cell_type": "code",
   "execution_count": 5,
   "id": "5dd914c7-ab57-4196-8b82-c1595d1652d7",
   "metadata": {
    "tags": []
   },
   "outputs": [],
   "source": [
    "# TODO: memory management"
   ]
  },
  {
   "cell_type": "code",
   "execution_count": 8,
   "id": "8538b050-d13e-4a9d-8243-075b5940370e",
   "metadata": {
    "tags": []
   },
   "outputs": [
    {
     "name": "stderr",
     "output_type": "stream",
     "text": [
      "100%|█████████████████████████████████████| 130/130 [00:01<00:00, 68.71it/s]\n"
     ]
    },
    {
     "data": {
      "text/plain": [
       "(517, 768)"
      ]
     },
     "execution_count": 8,
     "metadata": {},
     "output_type": "execute_result"
    }
   ],
   "source": [
    "pipeline.embed(texts, average='mean')"
   ]
  },
  {
   "cell_type": "code",
   "execution_count": 10,
   "id": "7400a004-b0d8-4b57-9d7d-3e327f1e5e73",
   "metadata": {
    "tags": []
   },
   "outputs": [
    {
     "name": "stderr",
     "output_type": "stream",
     "text": [
      "100%|█████████████████████████████████████| 130/130 [00:01<00:00, 70.06it/s]\n"
     ]
    },
    {
     "data": {
      "text/plain": [
       "(517, 48, 768)"
      ]
     },
     "execution_count": 10,
     "metadata": {},
     "output_type": "execute_result"
    }
   ],
   "source": [
    "pipeline.embed(texts).shape"
   ]
  },
  {
   "cell_type": "code",
   "execution_count": 9,
   "id": "814ae000-50e0-49b3-93a4-36af5b02de24",
   "metadata": {
    "tags": []
   },
   "outputs": [
    {
     "name": "stdout",
     "output_type": "stream",
     "text": [
      "embed samples...\n"
     ]
    },
    {
     "name": "stderr",
     "output_type": "stream",
     "text": [
      "100%|█████████████████████████████████████| 130/130 [00:01<00:00, 67.10it/s]\n",
      "100%|████████████████████████████████████| 130/130 [00:01<00:00, 114.71it/s]\n"
     ]
    },
    {
     "data": {
      "text/plain": [
       "(517, 48, 30522)"
      ]
     },
     "execution_count": 9,
     "metadata": {},
     "output_type": "execute_result"
    }
   ],
   "source": [
    "pipeline.predict(texts).shape"
   ]
  },
  {
   "cell_type": "code",
   "execution_count": 115,
   "id": "c24aa0ca-bae5-4f02-9a0e-f937fc7b68f8",
   "metadata": {
    "tags": []
   },
   "outputs": [
    {
     "name": "stdout",
     "output_type": "stream",
     "text": [
      "Using Bert with CUDA/GPU\n",
      "{'input_ids': tensor([[  101,  7592,  2017,   102,     0,     0],\n",
      "        [  101,  1038,  2721,  1038,  2721,   102],\n",
      "        [  101, 10930,   102,     0,     0,     0]]), 'attention_mask': tensor([[1, 1, 1, 1, 0, 0],\n",
      "        [1, 1, 1, 1, 1, 1],\n",
      "        [1, 1, 1, 0, 0, 0]])}\n"
     ]
    }
   ],
   "source": [
    "from transformers import AutoTokenizer\n",
    "mlm = BertHuggingfaceMLM(model_name='distilbert-base-uncased', batch_size=1)\n",
    "tokenizer = mlm.tokenizer\n",
    "\n",
    "tokens = tokenizer([\"hello you\", \"bla bla\", \"yo\"], return_tensors=\"pt\", padding=True)#, truncation=True))\n",
    "print(tokens)\n",
    "tokens = tokens.to('cuda')"
   ]
  },
  {
   "cell_type": "code",
   "execution_count": 116,
   "id": "3898402d-f22b-41ea-b2a7-3c5eb5eb246d",
   "metadata": {
    "tags": []
   },
   "outputs": [
    {
     "data": {
      "text/plain": [
       "torch.Size([3, 6, 768])"
      ]
     },
     "execution_count": 116,
     "metadata": {},
     "output_type": "execute_result"
    }
   ],
   "source": [
    "out = mlm.model.distilbert(tokens['input_ids'], attention_mask=tokens['attention_mask'])\n",
    "token_emb = out.hidden_states[-1] # batch_size, n_tokens, emb_dim\n",
    "token_emb.size()"
   ]
  },
  {
   "cell_type": "code",
   "execution_count": 117,
   "id": "c2498724-b3f4-4b7d-a714-497453cf4c06",
   "metadata": {
    "tags": []
   },
   "outputs": [
    {
     "data": {
      "text/plain": [
       "tensor([[[-0.1009, -0.0572,  0.1357,  ..., -0.1517,  0.2852,  0.2347],\n",
       "         [-0.2298,  0.2290,  0.6259,  ..., -0.2124,  0.4092,  0.0174],\n",
       "         [-0.6090, -0.3433,  0.9080,  ...,  0.2539,  0.3140, -0.1742],\n",
       "         [ 0.8648,  0.1428, -0.3749,  ...,  0.2434, -0.5702, -0.3370],\n",
       "         [ 0.0456, -0.1609,  0.4228,  ...,  0.0913,  0.1529,  0.0486],\n",
       "         [ 0.0193, -0.0682,  0.4811,  ..., -0.0122,  0.1361,  0.0890]],\n",
       "\n",
       "        [[-0.0625, -0.2308,  0.0440,  ...,  0.0306,  0.2220,  0.3473],\n",
       "         [ 0.5259, -0.1319,  0.2800,  ...,  0.0785,  0.4980,  0.1530],\n",
       "         [ 0.5018, -0.1743,  0.5687,  ...,  0.3794, -0.4854, -0.7349],\n",
       "         [ 0.5973, -0.0306,  0.4547,  ...,  0.0367,  0.1565,  0.1949],\n",
       "         [ 0.3835, -0.2670,  0.2983,  ...,  0.4385, -0.5946, -0.7579],\n",
       "         [ 1.0897,  0.2114, -0.4150,  ...,  0.3253, -0.6404, -0.2243]],\n",
       "\n",
       "        [[-0.1733, -0.1340,  0.2440,  ..., -0.1601,  0.1081,  0.3974],\n",
       "         [-0.2043,  0.0301,  0.3751,  ..., -0.0329,  0.1115,  0.4631],\n",
       "         [ 0.9100,  0.2127, -0.2646,  ...,  0.0711, -0.7071, -0.2159],\n",
       "         [ 0.0782, -0.0094,  0.4881,  ...,  0.0654, -0.0669,  0.1776],\n",
       "         [ 0.0564, -0.1057,  0.3643,  ...,  0.0680, -0.1686,  0.1851],\n",
       "         [ 0.0829, -0.0099,  0.4891,  ...,  0.0495, -0.0544,  0.1562]]],\n",
       "       device='cuda:0', grad_fn=<NativeLayerNormBackward0>)"
      ]
     },
     "execution_count": 117,
     "metadata": {},
     "output_type": "execute_result"
    }
   ],
   "source": [
    "token_emb"
   ]
  },
  {
   "cell_type": "code",
   "execution_count": 155,
   "id": "edaf9ff8-ef93-410d-90b8-a539944e1acd",
   "metadata": {
    "tags": []
   },
   "outputs": [],
   "source": [
    "avg_emb = []\n",
    "for batch_elem in range(token_emb.size()[0]):\n",
    "    zeros = torch.argwhere(tokens.attention_mask[batch_elem] == 0)\n",
    "    if zeros.size()[0] > 0:\n",
    "        first_zero = int(zeros[0][0])\n",
    "    else:\n",
    "        first_zero = tokens.attention_mask[batch_elem].size()[0]\n",
    "    avg_emb.append(torch.mean(token_emb[batch_elem][:first_zero], dim=0))\n",
    "avg_emb = torch.stack(avg_emb)"
   ]
  },
  {
   "cell_type": "code",
   "execution_count": 157,
   "id": "f0ca668d-73f0-4ccb-8aa9-fb7c99b556a8",
   "metadata": {
    "tags": []
   },
   "outputs": [
    {
     "data": {
      "text/plain": [
       "torch.Size([3, 768])"
      ]
     },
     "execution_count": 157,
     "metadata": {},
     "output_type": "execute_result"
    }
   ],
   "source": [
    "avg_emb.size()"
   ]
  },
  {
   "cell_type": "code",
   "execution_count": 151,
   "id": "690d77c7-684d-4782-8428-61d7c6756143",
   "metadata": {
    "tags": []
   },
   "outputs": [
    {
     "data": {
      "text/plain": [
       "torch.Size([3, 768])"
      ]
     },
     "execution_count": 151,
     "metadata": {},
     "output_type": "execute_result"
    }
   ],
   "source": [
    "attention_repeat = torch.repeat_interleave(tokens.attention_mask, token_emb.size()[2]).reshape(token_emb.size())\n",
    "mean_emb = torch.sum(token_emb*attention_repeat, dim=1)/torch.sum(attention_repeat, dim=1)\n",
    "mean_emb.size()\n",
    "#zeros = torch.argwhere(tokens.attention_mask == 1)\n",
    "#zeros"
   ]
  },
  {
   "cell_type": "code",
   "execution_count": 168,
   "id": "1a8685cf-177b-438f-bd23-1a8e5b005d02",
   "metadata": {
    "tags": []
   },
   "outputs": [
    {
     "data": {
      "text/plain": [
       "torch.Size([6, 6, 768])"
      ]
     },
     "execution_count": 168,
     "metadata": {},
     "output_type": "execute_result"
    }
   ],
   "source": [
    "token_emb2 = token_emb.clone()\n",
    "e = torch.vstack([token_emb, token_emb2])\n",
    "e.size()"
   ]
  },
  {
   "cell_type": "code",
   "execution_count": 166,
   "id": "68964ceb-5413-4d20-8193-afd6c9c16c3e",
   "metadata": {
    "tags": []
   },
   "outputs": [
    {
     "data": {
      "text/plain": [
       "torch.Size([6, 768])"
      ]
     },
     "execution_count": 166,
     "metadata": {},
     "output_type": "execute_result"
    }
   ],
   "source": [
    "mean_emb2 = mean_emb.clone()\n",
    "e = torch.vstack([mean_emb, mean_emb2])\n",
    "e.size()"
   ]
  },
  {
   "cell_type": "code",
   "execution_count": 160,
   "id": "39eada13-a4df-4550-bb4c-b9f390795b73",
   "metadata": {
    "tags": []
   },
   "outputs": [
    {
     "data": {
      "text/plain": [
       "tensor([[-0.0187, -0.0072,  0.3237,  ...,  0.0333,  0.1095, -0.0648],\n",
       "        [ 0.5059, -0.1039,  0.2051,  ...,  0.2148, -0.1406, -0.1703],\n",
       "        [ 0.1775,  0.0363,  0.1182,  ..., -0.0406, -0.1625,  0.2149]],\n",
       "       device='cuda:0', grad_fn=<StackBackward0>)"
      ]
     },
     "execution_count": 160,
     "metadata": {},
     "output_type": "execute_result"
    }
   ],
   "source": [
    "avg_emb"
   ]
  },
  {
   "cell_type": "code",
   "execution_count": 141,
   "id": "7e9cc567-6327-4086-a13a-cb4d7a2bbd50",
   "metadata": {
    "tags": []
   },
   "outputs": [
    {
     "name": "stdout",
     "output_type": "stream",
     "text": [
      "torch.Size([3, 6])\n"
     ]
    },
    {
     "data": {
      "text/plain": [
       "tensor([[[1, 1, 1,  ..., 1, 1, 1],\n",
       "         [1, 1, 1,  ..., 1, 1, 1],\n",
       "         [1, 1, 1,  ..., 1, 1, 1],\n",
       "         [1, 1, 1,  ..., 1, 1, 1],\n",
       "         [0, 0, 0,  ..., 0, 0, 0],\n",
       "         [0, 0, 0,  ..., 0, 0, 0]],\n",
       "\n",
       "        [[1, 1, 1,  ..., 1, 1, 1],\n",
       "         [1, 1, 1,  ..., 1, 1, 1],\n",
       "         [1, 1, 1,  ..., 1, 1, 1],\n",
       "         [1, 1, 1,  ..., 1, 1, 1],\n",
       "         [1, 1, 1,  ..., 1, 1, 1],\n",
       "         [1, 1, 1,  ..., 1, 1, 1]],\n",
       "\n",
       "        [[1, 1, 1,  ..., 1, 1, 1],\n",
       "         [1, 1, 1,  ..., 1, 1, 1],\n",
       "         [1, 1, 1,  ..., 1, 1, 1],\n",
       "         [0, 0, 0,  ..., 0, 0, 0],\n",
       "         [0, 0, 0,  ..., 0, 0, 0],\n",
       "         [0, 0, 0,  ..., 0, 0, 0]]], device='cuda:0')"
      ]
     },
     "execution_count": 141,
     "metadata": {},
     "output_type": "execute_result"
    }
   ],
   "source": [
    "am = tokens.attention_mask.clone()\n",
    "print(am.size())\n",
    "am = \n",
    "am.size()\n",
    "am"
   ]
  },
  {
   "cell_type": "code",
   "execution_count": 129,
   "id": "2dc890b8-764a-43c1-b35b-7ffa087c021c",
   "metadata": {
    "tags": []
   },
   "outputs": [
    {
     "data": {
      "text/plain": [
       "torch.Size([3, 6, 768])"
      ]
     },
     "execution_count": 129,
     "metadata": {},
     "output_type": "execute_result"
    }
   ],
   "source": [
    "token_emb.size()"
   ]
  },
  {
   "cell_type": "code",
   "execution_count": 78,
   "id": "0b3fa60f-edf8-49a2-b372-248c228099fa",
   "metadata": {
    "tags": []
   },
   "outputs": [
    {
     "name": "stdout",
     "output_type": "stream",
     "text": [
      "torch.Size([2, 6, 768])\n",
      "torch.Size([2, 6, 768])\n",
      "torch.Size([2, 6, 768])\n",
      "torch.Size([2, 6, 768])\n"
     ]
    },
    {
     "data": {
      "text/plain": [
       "torch.Size([2, 6, 30522])"
      ]
     },
     "execution_count": 78,
     "metadata": {},
     "output_type": "execute_result"
    }
   ],
   "source": [
    "test_head = \n",
    "\n",
    "pred = test_head(token_emb) # batch_size, n_tokens, n_vocab\n",
    "pred.size()"
   ]
  },
  {
   "cell_type": "code",
   "execution_count": 65,
   "id": "2a3ca343-ccbd-4d27-9b62-840f8459c138",
   "metadata": {
    "tags": []
   },
   "outputs": [
    {
     "data": {
      "text/plain": [
       "ElectraGeneratorPredictions(\n",
       "  (LayerNorm): LayerNorm((768,), eps=1e-12, elementwise_affine=True)\n",
       "  (dense): Linear(in_features=256, out_features=768, bias=True)\n",
       ")"
      ]
     },
     "execution_count": 65,
     "metadata": {},
     "output_type": "execute_result"
    }
   ],
   "source": [
    "\n",
    "mlm.model.generator_predictions"
   ]
  },
  {
   "cell_type": "code",
   "execution_count": null,
   "id": "c34f35a9-af72-4ba5-a815-5562913e6283",
   "metadata": {
    "tags": []
   },
   "outputs": [],
   "source": [
    "architectures = {}\n",
    "for model, _ in models+new_models:\n",
    "    mlm = BertHuggingfaceMLM(model_name=model, batch_size=1)\n",
    "    try:\n",
    "        assert len(mlm.model.config.architectures) == 1\n",
    "        arch = mlm.model.config.architectures[0]\n",
    "        print(model, arch)\n",
    "        if arch not in architectures.keys():\n",
    "            architectures[arch] = 1\n",
    "            print(mlm.model)\n",
    "        else:\n",
    "            architectures[arch] += 1\n",
    "    except TypeError:\n",
    "        print(\"cannot access architecture for:\")\n",
    "        print(model)\n",
    "        print(mlm.model.config)"
   ]
  },
  {
   "cell_type": "code",
   "execution_count": 21,
   "id": "949d2aa1-68ae-4a4f-84ce-1e4d5363781a",
   "metadata": {
    "tags": []
   },
   "outputs": [
    {
     "name": "stderr",
     "output_type": "stream",
     "text": [
      "Found cached dataset crows_pairs (/home/saschroeder/.cache/huggingface/datasets/crows_pairs/crows_pairs/1.0.0/33d1d2c8fb39ec51955a725d16f117ccbb733fc2adf2fad749b6442e6ed78a0e)\n"
     ]
    },
    {
     "name": "stdout",
     "output_type": "stream",
     "text": [
      "xlm-mlm-100-1280 16\n",
      "Using Bert with CUDA/GPU\n"
     ]
    },
    {
     "name": "stderr",
     "output_type": "stream",
     "text": [
      "100%|██████████████████████████████████████████████████████████████████| 7/7 [00:02<00:00,  2.76it/s]\n"
     ]
    },
    {
     "name": "stdout",
     "output_type": "stream",
     "text": [
      "xlm-mlm-17-1280 16\n",
      "Using Bert with CUDA/GPU\n"
     ]
    },
    {
     "name": "stderr",
     "output_type": "stream",
     "text": [
      "100%|██████████████████████████████████████████████████████████████████| 7/7 [00:02<00:00,  3.26it/s]\n"
     ]
    },
    {
     "name": "stdout",
     "output_type": "stream",
     "text": [
      "xlm-mlm-en-2048 16\n",
      "Using Bert with CUDA/GPU\n"
     ]
    },
    {
     "name": "stderr",
     "output_type": "stream",
     "text": [
      "100%|██████████████████████████████████████████████████████████████████| 7/7 [00:01<00:00,  6.54it/s]\n"
     ]
    }
   ],
   "source": [
    "models = [('bert-base-uncased', 16), ('bert-large-uncased', 4), ('distilbert-base-uncased', 16), ('roberta-base', 8), ('roberta-large', 4), ('distilroberta-base', 16), \n",
    "          ('xlm-roberta-base', 4), ('albert-base-v2', 16), ('albert-large-v2', 8), ('google/electra-base-generator', 16), ('google/electra-large-generator', 16), \n",
    "          ('bert-base-multilingual-uncased', 8), ('GroNLP/hateBERT', 16), ('Twitter/twhin-bert-base', 2),\n",
    "          # xlhttp://localhost:8886/lab/tree/crowspairs.ipynb#next-steps:m-v-base still too large for embedding #('facebook/xlm-v-base', 1)\n",
    "          ('Twitter/twhin-bert-large', 1), ('xlm-roberta-large', 1), ('medicalai/ClinicalBERT', 16), ('dbmdz/bert-base-historic-multilingual-cased', 16), ('Davlan/afro-xlmr-large', 16), ('albert-xlarge-v2', 16), ('albert-xxlarge-v2', 16), \n",
    "          ('bert-large-uncased-whole-word-masking', 16), ('Geotrend/bert-base-en-cased', 16), ('Geotrend/bert-base-10lang-cased', 16), ('Geotrend/bert-base-15lang-cased', 16),\n",
    "          ('Intel/bert-base-uncased-sparse-70-unstructured', 16), ('Intel/bert-base-uncased-sparse-85-unstructured-pruneofa', 16), ('Intel/bert-base-uncased-sparse-90-unstructured-pruneofa', 16),\n",
    "          ('Intel/distilbert-base-uncased-sparse-85-unstructured-pruneofa', 16), ('Intel/distilbert-base-uncased-sparse-90-unstructured-pruneofa', 16),\n",
    "          ('abhi1nandy2/Bible-roberta-base', 16), ('microsoft/deberta-v3-base', 16), ('microsoft/deberta-v3-small', 16), ('camembert/camembert-base', 16)]\n",
    "\n",
    "# install sacremoses for:\n",
    "new_models = [('xlm-mlm-100-1280', 16), ('xlm-mlm-17-1280', 16), ('xlm-mlm-en-2048', 16)]\n",
    "\n",
    "#for model in new_models\n",
    "#    mlm = BertHuggingfaceMLM(model_name=model, batch_size=1)\n",
    "    #print(mlm.model.config)\n",
    "    #print(mlm.model)\n",
    "#    print(mlm.model.config._name_or_path)\n",
    "    \n",
    "dataset = load_dataset('crows_pairs', split='test')\n",
    "texts = [sample['sent_more'] for sample in dataset]\n",
    "skip = 0\n",
    "for model, batch_size in new_models:\n",
    "    if skip > 0:\n",
    "        skip -= 1\n",
    "        continue\n",
    "    print(model, batch_size)\n",
    "    mlm = BertHuggingfaceMLM(model_name=model, batch_size=batch_size)\n",
    "    \n",
    "    try:\n",
    "        _ = mlm.embed(texts[:100])\n",
    "        #mlm.lazy_retrain(texts[:100], epochs=1)\n",
    "    except torch.cuda.OutOfMemoryError:\n",
    "        print(\"cuda out of memory for \", model, batch_size)\n"
   ]
  },
  {
   "cell_type": "code",
   "execution_count": 45,
   "id": "c6a5ac79-1ea6-470c-b93b-692f287c3908",
   "metadata": {
    "tags": []
   },
   "outputs": [
    {
     "name": "stderr",
     "output_type": "stream",
     "text": [
      "Some weights of the model checkpoint at bert-base-uncased were not used when initializing BertForMaskedLM: ['cls.seq_relationship.weight', 'bert.pooler.dense.bias', 'cls.seq_relationship.bias', 'bert.pooler.dense.weight']\n",
      "- This IS expected if you are initializing BertForMaskedLM from the checkpoint of a model trained on another task or with another architecture (e.g. initializing a BertForSequenceClassification model from a BertForPreTraining model).\n",
      "- This IS NOT expected if you are initializing BertForMaskedLM from the checkpoint of a model that you expect to be exactly identical (initializing a BertForSequenceClassification model from a BertForSequenceClassification model).\n"
     ]
    },
    {
     "name": "stdout",
     "output_type": "stream",
     "text": [
      "Using Bert with CUDA/GPU\n"
     ]
    }
   ],
   "source": [
    "bias_type = 'gender'#'race-color'\n",
    "mlm = BertHuggingfaceMLM(model_name='bert-base-uncased', batch_size=8)"
   ]
  },
  {
   "cell_type": "code",
   "execution_count": 46,
   "id": "7680feaf-7807-4fd3-a5ad-f843eb33e51e",
   "metadata": {
    "tags": []
   },
   "outputs": [
    {
     "name": "stderr",
     "output_type": "stream",
     "text": [
      "100%|██████████████████████████████████████████████████████████████████| 4/4 [00:00<00:00, 62.98it/s]\n",
      "100%|██████████████████████████████████████████████████████████████████| 4/4 [00:00<00:00, 88.34it/s]\n"
     ]
    },
    {
     "name": "stdout",
     "output_type": "stream",
     "text": [
      "2\n",
      "(25, 768)\n"
     ]
    },
    {
     "name": "stderr",
     "output_type": "stream",
     "text": [
      "100%|██████████████████████████████████████████████████████████████████| 1/1 [00:00<00:00, 56.96it/s]\n",
      "100%|██████████████████████████████████████████████████████████████████| 1/1 [00:00<00:00, 59.97it/s]\n"
     ]
    }
   ],
   "source": [
    "attributes = [terms_by_groups[group] for group in groups_by_bias_types[bias_type]]\n",
    "attr_emb = [mlm.embed(attr) for attr in attributes]\n",
    "print(len(attr_emb))\n",
    "print(attr_emb[0].shape)\n",
    "#attr_emb = list(zip*(attr_emb))\n",
    "#print(len(attr_emb))\n",
    "#print(attr_emb[0].shape)\n",
    "\n",
    "samples = ['how is she doing', 'she is a programmer', 'she is a homemaker', 'she is playing football', 'she is playing softball', 'that woman is a nurse', 'that woman is a doctor']\n",
    "samples_cf = ['how he doing', 'he is a programmer', 'he is a homemaker', 'he is playing football', 'he is playing softball', 'that man is a nurse', 'that man is a doctor']\n",
    "emb = mlm.embed(samples)\n",
    "emb_cf = mlm.embed(samples_cf)"
   ]
  },
  {
   "cell_type": "code",
   "execution_count": 58,
   "id": "3d0b7de6-0abb-432c-bb04-3256131ad342",
   "metadata": {
    "tags": []
   },
   "outputs": [
    {
     "name": "stdout",
     "output_type": "stream",
     "text": [
      "fit pca for debiasing\n",
      "explained variance of the first 20 principal components:\n",
      "[0.19535455 0.10545186 0.07601754 0.06675701 0.06201218 0.05462837\n",
      " 0.04813878 0.0448343  0.03898678 0.0364359  0.03193073 0.03072085\n",
      " 0.02865085 0.02612258 0.02442822 0.02188459 0.01916882 0.01796142\n",
      " 0.01510434 0.01340983]\n"
     ]
    }
   ],
   "source": [
    "debias = Debias()\n",
    "debias.fit(attr_emb)"
   ]
  },
  {
   "cell_type": "code",
   "execution_count": 59,
   "id": "a8ec31dc-c6f9-41fa-9cca-f44c55e73615",
   "metadata": {
    "tags": []
   },
   "outputs": [
    {
     "name": "stdout",
     "output_type": "stream",
     "text": [
      "Debias: predict with k=3\n",
      "Debias: predict with k=3\n"
     ]
    }
   ],
   "source": [
    "debiased_emb = debias.predict(emb)\n",
    "debiased_emb_cf = debias.predict(emb_cf)\n",
    "\n",
    "normalized_emb = debias.normalize(emb)\n",
    "normalized_emb_cf = debias.normalize(emb_cf)\n",
    "\n",
    "# TODO: put debiased/ amplified/ original/ normalized embedings into MLMHead \n",
    "#       - compare PLLBias\n",
    "#       - test plausibility (does normalization break something?)\n",
    "# TODO: have a wrapper for embedding -> debias -> MLM pred (head only)"
   ]
  },
  {
   "cell_type": "code",
   "execution_count": 63,
   "id": "80122358-0e52-4162-a279-2037e65b84e6",
   "metadata": {
    "tags": []
   },
   "outputs": [
    {
     "name": "stdout",
     "output_type": "stream",
     "text": [
      "[9.795176  8.8473015 8.73896   9.817303  9.3899    8.561809  8.535412 ]\n",
      "[9.264498 8.823563 8.553083 9.96043  9.416331 8.556236 8.641489]\n",
      "[1. 1. 1. 1. 1. 1. 1.]\n",
      "[1. 1. 1. 1. 1. 1. 1.]\n",
      "[0.99999994 1.         1.         1.         0.99999994 1.\n",
      " 1.        ]\n",
      "[0.99999994 1.         1.         0.99999994 1.         0.99999994\n",
      " 1.        ]\n"
     ]
    }
   ],
   "source": [
    "print(np.linalg.norm(emb, axis=1))\n",
    "print(np.linalg.norm(emb_cf, axis=1))\n",
    "print(np.linalg.norm(debiased_emb, axis=1))\n",
    "print(np.linalg.norm(debiased_emb_cf, axis=1))\n",
    "print(np.linalg.norm(normalized_emb, axis=1))\n",
    "print(np.linalg.norm(normalized_emb_cf, axis=1))"
   ]
  },
  {
   "cell_type": "code",
   "execution_count": null,
   "id": "eedeedfa-7a52-4d54-87af-171553be1525",
   "metadata": {
    "tags": []
   },
   "outputs": [],
   "source": []
  },
  {
   "cell_type": "code",
   "execution_count": 108,
   "id": "76f987e4-643a-435a-bdf6-e7011c869e65",
   "metadata": {
    "tags": []
   },
   "outputs": [],
   "source": [
    "token_ids = mlm.tokenizer(samples, return_tensors='pt', max_length=512, padding='max_length')\n",
    "out = mlm.model(token_ids['input_ids'])\n",
    "pred = torch.argmax(out.logits, dim=2)"
   ]
  },
  {
   "cell_type": "code",
   "execution_count": 109,
   "id": "305dc850-f0ca-4fd5-bbed-f11f755a9735",
   "metadata": {
    "tags": []
   },
   "outputs": [],
   "source": [
    "mlm.model.to('cpu')\n",
    "# embed\n",
    "e = mlm.model.bert(token_ids['input_ids'])\n",
    "# pass last hidden states (token-wise embeddings) to mlm head\n",
    "out = mlm.model.cls(torch.Tensor(e.last_hidden_state))\n",
    "pred2 = torch.argmax(out, dim=2)"
   ]
  },
  {
   "cell_type": "code",
   "execution_count": 110,
   "id": "aa5920e1-753f-40b1-b8d8-855da2a0273f",
   "metadata": {
    "tags": []
   },
   "outputs": [
    {
     "data": {
      "text/plain": [
       "tensor([[True, True, True,  ..., True, True, True],\n",
       "        [True, True, True,  ..., True, True, True],\n",
       "        [True, True, True,  ..., True, True, True],\n",
       "        ...,\n",
       "        [True, True, True,  ..., True, True, True],\n",
       "        [True, True, True,  ..., True, True, True],\n",
       "        [True, True, True,  ..., True, True, True]])"
      ]
     },
     "execution_count": 110,
     "metadata": {},
     "output_type": "execute_result"
    }
   ],
   "source": [
    "pred == pred2"
   ]
  },
  {
   "cell_type": "raw",
   "id": "d3ed6234-de00-45c8-9751-39786997d62d",
   "metadata": {
    "tags": []
   },
   "source": [
    "for model in ['bert-base-uncased', 'bert-large-uncased', 'distilbert-base-uncased', 'roberta-base', 'roberta-large', 'distilroberta-base', 'xlm-roberta-base', \n",
    "                      'xlm-roberta-large', 'albert-base-v2', 'albert-large-v2', 'google/electra-base-generator', 'google/electra-large-generator', 'deepmind/language-perceiver',\n",
    "                      'bert-base-multilingual-uncased', 'facebook/xlm-v-base', 'GroNLP/hateBERT', 'Twitter/twhin-bert-base', 'Twitter/twhin-bert-large']:\n",
    "    print(model)\n",
    "    mlm = BertHuggingfaceMLM(model_name=model, batch_size=8)\n",
    "    _ = mlm.embed(['hey', 'how', 'are', 'you', 'bla', 'bla', 'bla', 'bla'])"
   ]
  },
  {
   "cell_type": "code",
   "execution_count": 3,
   "id": "504c8c2d-3135-4f09-b834-4bdc2ca65859",
   "metadata": {
    "tags": []
   },
   "outputs": [],
   "source": [
    "with open('data/protected_groups.json', 'r') as f:\n",
    "    pg_config = json.load(f)\n",
    "    \n",
    "with open('data/batch_size_lookup_1080.json', 'r') as f:\n",
    "    batch_size_lookup = json.load(f)\n",
    "    \n",
    "with open('configs/mlm_exp.json', 'r') as f:\n",
    "    exp_config = json.load(f)\n",
    "    \n",
    "groups_by_bias_types = pg_config['groups_by_bias_types']\n",
    "terms_by_groups = pg_config['terms_by_groups']\n",
    "\n",
    "cosine_scores = {'SAME': SAME, 'WEAT': WEAT, 'gWEAT': GeneralizedWEAT, 'DirectBias': DirectBias, 'MAC': MAC}\n"
   ]
  },
  {
   "cell_type": "code",
   "execution_count": 4,
   "id": "fce26447-f5df-4efd-87c6-563209dc72dd",
   "metadata": {
    "tags": []
   },
   "outputs": [
    {
     "data": {
      "text/plain": [
       "{'bias_types': ['race-color', 'gender', 'religion', 'age'],\n",
       " 'bias_scores': ['SAME', 'WEAT', 'gWEAT', 'DirectBias', 'MAC'],\n",
       " 'mlm': ['bert-base-uncased',\n",
       "  'bert-large-uncased',\n",
       "  'distilbert-base-uncased',\n",
       "  'roberta-base',\n",
       "  'roberta-large',\n",
       "  'distilroberta-base',\n",
       "  'xlm-roberta-base',\n",
       "  'albert-base-v2',\n",
       "  'albert-large-v2',\n",
       "  'google/electra-base-generator',\n",
       "  'google/electra-large-generator',\n",
       "  'bert-base-multilingual-uncased',\n",
       "  'GroNLP/hateBERT',\n",
       "  'Twitter/twhin-bert-base',\n",
       "  'Twitter/twhin-bert-large',\n",
       "  'xlm-roberta-large'],\n",
       " 'debias': True,\n",
       " 'debias_k': [1, 3, 5, 7, 9],\n",
       " 'save_file': 'results/res_mlm.pickle',\n",
       " 'batch_size_lookup': 'data/batch_size_lookup_1080.json'}"
      ]
     },
     "execution_count": 4,
     "metadata": {},
     "output_type": "execute_result"
    }
   ],
   "source": [
    "exp_config"
   ]
  },
  {
   "cell_type": "raw",
   "id": "46eb13dc-c415-411a-92c0-3b1ffcfa77c7",
   "metadata": {},
   "source": [
    "config_save = exp_config.copy()\n",
    "config_save['mlm'] = [tup[0] for tup in exp_config['mlm']]\n",
    "\n",
    "with open('configs/mlm_exp.json', 'w') as f:\n",
    "    json.dump(config_save, f)"
   ]
  },
  {
   "cell_type": "code",
   "execution_count": 5,
   "id": "5d9ffd5c-f579-4cae-80e9-cfe9fe12b397",
   "metadata": {},
   "outputs": [],
   "source": [
    "\n",
    "def run_mlm_experiments(exp_config: dict):\n",
    "    exp_parameters = []\n",
    "    results = []\n",
    "    for bt in exp_config['bias_types']:\n",
    "        # mlm experiments\n",
    "        for mlm in exp_config['mlm']:\n",
    "            params = {key: exp_config[key] for key in ['bias_scores', 'debias', 'n_fold', 'batch_size']} # TODO debias\n",
    "            params.update({'bias_type': bt, 'mlm': mlm})\n",
    "            exp_parameters.append(params)\n",
    "\n",
    "        # clf experiments\n",
    "        #for embedder in exp_config['embedders']:\n",
    "        #    for head in exp_config['clf_heads']:\n",
    "        #        for optim in exp_config['clf_optimizer']:\n",
    "        #            for crit in exp_config['clf_criterion']:\n",
    "        #                for lr in exp_config['lr']:\n",
    "        #                    params = {key: exp_config[key] for key in ['bias_scores', 'debias', 'n_fold', 'batch_size']} # TODO debias\n",
    "        #                    params.update({'bias_type': bt, 'embedder': embedder, 'head': head, \n",
    "        #                                   'optimizer': optim, 'criterion': crit, 'lr': lr})\n",
    "        #                    exp_parameters.append(params)\n",
    "                            \n",
    "    # load the datasets\n",
    "    csp_dataset = CrowSPairsDataset(groups_by_bias_types, terms_by_groups)\n",
    "    \n",
    "    for i, params in enumerate(exp_parameters):\n",
    "        print(\"run experiment\", i, \"of\", len(exp_parameters), \"with parameters:\")\n",
    "        print(params)\n",
    "\n",
    "        #if 'mlm' in params:\n",
    "        # MLM experiment with CrowS-Pairs\n",
    "        if not csp_dataset.sel_attributes(params['bias_type']):\n",
    "            print(\"skip mlm experiment for bias type\", params['bias_type'])\n",
    "            continue\n",
    "\n",
    "        n_groups = len(csp_dataset.sel_groups)\n",
    "\n",
    "        mlm = BertHuggingfaceMLM(model_name=params['mlm'], batch_size=params['batch_size'])\n",
    "        # TODO check debias\n",
    "\n",
    "        csp_dataset.compute_group_bias(mlm)\n",
    "        csp_dataset.compute_individual_bias(mlm)\n",
    "        cur_result = {'id': i, 'extrinsic_individual': csp_dataset.individual_biases, 'extrinsic': csp_dataset.bias_score}\n",
    "\n",
    "        attributes = [terms_by_groups[group] for group in groups_by_bias_types[params['bias_type']]]\n",
    "        attr_emb = [mlm.embed(attr) for attr in attributes]\n",
    "\n",
    "        targets, group_label = csp_dataset.get_neutral_samples_by_masking(mlm.tokenizer)\n",
    "        #for i in range(max(group_label)+1):\n",
    "        #    print(i, group_label.count(i))\n",
    "        #print(set(group_label))\n",
    "        assert len(set(group_label)) == n_groups\n",
    "\n",
    "        target_emb = mlm.embed(targets)\n",
    "\n",
    "        # sorted by stereotypical group\n",
    "        target_emb_per_group = []\n",
    "        for group in range(max(group_label)+1):\n",
    "            target_emb_per_group.append([target_emb[i] for i in range(len(group_label)) if group_label[i] == group])\n",
    "\n",
    "        for score in params['bias_scores']:\n",
    "            if score == 'WEAT' and n_groups > 2:\n",
    "                cur_result.update({score: math.nan})\n",
    "                continue\n",
    "\n",
    "            cur_score = cosine_scores[score]()\n",
    "            cur_score.define_bias_space(attr_emb)\n",
    "\n",
    "            if not score == 'gWEAT':\n",
    "                individual_biases = [cur_score.individual_bias(target) for target in target_emb]\n",
    "                cur_result.update({score+'_individual': individual_biases})\n",
    "\n",
    "            if score in ['WEAT', 'gWEAT']:\n",
    "                bias = cur_score.group_bias(target_emb_per_group)\n",
    "            else:\n",
    "                # SAME, DirectBias, MAC\n",
    "                bias = cur_score.mean_individual_bias(target_emb)\n",
    "\n",
    "            cur_result.update({score: bias})\n",
    "        results.append(cur_result)\n",
    "        #else:\n",
    "        #    # CLF experiment with BIOS and Jigsaw\n",
    "        #    results.append({})\n",
    "        #    pass\n",
    "        print()\n",
    "        \n",
    "        # remove model from GPU\n",
    "        mlm.model.to('cpu')\n",
    "        del mlm\n",
    "        torch.cuda.empty_cache()\n",
    "        \n",
    "    return exp_parameters, results"
   ]
  },
  {
   "cell_type": "code",
   "execution_count": 6,
   "id": "4b7263a0-a0f0-4c0e-8c7f-8c65faff2b2a",
   "metadata": {
    "tags": []
   },
   "outputs": [
    {
     "ename": "KeyError",
     "evalue": "'n_fold'",
     "output_type": "error",
     "traceback": [
      "\u001b[0;31m---------------------------------------------------------------------------\u001b[0m",
      "\u001b[0;31mKeyError\u001b[0m                                  Traceback (most recent call last)",
      "Cell \u001b[0;32mIn[6], line 1\u001b[0m\n\u001b[0;32m----> 1\u001b[0m params, results \u001b[38;5;241m=\u001b[39m run_mlm_experiments(exp_config)\n",
      "Cell \u001b[0;32mIn[5], line 7\u001b[0m, in \u001b[0;36mrun_mlm_experiments\u001b[0;34m(exp_config)\u001b[0m\n\u001b[1;32m      4\u001b[0m \u001b[38;5;28;01mfor\u001b[39;00m bt \u001b[38;5;129;01min\u001b[39;00m exp_config[\u001b[38;5;124m'\u001b[39m\u001b[38;5;124mbias_types\u001b[39m\u001b[38;5;124m'\u001b[39m]:\n\u001b[1;32m      5\u001b[0m     \u001b[38;5;66;03m# mlm experiments\u001b[39;00m\n\u001b[1;32m      6\u001b[0m     \u001b[38;5;28;01mfor\u001b[39;00m mlm \u001b[38;5;129;01min\u001b[39;00m exp_config[\u001b[38;5;124m'\u001b[39m\u001b[38;5;124mmlm\u001b[39m\u001b[38;5;124m'\u001b[39m]:\n\u001b[0;32m----> 7\u001b[0m         params \u001b[38;5;241m=\u001b[39m {key: exp_config[key] \u001b[38;5;28;01mfor\u001b[39;00m key \u001b[38;5;129;01min\u001b[39;00m [\u001b[38;5;124m'\u001b[39m\u001b[38;5;124mbias_scores\u001b[39m\u001b[38;5;124m'\u001b[39m, \u001b[38;5;124m'\u001b[39m\u001b[38;5;124mdebias\u001b[39m\u001b[38;5;124m'\u001b[39m, \u001b[38;5;124m'\u001b[39m\u001b[38;5;124mn_fold\u001b[39m\u001b[38;5;124m'\u001b[39m, \u001b[38;5;124m'\u001b[39m\u001b[38;5;124mbatch_size\u001b[39m\u001b[38;5;124m'\u001b[39m]} \u001b[38;5;66;03m# TODO debias\u001b[39;00m\n\u001b[1;32m      8\u001b[0m         params\u001b[38;5;241m.\u001b[39mupdate({\u001b[38;5;124m'\u001b[39m\u001b[38;5;124mbias_type\u001b[39m\u001b[38;5;124m'\u001b[39m: bt, \u001b[38;5;124m'\u001b[39m\u001b[38;5;124mmlm\u001b[39m\u001b[38;5;124m'\u001b[39m: mlm})\n\u001b[1;32m      9\u001b[0m         exp_parameters\u001b[38;5;241m.\u001b[39mappend(params)\n",
      "Cell \u001b[0;32mIn[5], line 7\u001b[0m, in \u001b[0;36m<dictcomp>\u001b[0;34m(.0)\u001b[0m\n\u001b[1;32m      4\u001b[0m \u001b[38;5;28;01mfor\u001b[39;00m bt \u001b[38;5;129;01min\u001b[39;00m exp_config[\u001b[38;5;124m'\u001b[39m\u001b[38;5;124mbias_types\u001b[39m\u001b[38;5;124m'\u001b[39m]:\n\u001b[1;32m      5\u001b[0m     \u001b[38;5;66;03m# mlm experiments\u001b[39;00m\n\u001b[1;32m      6\u001b[0m     \u001b[38;5;28;01mfor\u001b[39;00m mlm \u001b[38;5;129;01min\u001b[39;00m exp_config[\u001b[38;5;124m'\u001b[39m\u001b[38;5;124mmlm\u001b[39m\u001b[38;5;124m'\u001b[39m]:\n\u001b[0;32m----> 7\u001b[0m         params \u001b[38;5;241m=\u001b[39m {key: exp_config[key] \u001b[38;5;28;01mfor\u001b[39;00m key \u001b[38;5;129;01min\u001b[39;00m [\u001b[38;5;124m'\u001b[39m\u001b[38;5;124mbias_scores\u001b[39m\u001b[38;5;124m'\u001b[39m, \u001b[38;5;124m'\u001b[39m\u001b[38;5;124mdebias\u001b[39m\u001b[38;5;124m'\u001b[39m, \u001b[38;5;124m'\u001b[39m\u001b[38;5;124mn_fold\u001b[39m\u001b[38;5;124m'\u001b[39m, \u001b[38;5;124m'\u001b[39m\u001b[38;5;124mbatch_size\u001b[39m\u001b[38;5;124m'\u001b[39m]} \u001b[38;5;66;03m# TODO debias\u001b[39;00m\n\u001b[1;32m      8\u001b[0m         params\u001b[38;5;241m.\u001b[39mupdate({\u001b[38;5;124m'\u001b[39m\u001b[38;5;124mbias_type\u001b[39m\u001b[38;5;124m'\u001b[39m: bt, \u001b[38;5;124m'\u001b[39m\u001b[38;5;124mmlm\u001b[39m\u001b[38;5;124m'\u001b[39m: mlm})\n\u001b[1;32m      9\u001b[0m         exp_parameters\u001b[38;5;241m.\u001b[39mappend(params)\n",
      "\u001b[0;31mKeyError\u001b[0m: 'n_fold'"
     ]
    }
   ],
   "source": [
    "params, results = run_mlm_experiments(exp_config)"
   ]
  },
  {
   "cell_type": "code",
   "execution_count": null,
   "id": "840e08e9-447b-4bbe-922b-18b79c82fb8d",
   "metadata": {},
   "outputs": [],
   "source": [
    "# save as pickle"
   ]
  },
  {
   "cell_type": "code",
   "execution_count": null,
   "id": "a8dcef46-3d95-4bcf-b0c8-69613db76e64",
   "metadata": {},
   "outputs": [],
   "source": []
  },
  {
   "cell_type": "code",
   "execution_count": 4,
   "id": "994bfad6-6ace-47fa-b6a4-a57dadf162e7",
   "metadata": {
    "tags": []
   },
   "outputs": [
    {
     "data": {
      "text/plain": [
       "dict_keys(['params', 'results'])"
      ]
     },
     "execution_count": 4,
     "metadata": {},
     "output_type": "execute_result"
    }
   ],
   "source": [
    "with open('results/res_mlm.pickle', 'rb') as handle:\n",
    "    res_dict = pickle.load(handle)\n",
    "    \n",
    "res_dict.keys()"
   ]
  },
  {
   "cell_type": "code",
   "execution_count": 5,
   "id": "bb2cd77e-eaa7-402d-9bb1-27aab6679042",
   "metadata": {
    "tags": []
   },
   "outputs": [],
   "source": [
    "params = res_dict['params']\n",
    "results = res_dict['results']"
   ]
  },
  {
   "cell_type": "code",
   "execution_count": 7,
   "id": "bd92c8dc-d191-43ca-8bd4-46819847a906",
   "metadata": {
    "tags": []
   },
   "outputs": [
    {
     "data": {
      "text/plain": [
       "448"
      ]
     },
     "execution_count": 7,
     "metadata": {},
     "output_type": "execute_result"
    }
   ],
   "source": [
    "len(params)"
   ]
  },
  {
   "cell_type": "code",
   "execution_count": 8,
   "id": "c0f35e03-2be1-4bf2-9acf-2c2e2e6bf2d8",
   "metadata": {
    "tags": []
   },
   "outputs": [
    {
     "data": {
      "text/plain": [
       "29"
      ]
     },
     "execution_count": 8,
     "metadata": {},
     "output_type": "execute_result"
    }
   ],
   "source": [
    "len(results)"
   ]
  },
  {
   "cell_type": "code",
   "execution_count": 9,
   "id": "bbc79ef1-51c1-437b-a714-05d7603c466d",
   "metadata": {},
   "outputs": [
    {
     "name": "stdout",
     "output_type": "stream",
     "text": [
      "experiment 0 with bias type race-color\n",
      "dict_keys(['id', 'extrinsic_individual', 'extrinsic', 'SAME_individual', 'SAME', 'WEAT', 'gWEAT', 'DirectBias_individual', 'DirectBias', 'MAC_individual', 'MAC'])\n",
      "\n",
      "experiment 1 with bias type race-color\n",
      "dict_keys(['id', 'extrinsic_individual', 'extrinsic', 'SAME_individual', 'SAME', 'WEAT', 'gWEAT', 'DirectBias_individual', 'DirectBias', 'MAC_individual', 'MAC'])\n",
      "\n",
      "experiment 2 with bias type race-color\n",
      "dict_keys(['id', 'extrinsic_individual', 'extrinsic', 'SAME_individual', 'SAME', 'WEAT', 'gWEAT', 'DirectBias_individual', 'DirectBias', 'MAC_individual', 'MAC'])\n",
      "\n",
      "experiment 3 with bias type race-color\n",
      "dict_keys(['id', 'extrinsic_individual', 'extrinsic', 'SAME_individual', 'SAME', 'WEAT', 'gWEAT', 'DirectBias_individual', 'DirectBias', 'MAC_individual', 'MAC'])\n",
      "\n",
      "experiment 4 with bias type race-color\n",
      "dict_keys(['id', 'extrinsic_individual', 'extrinsic', 'SAME_individual', 'SAME', 'WEAT', 'gWEAT', 'DirectBias_individual', 'DirectBias', 'MAC_individual', 'MAC'])\n",
      "\n",
      "experiment 5 with bias type race-color\n",
      "dict_keys(['id', 'extrinsic_individual', 'extrinsic', 'SAME_individual', 'SAME', 'WEAT', 'gWEAT', 'DirectBias_individual', 'DirectBias', 'MAC_individual', 'MAC'])\n",
      "\n",
      "experiment 6 with bias type race-color\n",
      "dict_keys(['id', 'extrinsic_individual', 'extrinsic', 'SAME_individual', 'SAME', 'WEAT', 'gWEAT', 'DirectBias_individual', 'DirectBias', 'MAC_individual', 'MAC'])\n",
      "\n",
      "experiment 7 with bias type race-color\n",
      "dict_keys(['id', 'extrinsic_individual', 'extrinsic', 'SAME_individual', 'SAME', 'WEAT', 'gWEAT', 'DirectBias_individual', 'DirectBias', 'MAC_individual', 'MAC'])\n",
      "\n",
      "experiment 8 with bias type race-color\n",
      "dict_keys(['id', 'extrinsic_individual', 'extrinsic', 'SAME_individual', 'SAME', 'WEAT', 'gWEAT', 'DirectBias_individual', 'DirectBias', 'MAC_individual', 'MAC'])\n",
      "\n",
      "experiment 9 with bias type race-color\n",
      "dict_keys(['id', 'extrinsic_individual', 'extrinsic', 'SAME_individual', 'SAME', 'WEAT', 'gWEAT', 'DirectBias_individual', 'DirectBias', 'MAC_individual', 'MAC'])\n",
      "\n",
      "experiment 10 with bias type race-color\n",
      "dict_keys(['id', 'extrinsic_individual', 'extrinsic', 'SAME_individual', 'SAME', 'WEAT', 'gWEAT', 'DirectBias_individual', 'DirectBias', 'MAC_individual', 'MAC'])\n",
      "\n",
      "experiment 11 with bias type race-color\n",
      "dict_keys(['id', 'extrinsic_individual', 'extrinsic', 'SAME_individual', 'SAME', 'WEAT', 'gWEAT', 'DirectBias_individual', 'DirectBias', 'MAC_individual', 'MAC'])\n",
      "\n",
      "experiment 12 with bias type race-color\n",
      "dict_keys(['id', 'extrinsic_individual', 'extrinsic', 'SAME_individual', 'SAME', 'WEAT', 'gWEAT', 'DirectBias_individual', 'DirectBias', 'MAC_individual', 'MAC'])\n",
      "\n",
      "experiment 13 with bias type race-color\n",
      "dict_keys(['id', 'extrinsic_individual', 'extrinsic', 'SAME_individual', 'SAME', 'WEAT', 'gWEAT', 'DirectBias_individual', 'DirectBias', 'MAC_individual', 'MAC'])\n",
      "\n",
      "experiment 14 with bias type race-color\n",
      "dict_keys(['id', 'extrinsic_individual', 'extrinsic', 'SAME_individual', 'SAME', 'WEAT', 'gWEAT', 'DirectBias_individual', 'DirectBias', 'MAC_individual', 'MAC'])\n",
      "\n",
      "experiment 15 with bias type race-color\n",
      "dict_keys(['id', 'extrinsic_individual', 'extrinsic', 'SAME_individual', 'SAME', 'WEAT', 'gWEAT', 'DirectBias_individual', 'DirectBias', 'MAC_individual', 'MAC'])\n",
      "\n",
      "experiment 16 with bias type race-color\n",
      "dict_keys(['id', 'extrinsic_individual', 'extrinsic', 'SAME_individual', 'SAME', 'WEAT', 'gWEAT', 'DirectBias_individual', 'DirectBias', 'MAC_individual', 'MAC'])\n",
      "\n",
      "experiment 17 with bias type race-color\n",
      "dict_keys(['id', 'extrinsic_individual', 'extrinsic', 'SAME_individual', 'SAME', 'WEAT', 'gWEAT', 'DirectBias_individual', 'DirectBias', 'MAC_individual', 'MAC'])\n",
      "\n",
      "experiment 18 with bias type race-color\n",
      "dict_keys(['id', 'extrinsic_individual', 'extrinsic', 'SAME_individual', 'SAME', 'WEAT', 'gWEAT', 'DirectBias_individual', 'DirectBias', 'MAC_individual', 'MAC'])\n",
      "\n",
      "experiment 19 with bias type race-color\n",
      "dict_keys(['id', 'extrinsic_individual', 'extrinsic', 'SAME_individual', 'SAME', 'WEAT', 'gWEAT', 'DirectBias_individual', 'DirectBias', 'MAC_individual', 'MAC'])\n",
      "\n",
      "experiment 20 with bias type race-color\n",
      "dict_keys(['id', 'extrinsic_individual', 'extrinsic', 'SAME_individual', 'SAME', 'WEAT', 'gWEAT', 'DirectBias_individual', 'DirectBias', 'MAC_individual', 'MAC'])\n",
      "\n",
      "experiment 21 with bias type race-color\n",
      "dict_keys(['id', 'extrinsic_individual', 'extrinsic', 'SAME_individual', 'SAME', 'WEAT', 'gWEAT', 'DirectBias_individual', 'DirectBias', 'MAC_individual', 'MAC'])\n",
      "\n",
      "experiment 22 with bias type race-color\n",
      "dict_keys(['id', 'extrinsic_individual', 'extrinsic', 'SAME_individual', 'SAME', 'WEAT', 'gWEAT', 'DirectBias_individual', 'DirectBias', 'MAC_individual', 'MAC'])\n",
      "\n",
      "experiment 23 with bias type race-color\n",
      "dict_keys(['id', 'extrinsic_individual', 'extrinsic', 'SAME_individual', 'SAME', 'WEAT', 'gWEAT', 'DirectBias_individual', 'DirectBias', 'MAC_individual', 'MAC'])\n",
      "\n",
      "experiment 24 with bias type race-color\n",
      "dict_keys(['id', 'extrinsic_individual', 'extrinsic', 'SAME_individual', 'SAME', 'WEAT', 'gWEAT', 'DirectBias_individual', 'DirectBias', 'MAC_individual', 'MAC'])\n",
      "\n",
      "experiment 25 with bias type race-color\n",
      "dict_keys(['id', 'extrinsic_individual', 'extrinsic', 'SAME_individual', 'SAME', 'WEAT', 'gWEAT', 'DirectBias_individual', 'DirectBias', 'MAC_individual', 'MAC'])\n",
      "\n",
      "experiment 26 with bias type race-color\n",
      "dict_keys(['id', 'extrinsic_individual', 'extrinsic', 'SAME_individual', 'SAME', 'WEAT', 'gWEAT', 'DirectBias_individual', 'DirectBias', 'MAC_individual', 'MAC'])\n",
      "\n",
      "experiment 27 with bias type race-color\n",
      "dict_keys(['id', 'extrinsic_individual', 'extrinsic', 'SAME_individual', 'SAME', 'WEAT', 'gWEAT', 'DirectBias_individual', 'DirectBias', 'MAC_individual', 'MAC'])\n",
      "\n",
      "experiment 28 with bias type race-color\n",
      "dict_keys(['id', 'extrinsic_individual', 'extrinsic', 'SAME_individual', 'SAME', 'WEAT', 'gWEAT', 'DirectBias_individual', 'DirectBias', 'MAC_individual', 'MAC'])\n",
      "\n",
      "experiment 29 with bias type race-color\n",
      "dict_keys(['id', 'extrinsic_individual', 'extrinsic', 'SAME_individual', 'SAME', 'WEAT', 'gWEAT', 'DirectBias_individual', 'DirectBias', 'MAC_individual', 'MAC'])\n",
      "\n",
      "experiment 30 with bias type race-color\n",
      "dict_keys(['id', 'extrinsic_individual', 'extrinsic', 'SAME_individual', 'SAME', 'WEAT', 'gWEAT', 'DirectBias_individual', 'DirectBias', 'MAC_individual', 'MAC'])\n",
      "\n",
      "experiment 31 with bias type race-color\n",
      "dict_keys(['id', 'extrinsic_individual', 'extrinsic', 'SAME_individual', 'SAME', 'WEAT', 'gWEAT', 'DirectBias_individual', 'DirectBias', 'MAC_individual', 'MAC'])\n",
      "\n",
      "experiment 32 with bias type race-color\n",
      "dict_keys(['id', 'extrinsic_individual', 'extrinsic', 'SAME_individual', 'SAME', 'WEAT', 'gWEAT', 'DirectBias_individual', 'DirectBias', 'MAC_individual', 'MAC'])\n",
      "\n",
      "experiment 33 with bias type race-color\n",
      "dict_keys(['id', 'extrinsic_individual', 'extrinsic', 'SAME_individual', 'SAME', 'WEAT', 'gWEAT', 'DirectBias_individual', 'DirectBias', 'MAC_individual', 'MAC'])\n",
      "\n",
      "experiment 34 with bias type race-color\n",
      "dict_keys(['id', 'extrinsic_individual', 'extrinsic', 'SAME_individual', 'SAME', 'WEAT', 'gWEAT', 'DirectBias_individual', 'DirectBias', 'MAC_individual', 'MAC'])\n",
      "\n",
      "experiment 35 with bias type race-color\n",
      "dict_keys(['id', 'extrinsic_individual', 'extrinsic', 'SAME_individual', 'SAME', 'WEAT', 'gWEAT', 'DirectBias_individual', 'DirectBias', 'MAC_individual', 'MAC'])\n",
      "\n",
      "experiment 36 with bias type race-color\n",
      "dict_keys(['id', 'extrinsic_individual', 'extrinsic', 'SAME_individual', 'SAME', 'WEAT', 'gWEAT', 'DirectBias_individual', 'DirectBias', 'MAC_individual', 'MAC'])\n",
      "\n",
      "experiment 37 with bias type race-color\n",
      "dict_keys(['id', 'extrinsic_individual', 'extrinsic', 'SAME_individual', 'SAME', 'WEAT', 'gWEAT', 'DirectBias_individual', 'DirectBias', 'MAC_individual', 'MAC'])\n",
      "\n",
      "experiment 38 with bias type race-color\n",
      "dict_keys(['id', 'extrinsic_individual', 'extrinsic', 'SAME_individual', 'SAME', 'WEAT', 'gWEAT', 'DirectBias_individual', 'DirectBias', 'MAC_individual', 'MAC'])\n",
      "\n",
      "experiment 39 with bias type race-color\n",
      "dict_keys(['id', 'extrinsic_individual', 'extrinsic', 'SAME_individual', 'SAME', 'WEAT', 'gWEAT', 'DirectBias_individual', 'DirectBias', 'MAC_individual', 'MAC'])\n",
      "\n",
      "experiment 40 with bias type race-color\n",
      "dict_keys(['id', 'extrinsic_individual', 'extrinsic', 'SAME_individual', 'SAME', 'WEAT', 'gWEAT', 'DirectBias_individual', 'DirectBias', 'MAC_individual', 'MAC'])\n",
      "\n",
      "experiment 41 with bias type race-color\n",
      "dict_keys(['id', 'extrinsic_individual', 'extrinsic', 'SAME_individual', 'SAME', 'WEAT', 'gWEAT', 'DirectBias_individual', 'DirectBias', 'MAC_individual', 'MAC'])\n",
      "\n",
      "experiment 42 with bias type race-color\n",
      "dict_keys(['id', 'extrinsic_individual', 'extrinsic', 'SAME_individual', 'SAME', 'WEAT', 'gWEAT', 'DirectBias_individual', 'DirectBias', 'MAC_individual', 'MAC'])\n",
      "\n",
      "experiment 43 with bias type race-color\n",
      "dict_keys(['id', 'extrinsic_individual', 'extrinsic', 'SAME_individual', 'SAME', 'WEAT', 'gWEAT', 'DirectBias_individual', 'DirectBias', 'MAC_individual', 'MAC'])\n",
      "\n",
      "experiment 44 with bias type race-color\n",
      "dict_keys(['id', 'extrinsic_individual', 'extrinsic', 'SAME_individual', 'SAME', 'WEAT', 'gWEAT', 'DirectBias_individual', 'DirectBias', 'MAC_individual', 'MAC'])\n",
      "\n",
      "experiment 45 with bias type race-color\n",
      "dict_keys(['id', 'extrinsic_individual', 'extrinsic', 'SAME_individual', 'SAME', 'WEAT', 'gWEAT', 'DirectBias_individual', 'DirectBias', 'MAC_individual', 'MAC'])\n",
      "\n",
      "experiment 46 with bias type race-color\n",
      "dict_keys(['id', 'extrinsic_individual', 'extrinsic', 'SAME_individual', 'SAME', 'WEAT', 'gWEAT', 'DirectBias_individual', 'DirectBias', 'MAC_individual', 'MAC'])\n",
      "\n",
      "experiment 47 with bias type race-color\n",
      "dict_keys(['id', 'extrinsic_individual', 'extrinsic', 'SAME_individual', 'SAME', 'WEAT', 'gWEAT', 'DirectBias_individual', 'DirectBias', 'MAC_individual', 'MAC'])\n",
      "\n",
      "experiment 48 with bias type race-color\n",
      "dict_keys(['id', 'extrinsic_individual', 'extrinsic', 'SAME_individual', 'SAME', 'WEAT', 'gWEAT', 'DirectBias_individual', 'DirectBias', 'MAC_individual', 'MAC'])\n",
      "\n",
      "experiment 49 with bias type race-color\n",
      "dict_keys(['id', 'extrinsic_individual', 'extrinsic', 'SAME_individual', 'SAME', 'WEAT', 'gWEAT', 'DirectBias_individual', 'DirectBias', 'MAC_individual', 'MAC'])\n",
      "\n",
      "experiment 50 with bias type race-color\n",
      "dict_keys(['id', 'extrinsic_individual', 'extrinsic', 'SAME_individual', 'SAME', 'WEAT', 'gWEAT', 'DirectBias_individual', 'DirectBias', 'MAC_individual', 'MAC'])\n",
      "\n",
      "experiment 51 with bias type race-color\n",
      "dict_keys(['id', 'extrinsic_individual', 'extrinsic', 'SAME_individual', 'SAME', 'WEAT', 'gWEAT', 'DirectBias_individual', 'DirectBias', 'MAC_individual', 'MAC'])\n",
      "\n",
      "experiment 52 with bias type race-color\n",
      "dict_keys(['id', 'extrinsic_individual', 'extrinsic', 'SAME_individual', 'SAME', 'WEAT', 'gWEAT', 'DirectBias_individual', 'DirectBias', 'MAC_individual', 'MAC'])\n",
      "\n",
      "experiment 53 with bias type race-color\n",
      "dict_keys(['id', 'extrinsic_individual', 'extrinsic', 'SAME_individual', 'SAME', 'WEAT', 'gWEAT', 'DirectBias_individual', 'DirectBias', 'MAC_individual', 'MAC'])\n",
      "\n",
      "experiment 54 with bias type race-color\n",
      "dict_keys(['id', 'extrinsic_individual', 'extrinsic', 'SAME_individual', 'SAME', 'WEAT', 'gWEAT', 'DirectBias_individual', 'DirectBias', 'MAC_individual', 'MAC'])\n",
      "\n",
      "experiment 55 with bias type race-color\n",
      "dict_keys(['id', 'extrinsic_individual', 'extrinsic', 'SAME_individual', 'SAME', 'WEAT', 'gWEAT', 'DirectBias_individual', 'DirectBias', 'MAC_individual', 'MAC'])\n",
      "\n",
      "experiment 56 with bias type race-color\n",
      "dict_keys(['id', 'extrinsic_individual', 'extrinsic', 'SAME_individual', 'SAME', 'WEAT', 'gWEAT', 'DirectBias_individual', 'DirectBias', 'MAC_individual', 'MAC'])\n",
      "\n",
      "experiment 57 with bias type race-color\n",
      "dict_keys(['id', 'extrinsic_individual', 'extrinsic', 'SAME_individual', 'SAME', 'WEAT', 'gWEAT', 'DirectBias_individual', 'DirectBias', 'MAC_individual', 'MAC'])\n",
      "\n",
      "experiment 58 with bias type race-color\n",
      "dict_keys(['id', 'extrinsic_individual', 'extrinsic', 'SAME_individual', 'SAME', 'WEAT', 'gWEAT', 'DirectBias_individual', 'DirectBias', 'MAC_individual', 'MAC'])\n",
      "\n",
      "experiment 59 with bias type race-color\n",
      "dict_keys(['id', 'extrinsic_individual', 'extrinsic', 'SAME_individual', 'SAME', 'WEAT', 'gWEAT', 'DirectBias_individual', 'DirectBias', 'MAC_individual', 'MAC'])\n",
      "\n",
      "experiment 60 with bias type race-color\n",
      "dict_keys(['id', 'extrinsic_individual', 'extrinsic', 'SAME_individual', 'SAME', 'WEAT', 'gWEAT', 'DirectBias_individual', 'DirectBias', 'MAC_individual', 'MAC'])\n",
      "\n",
      "experiment 61 with bias type race-color\n",
      "dict_keys(['id', 'extrinsic_individual', 'extrinsic', 'SAME_individual', 'SAME', 'WEAT', 'gWEAT', 'DirectBias_individual', 'DirectBias', 'MAC_individual', 'MAC'])\n",
      "\n",
      "experiment 62 with bias type race-color\n",
      "dict_keys(['id', 'extrinsic_individual', 'extrinsic', 'SAME_individual', 'SAME', 'WEAT', 'gWEAT', 'DirectBias_individual', 'DirectBias', 'MAC_individual', 'MAC'])\n",
      "\n",
      "experiment 63 with bias type race-color\n",
      "dict_keys(['id', 'extrinsic_individual', 'extrinsic', 'SAME_individual', 'SAME', 'WEAT', 'gWEAT', 'DirectBias_individual', 'DirectBias', 'MAC_individual', 'MAC'])\n",
      "\n",
      "experiment 64 with bias type race-color\n",
      "dict_keys(['id', 'extrinsic_individual', 'extrinsic', 'SAME_individual', 'SAME', 'WEAT', 'gWEAT', 'DirectBias_individual', 'DirectBias', 'MAC_individual', 'MAC'])\n",
      "\n",
      "experiment 65 with bias type race-color\n",
      "dict_keys(['id', 'extrinsic_individual', 'extrinsic', 'SAME_individual', 'SAME', 'WEAT', 'gWEAT', 'DirectBias_individual', 'DirectBias', 'MAC_individual', 'MAC'])\n",
      "\n",
      "experiment 66 with bias type race-color\n",
      "dict_keys(['id', 'extrinsic_individual', 'extrinsic', 'SAME_individual', 'SAME', 'WEAT', 'gWEAT', 'DirectBias_individual', 'DirectBias', 'MAC_individual', 'MAC'])\n",
      "\n",
      "experiment 67 with bias type race-color\n",
      "dict_keys(['id', 'extrinsic_individual', 'extrinsic', 'SAME_individual', 'SAME', 'WEAT', 'gWEAT', 'DirectBias_individual', 'DirectBias', 'MAC_individual', 'MAC'])\n",
      "\n",
      "experiment 68 with bias type race-color\n",
      "dict_keys(['id', 'extrinsic_individual', 'extrinsic', 'SAME_individual', 'SAME', 'WEAT', 'gWEAT', 'DirectBias_individual', 'DirectBias', 'MAC_individual', 'MAC'])\n",
      "\n",
      "experiment 69 with bias type race-color\n",
      "dict_keys(['id', 'extrinsic_individual', 'extrinsic', 'SAME_individual', 'SAME', 'WEAT', 'gWEAT', 'DirectBias_individual', 'DirectBias', 'MAC_individual', 'MAC'])\n",
      "\n",
      "experiment 70 with bias type race-color\n",
      "dict_keys(['id', 'extrinsic_individual', 'extrinsic', 'SAME_individual', 'SAME', 'WEAT', 'gWEAT', 'DirectBias_individual', 'DirectBias', 'MAC_individual', 'MAC'])\n",
      "\n",
      "experiment 71 with bias type race-color\n",
      "dict_keys(['id', 'extrinsic_individual', 'extrinsic', 'SAME_individual', 'SAME', 'WEAT', 'gWEAT', 'DirectBias_individual', 'DirectBias', 'MAC_individual', 'MAC'])\n",
      "\n",
      "experiment 72 with bias type race-color\n",
      "dict_keys(['id', 'extrinsic_individual', 'extrinsic', 'SAME_individual', 'SAME', 'WEAT', 'gWEAT', 'DirectBias_individual', 'DirectBias', 'MAC_individual', 'MAC'])\n",
      "\n",
      "experiment 73 with bias type race-color\n",
      "dict_keys(['id', 'extrinsic_individual', 'extrinsic', 'SAME_individual', 'SAME', 'WEAT', 'gWEAT', 'DirectBias_individual', 'DirectBias', 'MAC_individual', 'MAC'])\n",
      "\n",
      "experiment 74 with bias type race-color\n",
      "dict_keys(['id', 'extrinsic_individual', 'extrinsic', 'SAME_individual', 'SAME', 'WEAT', 'gWEAT', 'DirectBias_individual', 'DirectBias', 'MAC_individual', 'MAC'])\n",
      "\n",
      "experiment 75 with bias type race-color\n",
      "dict_keys(['id', 'extrinsic_individual', 'extrinsic', 'SAME_individual', 'SAME', 'WEAT', 'gWEAT', 'DirectBias_individual', 'DirectBias', 'MAC_individual', 'MAC'])\n",
      "\n",
      "experiment 76 with bias type race-color\n",
      "dict_keys(['id', 'extrinsic_individual', 'extrinsic', 'SAME_individual', 'SAME', 'WEAT', 'gWEAT', 'DirectBias_individual', 'DirectBias', 'MAC_individual', 'MAC'])\n",
      "\n",
      "experiment 77 with bias type race-color\n",
      "dict_keys(['id', 'extrinsic_individual', 'extrinsic', 'SAME_individual', 'SAME', 'WEAT', 'gWEAT', 'DirectBias_individual', 'DirectBias', 'MAC_individual', 'MAC'])\n",
      "\n",
      "experiment 78 with bias type race-color\n",
      "dict_keys(['id', 'extrinsic_individual', 'extrinsic', 'SAME_individual', 'SAME', 'WEAT', 'gWEAT', 'DirectBias_individual', 'DirectBias', 'MAC_individual', 'MAC'])\n",
      "\n",
      "experiment 79 with bias type race-color\n",
      "dict_keys(['id', 'extrinsic_individual', 'extrinsic', 'SAME_individual', 'SAME', 'WEAT', 'gWEAT', 'DirectBias_individual', 'DirectBias', 'MAC_individual', 'MAC'])\n",
      "\n",
      "experiment 80 with bias type race-color\n",
      "dict_keys(['id', 'extrinsic_individual', 'extrinsic', 'SAME_individual', 'SAME', 'WEAT', 'gWEAT', 'DirectBias_individual', 'DirectBias', 'MAC_individual', 'MAC'])\n",
      "\n",
      "experiment 81 with bias type race-color\n",
      "dict_keys(['id', 'extrinsic_individual', 'extrinsic', 'SAME_individual', 'SAME', 'WEAT', 'gWEAT', 'DirectBias_individual', 'DirectBias', 'MAC_individual', 'MAC'])\n",
      "\n",
      "experiment 82 with bias type race-color\n",
      "dict_keys(['id', 'extrinsic_individual', 'extrinsic', 'SAME_individual', 'SAME', 'WEAT', 'gWEAT', 'DirectBias_individual', 'DirectBias', 'MAC_individual', 'MAC'])\n",
      "\n",
      "experiment 83 with bias type race-color\n",
      "dict_keys(['id', 'extrinsic_individual', 'extrinsic', 'SAME_individual', 'SAME', 'WEAT', 'gWEAT', 'DirectBias_individual', 'DirectBias', 'MAC_individual', 'MAC'])\n",
      "\n",
      "experiment 84 with bias type race-color\n",
      "dict_keys(['id', 'extrinsic_individual', 'extrinsic', 'SAME_individual', 'SAME', 'WEAT', 'gWEAT', 'DirectBias_individual', 'DirectBias', 'MAC_individual', 'MAC'])\n",
      "\n",
      "experiment 85 with bias type race-color\n",
      "dict_keys(['id', 'extrinsic_individual', 'extrinsic', 'SAME_individual', 'SAME', 'WEAT', 'gWEAT', 'DirectBias_individual', 'DirectBias', 'MAC_individual', 'MAC'])\n",
      "\n",
      "experiment 86 with bias type race-color\n",
      "dict_keys(['id', 'extrinsic_individual', 'extrinsic', 'SAME_individual', 'SAME', 'WEAT', 'gWEAT', 'DirectBias_individual', 'DirectBias', 'MAC_individual', 'MAC'])\n",
      "\n",
      "experiment 87 with bias type race-color\n",
      "dict_keys(['id', 'extrinsic_individual', 'extrinsic', 'SAME_individual', 'SAME', 'WEAT', 'gWEAT', 'DirectBias_individual', 'DirectBias', 'MAC_individual', 'MAC'])\n",
      "\n",
      "experiment 88 with bias type race-color\n",
      "dict_keys(['id', 'extrinsic_individual', 'extrinsic', 'SAME_individual', 'SAME', 'WEAT', 'gWEAT', 'DirectBias_individual', 'DirectBias', 'MAC_individual', 'MAC'])\n",
      "\n",
      "experiment 89 with bias type race-color\n",
      "dict_keys(['id', 'extrinsic_individual', 'extrinsic', 'SAME_individual', 'SAME', 'WEAT', 'gWEAT', 'DirectBias_individual', 'DirectBias', 'MAC_individual', 'MAC'])\n",
      "\n",
      "experiment 90 with bias type race-color\n",
      "dict_keys(['id', 'extrinsic_individual', 'extrinsic', 'SAME_individual', 'SAME', 'WEAT', 'gWEAT', 'DirectBias_individual', 'DirectBias', 'MAC_individual', 'MAC'])\n",
      "\n",
      "experiment 91 with bias type race-color\n",
      "dict_keys(['id', 'extrinsic_individual', 'extrinsic', 'SAME_individual', 'SAME', 'WEAT', 'gWEAT', 'DirectBias_individual', 'DirectBias', 'MAC_individual', 'MAC'])\n",
      "\n",
      "experiment 92 with bias type race-color\n",
      "dict_keys(['id', 'extrinsic_individual', 'extrinsic', 'SAME_individual', 'SAME', 'WEAT', 'gWEAT', 'DirectBias_individual', 'DirectBias', 'MAC_individual', 'MAC'])\n",
      "\n",
      "experiment 93 with bias type race-color\n",
      "dict_keys(['id', 'extrinsic_individual', 'extrinsic', 'SAME_individual', 'SAME', 'WEAT', 'gWEAT', 'DirectBias_individual', 'DirectBias', 'MAC_individual', 'MAC'])\n",
      "\n",
      "experiment 94 with bias type race-color\n",
      "dict_keys(['id', 'extrinsic_individual', 'extrinsic', 'SAME_individual', 'SAME', 'WEAT', 'gWEAT', 'DirectBias_individual', 'DirectBias', 'MAC_individual', 'MAC'])\n",
      "\n",
      "experiment 95 with bias type race-color\n",
      "dict_keys(['id', 'extrinsic_individual', 'extrinsic', 'SAME_individual', 'SAME', 'WEAT', 'gWEAT', 'DirectBias_individual', 'DirectBias', 'MAC_individual', 'MAC'])\n",
      "\n",
      "experiment 96 with bias type race-color\n",
      "dict_keys(['id', 'extrinsic_individual', 'extrinsic', 'SAME_individual', 'SAME', 'WEAT', 'gWEAT', 'DirectBias_individual', 'DirectBias', 'MAC_individual', 'MAC'])\n",
      "\n",
      "experiment 97 with bias type race-color\n",
      "dict_keys(['id', 'extrinsic_individual', 'extrinsic', 'SAME_individual', 'SAME', 'WEAT', 'gWEAT', 'DirectBias_individual', 'DirectBias', 'MAC_individual', 'MAC'])\n",
      "\n",
      "experiment 98 with bias type race-color\n",
      "dict_keys(['id', 'extrinsic_individual', 'extrinsic', 'SAME_individual', 'SAME', 'WEAT', 'gWEAT', 'DirectBias_individual', 'DirectBias', 'MAC_individual', 'MAC'])\n",
      "\n",
      "experiment 99 with bias type race-color\n",
      "dict_keys(['id', 'extrinsic_individual', 'extrinsic', 'SAME_individual', 'SAME', 'WEAT', 'gWEAT', 'DirectBias_individual', 'DirectBias', 'MAC_individual', 'MAC'])\n",
      "\n",
      "experiment 100 with bias type race-color\n",
      "dict_keys(['id', 'extrinsic_individual', 'extrinsic', 'SAME_individual', 'SAME', 'WEAT', 'gWEAT', 'DirectBias_individual', 'DirectBias', 'MAC_individual', 'MAC'])\n",
      "\n",
      "experiment 101 with bias type race-color\n",
      "dict_keys(['id', 'extrinsic_individual', 'extrinsic', 'SAME_individual', 'SAME', 'WEAT', 'gWEAT', 'DirectBias_individual', 'DirectBias', 'MAC_individual', 'MAC'])\n",
      "\n",
      "experiment 102 with bias type race-color\n",
      "dict_keys(['id', 'extrinsic_individual', 'extrinsic', 'SAME_individual', 'SAME', 'WEAT', 'gWEAT', 'DirectBias_individual', 'DirectBias', 'MAC_individual', 'MAC'])\n",
      "\n",
      "experiment 103 with bias type race-color\n",
      "dict_keys(['id', 'extrinsic_individual', 'extrinsic', 'SAME_individual', 'SAME', 'WEAT', 'gWEAT', 'DirectBias_individual', 'DirectBias', 'MAC_individual', 'MAC'])\n",
      "\n",
      "experiment 104 with bias type race-color\n",
      "dict_keys(['id', 'extrinsic_individual', 'extrinsic', 'SAME_individual', 'SAME', 'WEAT', 'gWEAT', 'DirectBias_individual', 'DirectBias', 'MAC_individual', 'MAC'])\n",
      "\n",
      "experiment 105 with bias type race-color\n",
      "dict_keys(['id', 'extrinsic_individual', 'extrinsic', 'SAME_individual', 'SAME', 'WEAT', 'gWEAT', 'DirectBias_individual', 'DirectBias', 'MAC_individual', 'MAC'])\n",
      "\n",
      "experiment 106 with bias type race-color\n",
      "dict_keys(['id', 'extrinsic_individual', 'extrinsic', 'SAME_individual', 'SAME', 'WEAT', 'gWEAT', 'DirectBias_individual', 'DirectBias', 'MAC_individual', 'MAC'])\n",
      "\n",
      "experiment 107 with bias type race-color\n",
      "dict_keys(['id', 'extrinsic_individual', 'extrinsic', 'SAME_individual', 'SAME', 'WEAT', 'gWEAT', 'DirectBias_individual', 'DirectBias', 'MAC_individual', 'MAC'])\n",
      "\n",
      "experiment 108 with bias type race-color\n",
      "dict_keys(['id', 'extrinsic_individual', 'extrinsic', 'SAME_individual', 'SAME', 'WEAT', 'gWEAT', 'DirectBias_individual', 'DirectBias', 'MAC_individual', 'MAC'])\n",
      "\n",
      "experiment 109 with bias type race-color\n",
      "dict_keys(['id', 'extrinsic_individual', 'extrinsic', 'SAME_individual', 'SAME', 'WEAT', 'gWEAT', 'DirectBias_individual', 'DirectBias', 'MAC_individual', 'MAC'])\n",
      "\n",
      "experiment 110 with bias type race-color\n",
      "dict_keys(['id', 'extrinsic_individual', 'extrinsic', 'SAME_individual', 'SAME', 'WEAT', 'gWEAT', 'DirectBias_individual', 'DirectBias', 'MAC_individual', 'MAC'])\n",
      "\n",
      "experiment 111 with bias type race-color\n",
      "dict_keys(['id', 'extrinsic_individual', 'extrinsic', 'SAME_individual', 'SAME', 'WEAT', 'gWEAT', 'DirectBias_individual', 'DirectBias', 'MAC_individual', 'MAC'])\n",
      "\n",
      "experiment 112 with bias type gender\n",
      "dict_keys(['id', 'extrinsic_individual', 'extrinsic', 'SAME_individual', 'SAME', 'WEAT_individual', 'WEAT', 'gWEAT', 'DirectBias_individual', 'DirectBias', 'MAC_individual', 'MAC'])\n",
      "\n",
      "experiment 113 with bias type gender\n",
      "dict_keys(['id', 'extrinsic_individual', 'extrinsic', 'SAME_individual', 'SAME', 'WEAT_individual', 'WEAT', 'gWEAT', 'DirectBias_individual', 'DirectBias', 'MAC_individual', 'MAC'])\n",
      "\n",
      "experiment 114 with bias type gender\n",
      "dict_keys(['id', 'extrinsic_individual', 'extrinsic', 'SAME_individual', 'SAME', 'WEAT_individual', 'WEAT', 'gWEAT', 'DirectBias_individual', 'DirectBias', 'MAC_individual', 'MAC'])\n",
      "\n",
      "experiment 115 with bias type gender\n",
      "dict_keys(['id', 'extrinsic_individual', 'extrinsic', 'SAME_individual', 'SAME', 'WEAT_individual', 'WEAT', 'gWEAT', 'DirectBias_individual', 'DirectBias', 'MAC_individual', 'MAC'])\n",
      "\n",
      "experiment 116 with bias type gender\n",
      "dict_keys(['id', 'extrinsic_individual', 'extrinsic', 'SAME_individual', 'SAME', 'WEAT_individual', 'WEAT', 'gWEAT', 'DirectBias_individual', 'DirectBias', 'MAC_individual', 'MAC'])\n",
      "\n",
      "experiment 117 with bias type gender\n",
      "dict_keys(['id', 'extrinsic_individual', 'extrinsic', 'SAME_individual', 'SAME', 'WEAT_individual', 'WEAT', 'gWEAT', 'DirectBias_individual', 'DirectBias', 'MAC_individual', 'MAC'])\n",
      "\n",
      "experiment 118 with bias type gender\n",
      "dict_keys(['id', 'extrinsic_individual', 'extrinsic', 'SAME_individual', 'SAME', 'WEAT_individual', 'WEAT', 'gWEAT', 'DirectBias_individual', 'DirectBias', 'MAC_individual', 'MAC'])\n",
      "\n",
      "experiment 119 with bias type gender\n",
      "dict_keys(['id', 'extrinsic_individual', 'extrinsic', 'SAME_individual', 'SAME', 'WEAT_individual', 'WEAT', 'gWEAT', 'DirectBias_individual', 'DirectBias', 'MAC_individual', 'MAC'])\n",
      "\n",
      "experiment 120 with bias type gender\n",
      "dict_keys(['id', 'extrinsic_individual', 'extrinsic', 'SAME_individual', 'SAME', 'WEAT_individual', 'WEAT', 'gWEAT', 'DirectBias_individual', 'DirectBias', 'MAC_individual', 'MAC'])\n",
      "\n",
      "experiment 121 with bias type gender\n",
      "dict_keys(['id', 'extrinsic_individual', 'extrinsic', 'SAME_individual', 'SAME', 'WEAT_individual', 'WEAT', 'gWEAT', 'DirectBias_individual', 'DirectBias', 'MAC_individual', 'MAC'])\n",
      "\n",
      "experiment 122 with bias type gender\n",
      "dict_keys(['id', 'extrinsic_individual', 'extrinsic', 'SAME_individual', 'SAME', 'WEAT_individual', 'WEAT', 'gWEAT', 'DirectBias_individual', 'DirectBias', 'MAC_individual', 'MAC'])\n",
      "\n",
      "experiment 123 with bias type gender\n",
      "dict_keys(['id', 'extrinsic_individual', 'extrinsic', 'SAME_individual', 'SAME', 'WEAT_individual', 'WEAT', 'gWEAT', 'DirectBias_individual', 'DirectBias', 'MAC_individual', 'MAC'])\n",
      "\n",
      "experiment 124 with bias type gender\n",
      "dict_keys(['id', 'extrinsic_individual', 'extrinsic', 'SAME_individual', 'SAME', 'WEAT_individual', 'WEAT', 'gWEAT', 'DirectBias_individual', 'DirectBias', 'MAC_individual', 'MAC'])\n",
      "\n",
      "experiment 125 with bias type gender\n",
      "dict_keys(['id', 'extrinsic_individual', 'extrinsic', 'SAME_individual', 'SAME', 'WEAT_individual', 'WEAT', 'gWEAT', 'DirectBias_individual', 'DirectBias', 'MAC_individual', 'MAC'])\n",
      "\n",
      "experiment 126 with bias type gender\n",
      "dict_keys(['id', 'extrinsic_individual', 'extrinsic', 'SAME_individual', 'SAME', 'WEAT_individual', 'WEAT', 'gWEAT', 'DirectBias_individual', 'DirectBias', 'MAC_individual', 'MAC'])\n",
      "\n",
      "experiment 127 with bias type gender\n",
      "dict_keys(['id', 'extrinsic_individual', 'extrinsic', 'SAME_individual', 'SAME', 'WEAT_individual', 'WEAT', 'gWEAT', 'DirectBias_individual', 'DirectBias', 'MAC_individual', 'MAC'])\n",
      "\n",
      "experiment 128 with bias type gender\n",
      "dict_keys(['id', 'extrinsic_individual', 'extrinsic', 'SAME_individual', 'SAME', 'WEAT_individual', 'WEAT', 'gWEAT', 'DirectBias_individual', 'DirectBias', 'MAC_individual', 'MAC'])\n",
      "\n",
      "experiment 129 with bias type gender\n",
      "dict_keys(['id', 'extrinsic_individual', 'extrinsic', 'SAME_individual', 'SAME', 'WEAT_individual', 'WEAT', 'gWEAT', 'DirectBias_individual', 'DirectBias', 'MAC_individual', 'MAC'])\n",
      "\n",
      "experiment 130 with bias type gender\n",
      "dict_keys(['id', 'extrinsic_individual', 'extrinsic', 'SAME_individual', 'SAME', 'WEAT_individual', 'WEAT', 'gWEAT', 'DirectBias_individual', 'DirectBias', 'MAC_individual', 'MAC'])\n",
      "\n",
      "experiment 131 with bias type gender\n",
      "dict_keys(['id', 'extrinsic_individual', 'extrinsic', 'SAME_individual', 'SAME', 'WEAT_individual', 'WEAT', 'gWEAT', 'DirectBias_individual', 'DirectBias', 'MAC_individual', 'MAC'])\n",
      "\n",
      "experiment 132 with bias type gender\n",
      "dict_keys(['id', 'extrinsic_individual', 'extrinsic', 'SAME_individual', 'SAME', 'WEAT_individual', 'WEAT', 'gWEAT', 'DirectBias_individual', 'DirectBias', 'MAC_individual', 'MAC'])\n",
      "\n",
      "experiment 133 with bias type gender\n",
      "dict_keys(['id', 'extrinsic_individual', 'extrinsic', 'SAME_individual', 'SAME', 'WEAT_individual', 'WEAT', 'gWEAT', 'DirectBias_individual', 'DirectBias', 'MAC_individual', 'MAC'])\n",
      "\n",
      "experiment 134 with bias type gender\n",
      "dict_keys(['id', 'extrinsic_individual', 'extrinsic', 'SAME_individual', 'SAME', 'WEAT_individual', 'WEAT', 'gWEAT', 'DirectBias_individual', 'DirectBias', 'MAC_individual', 'MAC'])\n",
      "\n",
      "experiment 135 with bias type gender\n",
      "dict_keys(['id', 'extrinsic_individual', 'extrinsic', 'SAME_individual', 'SAME', 'WEAT_individual', 'WEAT', 'gWEAT', 'DirectBias_individual', 'DirectBias', 'MAC_individual', 'MAC'])\n",
      "\n",
      "experiment 136 with bias type gender\n",
      "dict_keys(['id', 'extrinsic_individual', 'extrinsic', 'SAME_individual', 'SAME', 'WEAT_individual', 'WEAT', 'gWEAT', 'DirectBias_individual', 'DirectBias', 'MAC_individual', 'MAC'])\n",
      "\n",
      "experiment 137 with bias type gender\n",
      "dict_keys(['id', 'extrinsic_individual', 'extrinsic', 'SAME_individual', 'SAME', 'WEAT_individual', 'WEAT', 'gWEAT', 'DirectBias_individual', 'DirectBias', 'MAC_individual', 'MAC'])\n",
      "\n",
      "experiment 138 with bias type gender\n",
      "dict_keys(['id', 'extrinsic_individual', 'extrinsic', 'SAME_individual', 'SAME', 'WEAT_individual', 'WEAT', 'gWEAT', 'DirectBias_individual', 'DirectBias', 'MAC_individual', 'MAC'])\n",
      "\n",
      "experiment 139 with bias type gender\n",
      "dict_keys(['id', 'extrinsic_individual', 'extrinsic', 'SAME_individual', 'SAME', 'WEAT_individual', 'WEAT', 'gWEAT', 'DirectBias_individual', 'DirectBias', 'MAC_individual', 'MAC'])\n",
      "\n",
      "experiment 140 with bias type gender\n",
      "dict_keys(['id', 'extrinsic_individual', 'extrinsic', 'SAME_individual', 'SAME', 'WEAT_individual', 'WEAT', 'gWEAT', 'DirectBias_individual', 'DirectBias', 'MAC_individual', 'MAC'])\n",
      "\n",
      "experiment 141 with bias type gender\n",
      "dict_keys(['id', 'extrinsic_individual', 'extrinsic', 'SAME_individual', 'SAME', 'WEAT_individual', 'WEAT', 'gWEAT', 'DirectBias_individual', 'DirectBias', 'MAC_individual', 'MAC'])\n",
      "\n",
      "experiment 142 with bias type gender\n",
      "dict_keys(['id', 'extrinsic_individual', 'extrinsic', 'SAME_individual', 'SAME', 'WEAT_individual', 'WEAT', 'gWEAT', 'DirectBias_individual', 'DirectBias', 'MAC_individual', 'MAC'])\n",
      "\n",
      "experiment 143 with bias type gender\n",
      "dict_keys(['id', 'extrinsic_individual', 'extrinsic', 'SAME_individual', 'SAME', 'WEAT_individual', 'WEAT', 'gWEAT', 'DirectBias_individual', 'DirectBias', 'MAC_individual', 'MAC'])\n",
      "\n",
      "experiment 144 with bias type gender\n",
      "dict_keys(['id', 'extrinsic_individual', 'extrinsic', 'SAME_individual', 'SAME', 'WEAT_individual', 'WEAT', 'gWEAT', 'DirectBias_individual', 'DirectBias', 'MAC_individual', 'MAC'])\n",
      "\n",
      "experiment 145 with bias type gender\n",
      "dict_keys(['id', 'extrinsic_individual', 'extrinsic', 'SAME_individual', 'SAME', 'WEAT_individual', 'WEAT', 'gWEAT', 'DirectBias_individual', 'DirectBias', 'MAC_individual', 'MAC'])\n",
      "\n",
      "experiment 146 with bias type gender\n",
      "dict_keys(['id', 'extrinsic_individual', 'extrinsic', 'SAME_individual', 'SAME', 'WEAT_individual', 'WEAT', 'gWEAT', 'DirectBias_individual', 'DirectBias', 'MAC_individual', 'MAC'])\n",
      "\n",
      "experiment 147 with bias type gender\n",
      "dict_keys(['id', 'extrinsic_individual', 'extrinsic', 'SAME_individual', 'SAME', 'WEAT_individual', 'WEAT', 'gWEAT', 'DirectBias_individual', 'DirectBias', 'MAC_individual', 'MAC'])\n",
      "\n",
      "experiment 148 with bias type gender\n",
      "dict_keys(['id', 'extrinsic_individual', 'extrinsic', 'SAME_individual', 'SAME', 'WEAT_individual', 'WEAT', 'gWEAT', 'DirectBias_individual', 'DirectBias', 'MAC_individual', 'MAC'])\n",
      "\n",
      "experiment 149 with bias type gender\n",
      "dict_keys(['id', 'extrinsic_individual', 'extrinsic', 'SAME_individual', 'SAME', 'WEAT_individual', 'WEAT', 'gWEAT', 'DirectBias_individual', 'DirectBias', 'MAC_individual', 'MAC'])\n",
      "\n",
      "experiment 150 with bias type gender\n",
      "dict_keys(['id', 'extrinsic_individual', 'extrinsic', 'SAME_individual', 'SAME', 'WEAT_individual', 'WEAT', 'gWEAT', 'DirectBias_individual', 'DirectBias', 'MAC_individual', 'MAC'])\n",
      "\n",
      "experiment 151 with bias type gender\n",
      "dict_keys(['id', 'extrinsic_individual', 'extrinsic', 'SAME_individual', 'SAME', 'WEAT_individual', 'WEAT', 'gWEAT', 'DirectBias_individual', 'DirectBias', 'MAC_individual', 'MAC'])\n",
      "\n",
      "experiment 152 with bias type gender\n",
      "dict_keys(['id', 'extrinsic_individual', 'extrinsic', 'SAME_individual', 'SAME', 'WEAT_individual', 'WEAT', 'gWEAT', 'DirectBias_individual', 'DirectBias', 'MAC_individual', 'MAC'])\n",
      "\n",
      "experiment 153 with bias type gender\n",
      "dict_keys(['id', 'extrinsic_individual', 'extrinsic', 'SAME_individual', 'SAME', 'WEAT_individual', 'WEAT', 'gWEAT', 'DirectBias_individual', 'DirectBias', 'MAC_individual', 'MAC'])\n",
      "\n",
      "experiment 154 with bias type gender\n",
      "dict_keys(['id', 'extrinsic_individual', 'extrinsic', 'SAME_individual', 'SAME', 'WEAT_individual', 'WEAT', 'gWEAT', 'DirectBias_individual', 'DirectBias', 'MAC_individual', 'MAC'])\n",
      "\n",
      "experiment 155 with bias type gender\n",
      "dict_keys(['id', 'extrinsic_individual', 'extrinsic', 'SAME_individual', 'SAME', 'WEAT_individual', 'WEAT', 'gWEAT', 'DirectBias_individual', 'DirectBias', 'MAC_individual', 'MAC'])\n",
      "\n",
      "experiment 156 with bias type gender\n",
      "dict_keys(['id', 'extrinsic_individual', 'extrinsic', 'SAME_individual', 'SAME', 'WEAT_individual', 'WEAT', 'gWEAT', 'DirectBias_individual', 'DirectBias', 'MAC_individual', 'MAC'])\n",
      "\n",
      "experiment 157 with bias type gender\n",
      "dict_keys(['id', 'extrinsic_individual', 'extrinsic', 'SAME_individual', 'SAME', 'WEAT_individual', 'WEAT', 'gWEAT', 'DirectBias_individual', 'DirectBias', 'MAC_individual', 'MAC'])\n",
      "\n",
      "experiment 158 with bias type gender\n",
      "dict_keys(['id', 'extrinsic_individual', 'extrinsic', 'SAME_individual', 'SAME', 'WEAT_individual', 'WEAT', 'gWEAT', 'DirectBias_individual', 'DirectBias', 'MAC_individual', 'MAC'])\n",
      "\n",
      "experiment 159 with bias type gender\n",
      "dict_keys(['id', 'extrinsic_individual', 'extrinsic', 'SAME_individual', 'SAME', 'WEAT_individual', 'WEAT', 'gWEAT', 'DirectBias_individual', 'DirectBias', 'MAC_individual', 'MAC'])\n",
      "\n",
      "experiment 160 with bias type gender\n",
      "dict_keys(['id', 'extrinsic_individual', 'extrinsic', 'SAME_individual', 'SAME', 'WEAT_individual', 'WEAT', 'gWEAT', 'DirectBias_individual', 'DirectBias', 'MAC_individual', 'MAC'])\n",
      "\n",
      "experiment 161 with bias type gender\n",
      "dict_keys(['id', 'extrinsic_individual', 'extrinsic', 'SAME_individual', 'SAME', 'WEAT_individual', 'WEAT', 'gWEAT', 'DirectBias_individual', 'DirectBias', 'MAC_individual', 'MAC'])\n",
      "\n",
      "experiment 162 with bias type gender\n",
      "dict_keys(['id', 'extrinsic_individual', 'extrinsic', 'SAME_individual', 'SAME', 'WEAT_individual', 'WEAT', 'gWEAT', 'DirectBias_individual', 'DirectBias', 'MAC_individual', 'MAC'])\n",
      "\n",
      "experiment 163 with bias type gender\n",
      "dict_keys(['id', 'extrinsic_individual', 'extrinsic', 'SAME_individual', 'SAME', 'WEAT_individual', 'WEAT', 'gWEAT', 'DirectBias_individual', 'DirectBias', 'MAC_individual', 'MAC'])\n",
      "\n",
      "experiment 164 with bias type gender\n",
      "dict_keys(['id', 'extrinsic_individual', 'extrinsic', 'SAME_individual', 'SAME', 'WEAT_individual', 'WEAT', 'gWEAT', 'DirectBias_individual', 'DirectBias', 'MAC_individual', 'MAC'])\n",
      "\n",
      "experiment 165 with bias type gender\n",
      "dict_keys(['id', 'extrinsic_individual', 'extrinsic', 'SAME_individual', 'SAME', 'WEAT_individual', 'WEAT', 'gWEAT', 'DirectBias_individual', 'DirectBias', 'MAC_individual', 'MAC'])\n",
      "\n",
      "experiment 166 with bias type gender\n",
      "dict_keys(['id', 'extrinsic_individual', 'extrinsic', 'SAME_individual', 'SAME', 'WEAT_individual', 'WEAT', 'gWEAT', 'DirectBias_individual', 'DirectBias', 'MAC_individual', 'MAC'])\n",
      "\n",
      "experiment 167 with bias type gender\n",
      "dict_keys(['id', 'extrinsic_individual', 'extrinsic', 'SAME_individual', 'SAME', 'WEAT_individual', 'WEAT', 'gWEAT', 'DirectBias_individual', 'DirectBias', 'MAC_individual', 'MAC'])\n",
      "\n",
      "experiment 168 with bias type gender\n",
      "dict_keys(['id', 'extrinsic_individual', 'extrinsic', 'SAME_individual', 'SAME', 'WEAT_individual', 'WEAT', 'gWEAT', 'DirectBias_individual', 'DirectBias', 'MAC_individual', 'MAC'])\n",
      "\n",
      "experiment 169 with bias type gender\n",
      "dict_keys(['id', 'extrinsic_individual', 'extrinsic', 'SAME_individual', 'SAME', 'WEAT_individual', 'WEAT', 'gWEAT', 'DirectBias_individual', 'DirectBias', 'MAC_individual', 'MAC'])\n",
      "\n",
      "experiment 170 with bias type gender\n",
      "dict_keys(['id', 'extrinsic_individual', 'extrinsic', 'SAME_individual', 'SAME', 'WEAT_individual', 'WEAT', 'gWEAT', 'DirectBias_individual', 'DirectBias', 'MAC_individual', 'MAC'])\n",
      "\n",
      "experiment 171 with bias type gender\n",
      "dict_keys(['id', 'extrinsic_individual', 'extrinsic', 'SAME_individual', 'SAME', 'WEAT_individual', 'WEAT', 'gWEAT', 'DirectBias_individual', 'DirectBias', 'MAC_individual', 'MAC'])\n",
      "\n",
      "experiment 172 with bias type gender\n",
      "dict_keys(['id', 'extrinsic_individual', 'extrinsic', 'SAME_individual', 'SAME', 'WEAT_individual', 'WEAT', 'gWEAT', 'DirectBias_individual', 'DirectBias', 'MAC_individual', 'MAC'])\n",
      "\n",
      "experiment 173 with bias type gender\n",
      "dict_keys(['id', 'extrinsic_individual', 'extrinsic', 'SAME_individual', 'SAME', 'WEAT_individual', 'WEAT', 'gWEAT', 'DirectBias_individual', 'DirectBias', 'MAC_individual', 'MAC'])\n",
      "\n",
      "experiment 174 with bias type gender\n",
      "dict_keys(['id', 'extrinsic_individual', 'extrinsic', 'SAME_individual', 'SAME', 'WEAT_individual', 'WEAT', 'gWEAT', 'DirectBias_individual', 'DirectBias', 'MAC_individual', 'MAC'])\n",
      "\n",
      "experiment 175 with bias type gender\n",
      "dict_keys(['id', 'extrinsic_individual', 'extrinsic', 'SAME_individual', 'SAME', 'WEAT_individual', 'WEAT', 'gWEAT', 'DirectBias_individual', 'DirectBias', 'MAC_individual', 'MAC'])\n",
      "\n",
      "experiment 176 with bias type gender\n",
      "dict_keys(['id', 'extrinsic_individual', 'extrinsic', 'SAME_individual', 'SAME', 'WEAT_individual', 'WEAT', 'gWEAT', 'DirectBias_individual', 'DirectBias', 'MAC_individual', 'MAC'])\n",
      "\n",
      "experiment 177 with bias type gender\n",
      "dict_keys(['id', 'extrinsic_individual', 'extrinsic', 'SAME_individual', 'SAME', 'WEAT_individual', 'WEAT', 'gWEAT', 'DirectBias_individual', 'DirectBias', 'MAC_individual', 'MAC'])\n",
      "\n",
      "experiment 178 with bias type gender\n",
      "dict_keys(['id', 'extrinsic_individual', 'extrinsic', 'SAME_individual', 'SAME', 'WEAT_individual', 'WEAT', 'gWEAT', 'DirectBias_individual', 'DirectBias', 'MAC_individual', 'MAC'])\n",
      "\n",
      "experiment 179 with bias type gender\n",
      "dict_keys(['id', 'extrinsic_individual', 'extrinsic', 'SAME_individual', 'SAME', 'WEAT_individual', 'WEAT', 'gWEAT', 'DirectBias_individual', 'DirectBias', 'MAC_individual', 'MAC'])\n",
      "\n",
      "experiment 180 with bias type gender\n",
      "dict_keys(['id', 'extrinsic_individual', 'extrinsic', 'SAME_individual', 'SAME', 'WEAT_individual', 'WEAT', 'gWEAT', 'DirectBias_individual', 'DirectBias', 'MAC_individual', 'MAC'])\n",
      "\n",
      "experiment 181 with bias type gender\n",
      "dict_keys(['id', 'extrinsic_individual', 'extrinsic', 'SAME_individual', 'SAME', 'WEAT_individual', 'WEAT', 'gWEAT', 'DirectBias_individual', 'DirectBias', 'MAC_individual', 'MAC'])\n",
      "\n",
      "experiment 182 with bias type gender\n",
      "dict_keys(['id', 'extrinsic_individual', 'extrinsic', 'SAME_individual', 'SAME', 'WEAT_individual', 'WEAT', 'gWEAT', 'DirectBias_individual', 'DirectBias', 'MAC_individual', 'MAC'])\n",
      "\n",
      "experiment 183 with bias type gender\n",
      "dict_keys(['id', 'extrinsic_individual', 'extrinsic', 'SAME_individual', 'SAME', 'WEAT_individual', 'WEAT', 'gWEAT', 'DirectBias_individual', 'DirectBias', 'MAC_individual', 'MAC'])\n",
      "\n",
      "experiment 184 with bias type gender\n",
      "dict_keys(['id', 'extrinsic_individual', 'extrinsic', 'SAME_individual', 'SAME', 'WEAT_individual', 'WEAT', 'gWEAT', 'DirectBias_individual', 'DirectBias', 'MAC_individual', 'MAC'])\n",
      "\n",
      "experiment 185 with bias type gender\n",
      "dict_keys(['id', 'extrinsic_individual', 'extrinsic', 'SAME_individual', 'SAME', 'WEAT_individual', 'WEAT', 'gWEAT', 'DirectBias_individual', 'DirectBias', 'MAC_individual', 'MAC'])\n",
      "\n",
      "experiment 186 with bias type gender\n",
      "dict_keys(['id', 'extrinsic_individual', 'extrinsic', 'SAME_individual', 'SAME', 'WEAT_individual', 'WEAT', 'gWEAT', 'DirectBias_individual', 'DirectBias', 'MAC_individual', 'MAC'])\n",
      "\n",
      "experiment 187 with bias type gender\n",
      "dict_keys(['id', 'extrinsic_individual', 'extrinsic', 'SAME_individual', 'SAME', 'WEAT_individual', 'WEAT', 'gWEAT', 'DirectBias_individual', 'DirectBias', 'MAC_individual', 'MAC'])\n",
      "\n",
      "experiment 188 with bias type gender\n",
      "dict_keys(['id', 'extrinsic_individual', 'extrinsic', 'SAME_individual', 'SAME', 'WEAT_individual', 'WEAT', 'gWEAT', 'DirectBias_individual', 'DirectBias', 'MAC_individual', 'MAC'])\n",
      "\n",
      "experiment 189 with bias type gender\n",
      "dict_keys(['id', 'extrinsic_individual', 'extrinsic', 'SAME_individual', 'SAME', 'WEAT_individual', 'WEAT', 'gWEAT', 'DirectBias_individual', 'DirectBias', 'MAC_individual', 'MAC'])\n",
      "\n",
      "experiment 190 with bias type gender\n",
      "dict_keys(['id', 'extrinsic_individual', 'extrinsic', 'SAME_individual', 'SAME', 'WEAT_individual', 'WEAT', 'gWEAT', 'DirectBias_individual', 'DirectBias', 'MAC_individual', 'MAC'])\n",
      "\n",
      "experiment 191 with bias type gender\n",
      "dict_keys(['id', 'extrinsic_individual', 'extrinsic', 'SAME_individual', 'SAME', 'WEAT_individual', 'WEAT', 'gWEAT', 'DirectBias_individual', 'DirectBias', 'MAC_individual', 'MAC'])\n",
      "\n",
      "experiment 192 with bias type gender\n",
      "dict_keys(['id', 'extrinsic_individual', 'extrinsic', 'SAME_individual', 'SAME', 'WEAT_individual', 'WEAT', 'gWEAT', 'DirectBias_individual', 'DirectBias', 'MAC_individual', 'MAC'])\n",
      "\n",
      "experiment 193 with bias type gender\n",
      "dict_keys(['id', 'extrinsic_individual', 'extrinsic', 'SAME_individual', 'SAME', 'WEAT_individual', 'WEAT', 'gWEAT', 'DirectBias_individual', 'DirectBias', 'MAC_individual', 'MAC'])\n",
      "\n",
      "experiment 194 with bias type gender\n",
      "dict_keys(['id', 'extrinsic_individual', 'extrinsic', 'SAME_individual', 'SAME', 'WEAT_individual', 'WEAT', 'gWEAT', 'DirectBias_individual', 'DirectBias', 'MAC_individual', 'MAC'])\n",
      "\n",
      "experiment 195 with bias type gender\n",
      "dict_keys(['id', 'extrinsic_individual', 'extrinsic', 'SAME_individual', 'SAME', 'WEAT_individual', 'WEAT', 'gWEAT', 'DirectBias_individual', 'DirectBias', 'MAC_individual', 'MAC'])\n",
      "\n",
      "experiment 196 with bias type gender\n",
      "dict_keys(['id', 'extrinsic_individual', 'extrinsic', 'SAME_individual', 'SAME', 'WEAT_individual', 'WEAT', 'gWEAT', 'DirectBias_individual', 'DirectBias', 'MAC_individual', 'MAC'])\n",
      "\n",
      "experiment 197 with bias type gender\n",
      "dict_keys(['id', 'extrinsic_individual', 'extrinsic', 'SAME_individual', 'SAME', 'WEAT_individual', 'WEAT', 'gWEAT', 'DirectBias_individual', 'DirectBias', 'MAC_individual', 'MAC'])\n",
      "\n",
      "experiment 198 with bias type gender\n",
      "dict_keys(['id', 'extrinsic_individual', 'extrinsic', 'SAME_individual', 'SAME', 'WEAT_individual', 'WEAT', 'gWEAT', 'DirectBias_individual', 'DirectBias', 'MAC_individual', 'MAC'])\n",
      "\n",
      "experiment 199 with bias type gender\n",
      "dict_keys(['id', 'extrinsic_individual', 'extrinsic', 'SAME_individual', 'SAME', 'WEAT_individual', 'WEAT', 'gWEAT', 'DirectBias_individual', 'DirectBias', 'MAC_individual', 'MAC'])\n",
      "\n",
      "experiment 200 with bias type gender\n",
      "dict_keys(['id', 'extrinsic_individual', 'extrinsic', 'SAME_individual', 'SAME', 'WEAT_individual', 'WEAT', 'gWEAT', 'DirectBias_individual', 'DirectBias', 'MAC_individual', 'MAC'])\n",
      "\n",
      "experiment 201 with bias type gender\n",
      "dict_keys(['id', 'extrinsic_individual', 'extrinsic', 'SAME_individual', 'SAME', 'WEAT_individual', 'WEAT', 'gWEAT', 'DirectBias_individual', 'DirectBias', 'MAC_individual', 'MAC'])\n",
      "\n",
      "experiment 202 with bias type gender\n",
      "dict_keys(['id', 'extrinsic_individual', 'extrinsic', 'SAME_individual', 'SAME', 'WEAT_individual', 'WEAT', 'gWEAT', 'DirectBias_individual', 'DirectBias', 'MAC_individual', 'MAC'])\n",
      "\n",
      "experiment 203 with bias type gender\n",
      "dict_keys(['id', 'extrinsic_individual', 'extrinsic', 'SAME_individual', 'SAME', 'WEAT_individual', 'WEAT', 'gWEAT', 'DirectBias_individual', 'DirectBias', 'MAC_individual', 'MAC'])\n",
      "\n",
      "experiment 204 with bias type gender\n",
      "dict_keys(['id', 'extrinsic_individual', 'extrinsic', 'SAME_individual', 'SAME', 'WEAT_individual', 'WEAT', 'gWEAT', 'DirectBias_individual', 'DirectBias', 'MAC_individual', 'MAC'])\n",
      "\n",
      "experiment 205 with bias type gender\n",
      "dict_keys(['id', 'extrinsic_individual', 'extrinsic', 'SAME_individual', 'SAME', 'WEAT_individual', 'WEAT', 'gWEAT', 'DirectBias_individual', 'DirectBias', 'MAC_individual', 'MAC'])\n",
      "\n",
      "experiment 206 with bias type gender\n",
      "dict_keys(['id', 'extrinsic_individual', 'extrinsic', 'SAME_individual', 'SAME', 'WEAT_individual', 'WEAT', 'gWEAT', 'DirectBias_individual', 'DirectBias', 'MAC_individual', 'MAC'])\n",
      "\n",
      "experiment 207 with bias type gender\n",
      "dict_keys(['id', 'extrinsic_individual', 'extrinsic', 'SAME_individual', 'SAME', 'WEAT_individual', 'WEAT', 'gWEAT', 'DirectBias_individual', 'DirectBias', 'MAC_individual', 'MAC'])\n",
      "\n",
      "experiment 208 with bias type gender\n",
      "dict_keys(['id', 'extrinsic_individual', 'extrinsic', 'SAME_individual', 'SAME', 'WEAT_individual', 'WEAT', 'gWEAT', 'DirectBias_individual', 'DirectBias', 'MAC_individual', 'MAC'])\n",
      "\n",
      "experiment 209 with bias type gender\n",
      "dict_keys(['id', 'extrinsic_individual', 'extrinsic', 'SAME_individual', 'SAME', 'WEAT_individual', 'WEAT', 'gWEAT', 'DirectBias_individual', 'DirectBias', 'MAC_individual', 'MAC'])\n",
      "\n",
      "experiment 210 with bias type gender\n",
      "dict_keys(['id', 'extrinsic_individual', 'extrinsic', 'SAME_individual', 'SAME', 'WEAT_individual', 'WEAT', 'gWEAT', 'DirectBias_individual', 'DirectBias', 'MAC_individual', 'MAC'])\n",
      "\n",
      "experiment 211 with bias type gender\n",
      "dict_keys(['id', 'extrinsic_individual', 'extrinsic', 'SAME_individual', 'SAME', 'WEAT_individual', 'WEAT', 'gWEAT', 'DirectBias_individual', 'DirectBias', 'MAC_individual', 'MAC'])\n",
      "\n",
      "experiment 212 with bias type gender\n",
      "dict_keys(['id', 'extrinsic_individual', 'extrinsic', 'SAME_individual', 'SAME', 'WEAT_individual', 'WEAT', 'gWEAT', 'DirectBias_individual', 'DirectBias', 'MAC_individual', 'MAC'])\n",
      "\n",
      "experiment 213 with bias type gender\n",
      "dict_keys(['id', 'extrinsic_individual', 'extrinsic', 'SAME_individual', 'SAME', 'WEAT_individual', 'WEAT', 'gWEAT', 'DirectBias_individual', 'DirectBias', 'MAC_individual', 'MAC'])\n",
      "\n",
      "experiment 214 with bias type gender\n",
      "dict_keys(['id', 'extrinsic_individual', 'extrinsic', 'SAME_individual', 'SAME', 'WEAT_individual', 'WEAT', 'gWEAT', 'DirectBias_individual', 'DirectBias', 'MAC_individual', 'MAC'])\n",
      "\n",
      "experiment 215 with bias type gender\n",
      "dict_keys(['id', 'extrinsic_individual', 'extrinsic', 'SAME_individual', 'SAME', 'WEAT_individual', 'WEAT', 'gWEAT', 'DirectBias_individual', 'DirectBias', 'MAC_individual', 'MAC'])\n",
      "\n",
      "experiment 216 with bias type gender\n",
      "dict_keys(['id', 'extrinsic_individual', 'extrinsic', 'SAME_individual', 'SAME', 'WEAT_individual', 'WEAT', 'gWEAT', 'DirectBias_individual', 'DirectBias', 'MAC_individual', 'MAC'])\n",
      "\n",
      "experiment 217 with bias type gender\n",
      "dict_keys(['id', 'extrinsic_individual', 'extrinsic', 'SAME_individual', 'SAME', 'WEAT_individual', 'WEAT', 'gWEAT', 'DirectBias_individual', 'DirectBias', 'MAC_individual', 'MAC'])\n",
      "\n",
      "experiment 218 with bias type gender\n",
      "dict_keys(['id', 'extrinsic_individual', 'extrinsic', 'SAME_individual', 'SAME', 'WEAT_individual', 'WEAT', 'gWEAT', 'DirectBias_individual', 'DirectBias', 'MAC_individual', 'MAC'])\n",
      "\n",
      "experiment 219 with bias type gender\n",
      "dict_keys(['id', 'extrinsic_individual', 'extrinsic', 'SAME_individual', 'SAME', 'WEAT_individual', 'WEAT', 'gWEAT', 'DirectBias_individual', 'DirectBias', 'MAC_individual', 'MAC'])\n",
      "\n",
      "experiment 220 with bias type gender\n",
      "dict_keys(['id', 'extrinsic_individual', 'extrinsic', 'SAME_individual', 'SAME', 'WEAT_individual', 'WEAT', 'gWEAT', 'DirectBias_individual', 'DirectBias', 'MAC_individual', 'MAC'])\n",
      "\n",
      "experiment 221 with bias type gender\n",
      "dict_keys(['id', 'extrinsic_individual', 'extrinsic', 'SAME_individual', 'SAME', 'WEAT_individual', 'WEAT', 'gWEAT', 'DirectBias_individual', 'DirectBias', 'MAC_individual', 'MAC'])\n",
      "\n",
      "experiment 222 with bias type gender\n",
      "dict_keys(['id', 'extrinsic_individual', 'extrinsic', 'SAME_individual', 'SAME', 'WEAT_individual', 'WEAT', 'gWEAT', 'DirectBias_individual', 'DirectBias', 'MAC_individual', 'MAC'])\n",
      "\n",
      "experiment 223 with bias type gender\n",
      "dict_keys(['id', 'extrinsic_individual', 'extrinsic', 'SAME_individual', 'SAME', 'WEAT_individual', 'WEAT', 'gWEAT', 'DirectBias_individual', 'DirectBias', 'MAC_individual', 'MAC'])\n",
      "\n",
      "experiment 224 with bias type religion\n",
      "dict_keys(['id', 'extrinsic_individual', 'extrinsic', 'SAME_individual', 'SAME', 'WEAT', 'gWEAT', 'DirectBias_individual', 'DirectBias', 'MAC_individual', 'MAC'])\n",
      "\n",
      "experiment 225 with bias type religion\n",
      "dict_keys(['id', 'extrinsic_individual', 'extrinsic', 'SAME_individual', 'SAME', 'WEAT', 'gWEAT', 'DirectBias_individual', 'DirectBias', 'MAC_individual', 'MAC'])\n",
      "\n",
      "experiment 226 with bias type religion\n",
      "dict_keys(['id', 'extrinsic_individual', 'extrinsic', 'SAME_individual', 'SAME', 'WEAT', 'gWEAT', 'DirectBias_individual', 'DirectBias', 'MAC_individual', 'MAC'])\n",
      "\n",
      "experiment 227 with bias type religion\n",
      "dict_keys(['id', 'extrinsic_individual', 'extrinsic', 'SAME_individual', 'SAME', 'WEAT', 'gWEAT', 'DirectBias_individual', 'DirectBias', 'MAC_individual', 'MAC'])\n",
      "\n",
      "experiment 228 with bias type religion\n",
      "dict_keys(['id', 'extrinsic_individual', 'extrinsic', 'SAME_individual', 'SAME', 'WEAT', 'gWEAT', 'DirectBias_individual', 'DirectBias', 'MAC_individual', 'MAC'])\n",
      "\n",
      "experiment 229 with bias type religion\n",
      "dict_keys(['id', 'extrinsic_individual', 'extrinsic', 'SAME_individual', 'SAME', 'WEAT', 'gWEAT', 'DirectBias_individual', 'DirectBias', 'MAC_individual', 'MAC'])\n",
      "\n",
      "experiment 230 with bias type religion\n",
      "dict_keys(['id', 'extrinsic_individual', 'extrinsic', 'SAME_individual', 'SAME', 'WEAT', 'gWEAT', 'DirectBias_individual', 'DirectBias', 'MAC_individual', 'MAC'])\n",
      "\n",
      "experiment 231 with bias type religion\n",
      "dict_keys(['id', 'extrinsic_individual', 'extrinsic', 'SAME_individual', 'SAME', 'WEAT', 'gWEAT', 'DirectBias_individual', 'DirectBias', 'MAC_individual', 'MAC'])\n",
      "\n",
      "experiment 232 with bias type religion\n",
      "dict_keys(['id', 'extrinsic_individual', 'extrinsic', 'SAME_individual', 'SAME', 'WEAT', 'gWEAT', 'DirectBias_individual', 'DirectBias', 'MAC_individual', 'MAC'])\n",
      "\n",
      "experiment 233 with bias type religion\n",
      "dict_keys(['id', 'extrinsic_individual', 'extrinsic', 'SAME_individual', 'SAME', 'WEAT', 'gWEAT', 'DirectBias_individual', 'DirectBias', 'MAC_individual', 'MAC'])\n",
      "\n",
      "experiment 234 with bias type religion\n",
      "dict_keys(['id', 'extrinsic_individual', 'extrinsic', 'SAME_individual', 'SAME', 'WEAT', 'gWEAT', 'DirectBias_individual', 'DirectBias', 'MAC_individual', 'MAC'])\n",
      "\n",
      "experiment 235 with bias type religion\n",
      "dict_keys(['id', 'extrinsic_individual', 'extrinsic', 'SAME_individual', 'SAME', 'WEAT', 'gWEAT', 'DirectBias_individual', 'DirectBias', 'MAC_individual', 'MAC'])\n",
      "\n",
      "experiment 236 with bias type religion\n",
      "dict_keys(['id', 'extrinsic_individual', 'extrinsic', 'SAME_individual', 'SAME', 'WEAT', 'gWEAT', 'DirectBias_individual', 'DirectBias', 'MAC_individual', 'MAC'])\n",
      "\n",
      "experiment 237 with bias type religion\n",
      "dict_keys(['id', 'extrinsic_individual', 'extrinsic', 'SAME_individual', 'SAME', 'WEAT', 'gWEAT', 'DirectBias_individual', 'DirectBias', 'MAC_individual', 'MAC'])\n",
      "\n",
      "experiment 238 with bias type religion\n",
      "dict_keys(['id', 'extrinsic_individual', 'extrinsic', 'SAME_individual', 'SAME', 'WEAT', 'gWEAT', 'DirectBias_individual', 'DirectBias', 'MAC_individual', 'MAC'])\n",
      "\n",
      "experiment 239 with bias type religion\n",
      "dict_keys(['id', 'extrinsic_individual', 'extrinsic', 'SAME_individual', 'SAME', 'WEAT', 'gWEAT', 'DirectBias_individual', 'DirectBias', 'MAC_individual', 'MAC'])\n",
      "\n",
      "experiment 240 with bias type religion\n",
      "dict_keys(['id', 'extrinsic_individual', 'extrinsic', 'SAME_individual', 'SAME', 'WEAT', 'gWEAT', 'DirectBias_individual', 'DirectBias', 'MAC_individual', 'MAC'])\n",
      "\n",
      "experiment 241 with bias type religion\n",
      "dict_keys(['id', 'extrinsic_individual', 'extrinsic', 'SAME_individual', 'SAME', 'WEAT', 'gWEAT', 'DirectBias_individual', 'DirectBias', 'MAC_individual', 'MAC'])\n",
      "\n",
      "experiment 242 with bias type religion\n",
      "dict_keys(['id', 'extrinsic_individual', 'extrinsic', 'SAME_individual', 'SAME', 'WEAT', 'gWEAT', 'DirectBias_individual', 'DirectBias', 'MAC_individual', 'MAC'])\n",
      "\n",
      "experiment 243 with bias type religion\n",
      "dict_keys(['id', 'extrinsic_individual', 'extrinsic', 'SAME_individual', 'SAME', 'WEAT', 'gWEAT', 'DirectBias_individual', 'DirectBias', 'MAC_individual', 'MAC'])\n",
      "\n",
      "experiment 244 with bias type religion\n",
      "dict_keys(['id', 'extrinsic_individual', 'extrinsic', 'SAME_individual', 'SAME', 'WEAT', 'gWEAT', 'DirectBias_individual', 'DirectBias', 'MAC_individual', 'MAC'])\n",
      "\n",
      "experiment 245 with bias type religion\n",
      "dict_keys(['id', 'extrinsic_individual', 'extrinsic', 'SAME_individual', 'SAME', 'WEAT', 'gWEAT', 'DirectBias_individual', 'DirectBias', 'MAC_individual', 'MAC'])\n",
      "\n",
      "experiment 246 with bias type religion\n",
      "dict_keys(['id', 'extrinsic_individual', 'extrinsic', 'SAME_individual', 'SAME', 'WEAT', 'gWEAT', 'DirectBias_individual', 'DirectBias', 'MAC_individual', 'MAC'])\n",
      "\n",
      "experiment 247 with bias type religion\n",
      "dict_keys(['id', 'extrinsic_individual', 'extrinsic', 'SAME_individual', 'SAME', 'WEAT', 'gWEAT', 'DirectBias_individual', 'DirectBias', 'MAC_individual', 'MAC'])\n",
      "\n",
      "experiment 248 with bias type religion\n",
      "dict_keys(['id', 'extrinsic_individual', 'extrinsic', 'SAME_individual', 'SAME', 'WEAT', 'gWEAT', 'DirectBias_individual', 'DirectBias', 'MAC_individual', 'MAC'])\n",
      "\n",
      "experiment 249 with bias type religion\n",
      "dict_keys(['id', 'extrinsic_individual', 'extrinsic', 'SAME_individual', 'SAME', 'WEAT', 'gWEAT', 'DirectBias_individual', 'DirectBias', 'MAC_individual', 'MAC'])\n",
      "\n",
      "experiment 250 with bias type religion\n",
      "dict_keys(['id', 'extrinsic_individual', 'extrinsic', 'SAME_individual', 'SAME', 'WEAT', 'gWEAT', 'DirectBias_individual', 'DirectBias', 'MAC_individual', 'MAC'])\n",
      "\n",
      "experiment 251 with bias type religion\n",
      "dict_keys(['id', 'extrinsic_individual', 'extrinsic', 'SAME_individual', 'SAME', 'WEAT', 'gWEAT', 'DirectBias_individual', 'DirectBias', 'MAC_individual', 'MAC'])\n",
      "\n",
      "experiment 252 with bias type religion\n",
      "dict_keys(['id', 'extrinsic_individual', 'extrinsic', 'SAME_individual', 'SAME', 'WEAT', 'gWEAT', 'DirectBias_individual', 'DirectBias', 'MAC_individual', 'MAC'])\n",
      "\n",
      "experiment 253 with bias type religion\n",
      "dict_keys(['id', 'extrinsic_individual', 'extrinsic', 'SAME_individual', 'SAME', 'WEAT', 'gWEAT', 'DirectBias_individual', 'DirectBias', 'MAC_individual', 'MAC'])\n",
      "\n",
      "experiment 254 with bias type religion\n",
      "dict_keys(['id', 'extrinsic_individual', 'extrinsic', 'SAME_individual', 'SAME', 'WEAT', 'gWEAT', 'DirectBias_individual', 'DirectBias', 'MAC_individual', 'MAC'])\n",
      "\n",
      "experiment 255 with bias type religion\n",
      "dict_keys(['id', 'extrinsic_individual', 'extrinsic', 'SAME_individual', 'SAME', 'WEAT', 'gWEAT', 'DirectBias_individual', 'DirectBias', 'MAC_individual', 'MAC'])\n",
      "\n",
      "experiment 256 with bias type religion\n",
      "dict_keys(['id', 'extrinsic_individual', 'extrinsic', 'SAME_individual', 'SAME', 'WEAT', 'gWEAT', 'DirectBias_individual', 'DirectBias', 'MAC_individual', 'MAC'])\n",
      "\n",
      "experiment 257 with bias type religion\n",
      "dict_keys(['id', 'extrinsic_individual', 'extrinsic', 'SAME_individual', 'SAME', 'WEAT', 'gWEAT', 'DirectBias_individual', 'DirectBias', 'MAC_individual', 'MAC'])\n",
      "\n",
      "experiment 258 with bias type religion\n",
      "dict_keys(['id', 'extrinsic_individual', 'extrinsic', 'SAME_individual', 'SAME', 'WEAT', 'gWEAT', 'DirectBias_individual', 'DirectBias', 'MAC_individual', 'MAC'])\n",
      "\n",
      "experiment 259 with bias type religion\n",
      "dict_keys(['id', 'extrinsic_individual', 'extrinsic', 'SAME_individual', 'SAME', 'WEAT', 'gWEAT', 'DirectBias_individual', 'DirectBias', 'MAC_individual', 'MAC'])\n",
      "\n",
      "experiment 260 with bias type religion\n",
      "dict_keys(['id', 'extrinsic_individual', 'extrinsic', 'SAME_individual', 'SAME', 'WEAT', 'gWEAT', 'DirectBias_individual', 'DirectBias', 'MAC_individual', 'MAC'])\n",
      "\n",
      "experiment 261 with bias type religion\n",
      "dict_keys(['id', 'extrinsic_individual', 'extrinsic', 'SAME_individual', 'SAME', 'WEAT', 'gWEAT', 'DirectBias_individual', 'DirectBias', 'MAC_individual', 'MAC'])\n",
      "\n",
      "experiment 262 with bias type religion\n",
      "dict_keys(['id', 'extrinsic_individual', 'extrinsic', 'SAME_individual', 'SAME', 'WEAT', 'gWEAT', 'DirectBias_individual', 'DirectBias', 'MAC_individual', 'MAC'])\n",
      "\n",
      "experiment 263 with bias type religion\n",
      "dict_keys(['id', 'extrinsic_individual', 'extrinsic', 'SAME_individual', 'SAME', 'WEAT', 'gWEAT', 'DirectBias_individual', 'DirectBias', 'MAC_individual', 'MAC'])\n",
      "\n",
      "experiment 264 with bias type religion\n",
      "dict_keys(['id', 'extrinsic_individual', 'extrinsic', 'SAME_individual', 'SAME', 'WEAT', 'gWEAT', 'DirectBias_individual', 'DirectBias', 'MAC_individual', 'MAC'])\n",
      "\n",
      "experiment 265 with bias type religion\n",
      "dict_keys(['id', 'extrinsic_individual', 'extrinsic', 'SAME_individual', 'SAME', 'WEAT', 'gWEAT', 'DirectBias_individual', 'DirectBias', 'MAC_individual', 'MAC'])\n",
      "\n",
      "experiment 266 with bias type religion\n",
      "dict_keys(['id', 'extrinsic_individual', 'extrinsic', 'SAME_individual', 'SAME', 'WEAT', 'gWEAT', 'DirectBias_individual', 'DirectBias', 'MAC_individual', 'MAC'])\n",
      "\n",
      "experiment 267 with bias type religion\n",
      "dict_keys(['id', 'extrinsic_individual', 'extrinsic', 'SAME_individual', 'SAME', 'WEAT', 'gWEAT', 'DirectBias_individual', 'DirectBias', 'MAC_individual', 'MAC'])\n",
      "\n",
      "experiment 268 with bias type religion\n",
      "dict_keys(['id', 'extrinsic_individual', 'extrinsic', 'SAME_individual', 'SAME', 'WEAT', 'gWEAT', 'DirectBias_individual', 'DirectBias', 'MAC_individual', 'MAC'])\n",
      "\n",
      "experiment 269 with bias type religion\n",
      "dict_keys(['id', 'extrinsic_individual', 'extrinsic', 'SAME_individual', 'SAME', 'WEAT', 'gWEAT', 'DirectBias_individual', 'DirectBias', 'MAC_individual', 'MAC'])\n",
      "\n",
      "experiment 270 with bias type religion\n",
      "dict_keys(['id', 'extrinsic_individual', 'extrinsic', 'SAME_individual', 'SAME', 'WEAT', 'gWEAT', 'DirectBias_individual', 'DirectBias', 'MAC_individual', 'MAC'])\n",
      "\n",
      "experiment 271 with bias type religion\n",
      "dict_keys(['id', 'extrinsic_individual', 'extrinsic', 'SAME_individual', 'SAME', 'WEAT', 'gWEAT', 'DirectBias_individual', 'DirectBias', 'MAC_individual', 'MAC'])\n",
      "\n",
      "experiment 272 with bias type religion\n",
      "dict_keys(['id', 'extrinsic_individual', 'extrinsic', 'SAME_individual', 'SAME', 'WEAT', 'gWEAT', 'DirectBias_individual', 'DirectBias', 'MAC_individual', 'MAC'])\n",
      "\n",
      "experiment 273 with bias type religion\n",
      "dict_keys(['id', 'extrinsic_individual', 'extrinsic', 'SAME_individual', 'SAME', 'WEAT', 'gWEAT', 'DirectBias_individual', 'DirectBias', 'MAC_individual', 'MAC'])\n",
      "\n",
      "experiment 274 with bias type religion\n",
      "dict_keys(['id', 'extrinsic_individual', 'extrinsic', 'SAME_individual', 'SAME', 'WEAT', 'gWEAT', 'DirectBias_individual', 'DirectBias', 'MAC_individual', 'MAC'])\n",
      "\n",
      "experiment 275 with bias type religion\n",
      "dict_keys(['id', 'extrinsic_individual', 'extrinsic', 'SAME_individual', 'SAME', 'WEAT', 'gWEAT', 'DirectBias_individual', 'DirectBias', 'MAC_individual', 'MAC'])\n",
      "\n",
      "experiment 276 with bias type religion\n",
      "dict_keys(['id', 'extrinsic_individual', 'extrinsic', 'SAME_individual', 'SAME', 'WEAT', 'gWEAT', 'DirectBias_individual', 'DirectBias', 'MAC_individual', 'MAC'])\n",
      "\n",
      "experiment 277 with bias type religion\n",
      "dict_keys(['id', 'extrinsic_individual', 'extrinsic', 'SAME_individual', 'SAME', 'WEAT', 'gWEAT', 'DirectBias_individual', 'DirectBias', 'MAC_individual', 'MAC'])\n",
      "\n",
      "experiment 278 with bias type religion\n",
      "dict_keys(['id', 'extrinsic_individual', 'extrinsic', 'SAME_individual', 'SAME', 'WEAT', 'gWEAT', 'DirectBias_individual', 'DirectBias', 'MAC_individual', 'MAC'])\n",
      "\n",
      "experiment 279 with bias type religion\n",
      "dict_keys(['id', 'extrinsic_individual', 'extrinsic', 'SAME_individual', 'SAME', 'WEAT', 'gWEAT', 'DirectBias_individual', 'DirectBias', 'MAC_individual', 'MAC'])\n",
      "\n",
      "experiment 280 with bias type religion\n",
      "dict_keys(['id', 'extrinsic_individual', 'extrinsic', 'SAME_individual', 'SAME', 'WEAT', 'gWEAT', 'DirectBias_individual', 'DirectBias', 'MAC_individual', 'MAC'])\n",
      "\n",
      "experiment 281 with bias type religion\n",
      "dict_keys(['id', 'extrinsic_individual', 'extrinsic', 'SAME_individual', 'SAME', 'WEAT', 'gWEAT', 'DirectBias_individual', 'DirectBias', 'MAC_individual', 'MAC'])\n",
      "\n",
      "experiment 282 with bias type religion\n",
      "dict_keys(['id', 'extrinsic_individual', 'extrinsic', 'SAME_individual', 'SAME', 'WEAT', 'gWEAT', 'DirectBias_individual', 'DirectBias', 'MAC_individual', 'MAC'])\n",
      "\n",
      "experiment 283 with bias type religion\n",
      "dict_keys(['id', 'extrinsic_individual', 'extrinsic', 'SAME_individual', 'SAME', 'WEAT', 'gWEAT', 'DirectBias_individual', 'DirectBias', 'MAC_individual', 'MAC'])\n",
      "\n",
      "experiment 284 with bias type religion\n",
      "dict_keys(['id', 'extrinsic_individual', 'extrinsic', 'SAME_individual', 'SAME', 'WEAT', 'gWEAT', 'DirectBias_individual', 'DirectBias', 'MAC_individual', 'MAC'])\n",
      "\n",
      "experiment 285 with bias type religion\n",
      "dict_keys(['id', 'extrinsic_individual', 'extrinsic', 'SAME_individual', 'SAME', 'WEAT', 'gWEAT', 'DirectBias_individual', 'DirectBias', 'MAC_individual', 'MAC'])\n",
      "\n",
      "experiment 286 with bias type religion\n",
      "dict_keys(['id', 'extrinsic_individual', 'extrinsic', 'SAME_individual', 'SAME', 'WEAT', 'gWEAT', 'DirectBias_individual', 'DirectBias', 'MAC_individual', 'MAC'])\n",
      "\n",
      "experiment 287 with bias type religion\n",
      "dict_keys(['id', 'extrinsic_individual', 'extrinsic', 'SAME_individual', 'SAME', 'WEAT', 'gWEAT', 'DirectBias_individual', 'DirectBias', 'MAC_individual', 'MAC'])\n",
      "\n",
      "experiment 288 with bias type religion\n",
      "dict_keys(['id', 'extrinsic_individual', 'extrinsic', 'SAME_individual', 'SAME', 'WEAT', 'gWEAT', 'DirectBias_individual', 'DirectBias', 'MAC_individual', 'MAC'])\n",
      "\n",
      "experiment 289 with bias type religion\n",
      "dict_keys(['id', 'extrinsic_individual', 'extrinsic', 'SAME_individual', 'SAME', 'WEAT', 'gWEAT', 'DirectBias_individual', 'DirectBias', 'MAC_individual', 'MAC'])\n",
      "\n",
      "experiment 290 with bias type religion\n",
      "dict_keys(['id', 'extrinsic_individual', 'extrinsic', 'SAME_individual', 'SAME', 'WEAT', 'gWEAT', 'DirectBias_individual', 'DirectBias', 'MAC_individual', 'MAC'])\n",
      "\n",
      "experiment 291 with bias type religion\n",
      "dict_keys(['id', 'extrinsic_individual', 'extrinsic', 'SAME_individual', 'SAME', 'WEAT', 'gWEAT', 'DirectBias_individual', 'DirectBias', 'MAC_individual', 'MAC'])\n",
      "\n",
      "experiment 292 with bias type religion\n",
      "dict_keys(['id', 'extrinsic_individual', 'extrinsic', 'SAME_individual', 'SAME', 'WEAT', 'gWEAT', 'DirectBias_individual', 'DirectBias', 'MAC_individual', 'MAC'])\n",
      "\n",
      "experiment 293 with bias type religion\n",
      "dict_keys(['id', 'extrinsic_individual', 'extrinsic', 'SAME_individual', 'SAME', 'WEAT', 'gWEAT', 'DirectBias_individual', 'DirectBias', 'MAC_individual', 'MAC'])\n",
      "\n",
      "experiment 294 with bias type religion\n",
      "dict_keys(['id', 'extrinsic_individual', 'extrinsic', 'SAME_individual', 'SAME', 'WEAT', 'gWEAT', 'DirectBias_individual', 'DirectBias', 'MAC_individual', 'MAC'])\n",
      "extrinsic SAME R=0.48108115359149045 (p=0.0001745835434839214)\n",
      "extrinsic DirectBias R=0.4396342030486816 (p=0.000698602156831172)\n",
      "\n",
      "experiment 295 with bias type religion\n",
      "dict_keys(['id', 'extrinsic_individual', 'extrinsic', 'SAME_individual', 'SAME', 'WEAT', 'gWEAT', 'DirectBias_individual', 'DirectBias', 'MAC_individual', 'MAC'])\n",
      "extrinsic SAME R=0.48108115359149045 (p=0.0001745835434839214)\n",
      "extrinsic DirectBias R=0.4396342030486816 (p=0.000698602156831172)\n",
      "\n",
      "experiment 296 with bias type religion\n",
      "dict_keys(['id', 'extrinsic_individual', 'extrinsic', 'SAME_individual', 'SAME', 'WEAT', 'gWEAT', 'DirectBias_individual', 'DirectBias', 'MAC_individual', 'MAC'])\n",
      "extrinsic SAME R=0.48108115359149045 (p=0.0001745835434839214)\n",
      "extrinsic DirectBias R=0.4396342030486816 (p=0.000698602156831172)\n",
      "\n",
      "experiment 297 with bias type religion\n",
      "dict_keys(['id', 'extrinsic_individual', 'extrinsic', 'SAME_individual', 'SAME', 'WEAT', 'gWEAT', 'DirectBias_individual', 'DirectBias', 'MAC_individual', 'MAC'])\n",
      "extrinsic SAME R=0.48108115359149045 (p=0.0001745835434839214)\n",
      "extrinsic DirectBias R=0.4396342030486816 (p=0.000698602156831172)\n",
      "\n",
      "experiment 298 with bias type religion\n",
      "dict_keys(['id', 'extrinsic_individual', 'extrinsic', 'SAME_individual', 'SAME', 'WEAT', 'gWEAT', 'DirectBias_individual', 'DirectBias', 'MAC_individual', 'MAC'])\n",
      "extrinsic SAME R=0.48108115359149045 (p=0.0001745835434839214)\n",
      "extrinsic DirectBias R=0.4396342030486816 (p=0.000698602156831172)\n",
      "\n",
      "experiment 299 with bias type religion\n",
      "dict_keys(['id', 'extrinsic_individual', 'extrinsic', 'SAME_individual', 'SAME', 'WEAT', 'gWEAT', 'DirectBias_individual', 'DirectBias', 'MAC_individual', 'MAC'])\n",
      "extrinsic SAME R=0.48108115359149045 (p=0.0001745835434839214)\n",
      "extrinsic DirectBias R=0.4396342030486816 (p=0.000698602156831172)\n",
      "\n",
      "experiment 300 with bias type religion\n",
      "dict_keys(['id', 'extrinsic_individual', 'extrinsic', 'SAME_individual', 'SAME', 'WEAT', 'gWEAT', 'DirectBias_individual', 'DirectBias', 'MAC_individual', 'MAC'])\n",
      "extrinsic SAME R=0.48108115359149045 (p=0.0001745835434839214)\n",
      "extrinsic DirectBias R=0.4396342030486816 (p=0.000698602156831172)\n",
      "\n",
      "experiment 301 with bias type religion\n",
      "dict_keys(['id', 'extrinsic_individual', 'extrinsic', 'SAME_individual', 'SAME', 'WEAT', 'gWEAT', 'DirectBias_individual', 'DirectBias', 'MAC_individual', 'MAC'])\n",
      "\n",
      "experiment 302 with bias type religion\n",
      "dict_keys(['id', 'extrinsic_individual', 'extrinsic', 'SAME_individual', 'SAME', 'WEAT', 'gWEAT', 'DirectBias_individual', 'DirectBias', 'MAC_individual', 'MAC'])\n",
      "\n",
      "experiment 303 with bias type religion\n",
      "dict_keys(['id', 'extrinsic_individual', 'extrinsic', 'SAME_individual', 'SAME', 'WEAT', 'gWEAT', 'DirectBias_individual', 'DirectBias', 'MAC_individual', 'MAC'])\n",
      "\n",
      "experiment 304 with bias type religion\n",
      "dict_keys(['id', 'extrinsic_individual', 'extrinsic', 'SAME_individual', 'SAME', 'WEAT', 'gWEAT', 'DirectBias_individual', 'DirectBias', 'MAC_individual', 'MAC'])\n",
      "\n",
      "experiment 305 with bias type religion\n",
      "dict_keys(['id', 'extrinsic_individual', 'extrinsic', 'SAME_individual', 'SAME', 'WEAT', 'gWEAT', 'DirectBias_individual', 'DirectBias', 'MAC_individual', 'MAC'])\n",
      "\n",
      "experiment 306 with bias type religion\n",
      "dict_keys(['id', 'extrinsic_individual', 'extrinsic', 'SAME_individual', 'SAME', 'WEAT', 'gWEAT', 'DirectBias_individual', 'DirectBias', 'MAC_individual', 'MAC'])\n",
      "\n",
      "experiment 307 with bias type religion\n",
      "dict_keys(['id', 'extrinsic_individual', 'extrinsic', 'SAME_individual', 'SAME', 'WEAT', 'gWEAT', 'DirectBias_individual', 'DirectBias', 'MAC_individual', 'MAC'])\n",
      "\n",
      "experiment 308 with bias type religion\n",
      "dict_keys(['id', 'extrinsic_individual', 'extrinsic', 'SAME_individual', 'SAME', 'WEAT', 'gWEAT', 'DirectBias_individual', 'DirectBias', 'MAC_individual', 'MAC'])\n",
      "\n",
      "experiment 309 with bias type religion\n",
      "dict_keys(['id', 'extrinsic_individual', 'extrinsic', 'SAME_individual', 'SAME', 'WEAT', 'gWEAT', 'DirectBias_individual', 'DirectBias', 'MAC_individual', 'MAC'])\n",
      "\n",
      "experiment 310 with bias type religion\n",
      "dict_keys(['id', 'extrinsic_individual', 'extrinsic', 'SAME_individual', 'SAME', 'WEAT', 'gWEAT', 'DirectBias_individual', 'DirectBias', 'MAC_individual', 'MAC'])\n",
      "\n",
      "experiment 311 with bias type religion\n",
      "dict_keys(['id', 'extrinsic_individual', 'extrinsic', 'SAME_individual', 'SAME', 'WEAT', 'gWEAT', 'DirectBias_individual', 'DirectBias', 'MAC_individual', 'MAC'])\n",
      "\n",
      "experiment 312 with bias type religion\n",
      "dict_keys(['id', 'extrinsic_individual', 'extrinsic', 'SAME_individual', 'SAME', 'WEAT', 'gWEAT', 'DirectBias_individual', 'DirectBias', 'MAC_individual', 'MAC'])\n",
      "\n",
      "experiment 313 with bias type religion\n",
      "dict_keys(['id', 'extrinsic_individual', 'extrinsic', 'SAME_individual', 'SAME', 'WEAT', 'gWEAT', 'DirectBias_individual', 'DirectBias', 'MAC_individual', 'MAC'])\n",
      "\n",
      "experiment 314 with bias type religion\n",
      "dict_keys(['id', 'extrinsic_individual', 'extrinsic', 'SAME_individual', 'SAME', 'WEAT', 'gWEAT', 'DirectBias_individual', 'DirectBias', 'MAC_individual', 'MAC'])\n",
      "\n",
      "experiment 315 with bias type religion\n",
      "dict_keys(['id', 'extrinsic_individual', 'extrinsic', 'SAME_individual', 'SAME', 'WEAT', 'gWEAT', 'DirectBias_individual', 'DirectBias', 'MAC_individual', 'MAC'])\n",
      "\n",
      "experiment 316 with bias type religion\n",
      "dict_keys(['id', 'extrinsic_individual', 'extrinsic', 'SAME_individual', 'SAME', 'WEAT', 'gWEAT', 'DirectBias_individual', 'DirectBias', 'MAC_individual', 'MAC'])\n",
      "\n",
      "experiment 317 with bias type religion\n",
      "dict_keys(['id', 'extrinsic_individual', 'extrinsic', 'SAME_individual', 'SAME', 'WEAT', 'gWEAT', 'DirectBias_individual', 'DirectBias', 'MAC_individual', 'MAC'])\n",
      "\n",
      "experiment 318 with bias type religion\n",
      "dict_keys(['id', 'extrinsic_individual', 'extrinsic', 'SAME_individual', 'SAME', 'WEAT', 'gWEAT', 'DirectBias_individual', 'DirectBias', 'MAC_individual', 'MAC'])\n",
      "\n",
      "experiment 319 with bias type religion\n",
      "dict_keys(['id', 'extrinsic_individual', 'extrinsic', 'SAME_individual', 'SAME', 'WEAT', 'gWEAT', 'DirectBias_individual', 'DirectBias', 'MAC_individual', 'MAC'])\n",
      "\n",
      "experiment 320 with bias type religion\n",
      "dict_keys(['id', 'extrinsic_individual', 'extrinsic', 'SAME_individual', 'SAME', 'WEAT', 'gWEAT', 'DirectBias_individual', 'DirectBias', 'MAC_individual', 'MAC'])\n",
      "\n",
      "experiment 321 with bias type religion\n",
      "dict_keys(['id', 'extrinsic_individual', 'extrinsic', 'SAME_individual', 'SAME', 'WEAT', 'gWEAT', 'DirectBias_individual', 'DirectBias', 'MAC_individual', 'MAC'])\n",
      "\n",
      "experiment 322 with bias type religion\n",
      "dict_keys(['id', 'extrinsic_individual', 'extrinsic', 'SAME_individual', 'SAME', 'WEAT', 'gWEAT', 'DirectBias_individual', 'DirectBias', 'MAC_individual', 'MAC'])\n",
      "\n",
      "experiment 323 with bias type religion\n",
      "dict_keys(['id', 'extrinsic_individual', 'extrinsic', 'SAME_individual', 'SAME', 'WEAT', 'gWEAT', 'DirectBias_individual', 'DirectBias', 'MAC_individual', 'MAC'])\n",
      "\n",
      "experiment 324 with bias type religion\n",
      "dict_keys(['id', 'extrinsic_individual', 'extrinsic', 'SAME_individual', 'SAME', 'WEAT', 'gWEAT', 'DirectBias_individual', 'DirectBias', 'MAC_individual', 'MAC'])\n",
      "\n",
      "experiment 325 with bias type religion\n",
      "dict_keys(['id', 'extrinsic_individual', 'extrinsic', 'SAME_individual', 'SAME', 'WEAT', 'gWEAT', 'DirectBias_individual', 'DirectBias', 'MAC_individual', 'MAC'])\n",
      "\n",
      "experiment 326 with bias type religion\n",
      "dict_keys(['id', 'extrinsic_individual', 'extrinsic', 'SAME_individual', 'SAME', 'WEAT', 'gWEAT', 'DirectBias_individual', 'DirectBias', 'MAC_individual', 'MAC'])\n",
      "\n",
      "experiment 327 with bias type religion\n",
      "dict_keys(['id', 'extrinsic_individual', 'extrinsic', 'SAME_individual', 'SAME', 'WEAT', 'gWEAT', 'DirectBias_individual', 'DirectBias', 'MAC_individual', 'MAC'])\n",
      "\n",
      "experiment 328 with bias type religion\n",
      "dict_keys(['id', 'extrinsic_individual', 'extrinsic', 'SAME_individual', 'SAME', 'WEAT', 'gWEAT', 'DirectBias_individual', 'DirectBias', 'MAC_individual', 'MAC'])\n",
      "\n",
      "experiment 329 with bias type religion\n",
      "dict_keys(['id', 'extrinsic_individual', 'extrinsic', 'SAME_individual', 'SAME', 'WEAT', 'gWEAT', 'DirectBias_individual', 'DirectBias', 'MAC_individual', 'MAC'])\n",
      "\n",
      "experiment 330 with bias type religion\n",
      "dict_keys(['id', 'extrinsic_individual', 'extrinsic', 'SAME_individual', 'SAME', 'WEAT', 'gWEAT', 'DirectBias_individual', 'DirectBias', 'MAC_individual', 'MAC'])\n",
      "\n",
      "experiment 331 with bias type religion\n",
      "dict_keys(['id', 'extrinsic_individual', 'extrinsic', 'SAME_individual', 'SAME', 'WEAT', 'gWEAT', 'DirectBias_individual', 'DirectBias', 'MAC_individual', 'MAC'])\n",
      "\n",
      "experiment 332 with bias type religion\n",
      "dict_keys(['id', 'extrinsic_individual', 'extrinsic', 'SAME_individual', 'SAME', 'WEAT', 'gWEAT', 'DirectBias_individual', 'DirectBias', 'MAC_individual', 'MAC'])\n",
      "\n",
      "experiment 333 with bias type religion\n",
      "dict_keys(['id', 'extrinsic_individual', 'extrinsic', 'SAME_individual', 'SAME', 'WEAT', 'gWEAT', 'DirectBias_individual', 'DirectBias', 'MAC_individual', 'MAC'])\n",
      "\n",
      "experiment 334 with bias type religion\n",
      "dict_keys(['id', 'extrinsic_individual', 'extrinsic', 'SAME_individual', 'SAME', 'WEAT', 'gWEAT', 'DirectBias_individual', 'DirectBias', 'MAC_individual', 'MAC'])\n",
      "\n",
      "experiment 335 with bias type religion\n",
      "dict_keys(['id', 'extrinsic_individual', 'extrinsic', 'SAME_individual', 'SAME', 'WEAT', 'gWEAT', 'DirectBias_individual', 'DirectBias', 'MAC_individual', 'MAC'])\n",
      "\n",
      "experiment 336 with bias type age\n",
      "dict_keys(['id', 'extrinsic_individual', 'extrinsic', 'SAME_individual', 'SAME', 'WEAT_individual', 'WEAT', 'gWEAT', 'DirectBias_individual', 'DirectBias', 'MAC_individual', 'MAC'])\n",
      "\n",
      "experiment 337 with bias type age\n",
      "dict_keys(['id', 'extrinsic_individual', 'extrinsic', 'SAME_individual', 'SAME', 'WEAT_individual', 'WEAT', 'gWEAT', 'DirectBias_individual', 'DirectBias', 'MAC_individual', 'MAC'])\n",
      "\n",
      "experiment 338 with bias type age\n",
      "dict_keys(['id', 'extrinsic_individual', 'extrinsic', 'SAME_individual', 'SAME', 'WEAT_individual', 'WEAT', 'gWEAT', 'DirectBias_individual', 'DirectBias', 'MAC_individual', 'MAC'])\n",
      "\n",
      "experiment 339 with bias type age\n",
      "dict_keys(['id', 'extrinsic_individual', 'extrinsic', 'SAME_individual', 'SAME', 'WEAT_individual', 'WEAT', 'gWEAT', 'DirectBias_individual', 'DirectBias', 'MAC_individual', 'MAC'])\n",
      "\n",
      "experiment 340 with bias type age\n",
      "dict_keys(['id', 'extrinsic_individual', 'extrinsic', 'SAME_individual', 'SAME', 'WEAT_individual', 'WEAT', 'gWEAT', 'DirectBias_individual', 'DirectBias', 'MAC_individual', 'MAC'])\n",
      "\n",
      "experiment 341 with bias type age\n",
      "dict_keys(['id', 'extrinsic_individual', 'extrinsic', 'SAME_individual', 'SAME', 'WEAT_individual', 'WEAT', 'gWEAT', 'DirectBias_individual', 'DirectBias', 'MAC_individual', 'MAC'])\n",
      "\n",
      "experiment 342 with bias type age\n",
      "dict_keys(['id', 'extrinsic_individual', 'extrinsic', 'SAME_individual', 'SAME', 'WEAT_individual', 'WEAT', 'gWEAT', 'DirectBias_individual', 'DirectBias', 'MAC_individual', 'MAC'])\n",
      "\n",
      "experiment 343 with bias type age\n",
      "dict_keys(['id', 'extrinsic_individual', 'extrinsic', 'SAME_individual', 'SAME', 'WEAT_individual', 'WEAT', 'gWEAT', 'DirectBias_individual', 'DirectBias', 'MAC_individual', 'MAC'])\n",
      "\n",
      "experiment 344 with bias type age\n",
      "dict_keys(['id', 'extrinsic_individual', 'extrinsic', 'SAME_individual', 'SAME', 'WEAT_individual', 'WEAT', 'gWEAT', 'DirectBias_individual', 'DirectBias', 'MAC_individual', 'MAC'])\n",
      "\n",
      "experiment 345 with bias type age\n",
      "dict_keys(['id', 'extrinsic_individual', 'extrinsic', 'SAME_individual', 'SAME', 'WEAT_individual', 'WEAT', 'gWEAT', 'DirectBias_individual', 'DirectBias', 'MAC_individual', 'MAC'])\n",
      "\n",
      "experiment 346 with bias type age\n",
      "dict_keys(['id', 'extrinsic_individual', 'extrinsic', 'SAME_individual', 'SAME', 'WEAT_individual', 'WEAT', 'gWEAT', 'DirectBias_individual', 'DirectBias', 'MAC_individual', 'MAC'])\n",
      "\n",
      "experiment 347 with bias type age\n",
      "dict_keys(['id', 'extrinsic_individual', 'extrinsic', 'SAME_individual', 'SAME', 'WEAT_individual', 'WEAT', 'gWEAT', 'DirectBias_individual', 'DirectBias', 'MAC_individual', 'MAC'])\n",
      "\n",
      "experiment 348 with bias type age\n",
      "dict_keys(['id', 'extrinsic_individual', 'extrinsic', 'SAME_individual', 'SAME', 'WEAT_individual', 'WEAT', 'gWEAT', 'DirectBias_individual', 'DirectBias', 'MAC_individual', 'MAC'])\n",
      "\n",
      "experiment 349 with bias type age\n",
      "dict_keys(['id', 'extrinsic_individual', 'extrinsic', 'SAME_individual', 'SAME', 'WEAT_individual', 'WEAT', 'gWEAT', 'DirectBias_individual', 'DirectBias', 'MAC_individual', 'MAC'])\n",
      "\n",
      "experiment 350 with bias type age\n",
      "dict_keys(['id', 'extrinsic_individual', 'extrinsic', 'SAME_individual', 'SAME', 'WEAT_individual', 'WEAT', 'gWEAT', 'DirectBias_individual', 'DirectBias', 'MAC_individual', 'MAC'])\n",
      "\n",
      "experiment 351 with bias type age\n",
      "dict_keys(['id', 'extrinsic_individual', 'extrinsic', 'SAME_individual', 'SAME', 'WEAT_individual', 'WEAT', 'gWEAT', 'DirectBias_individual', 'DirectBias', 'MAC_individual', 'MAC'])\n",
      "\n",
      "experiment 352 with bias type age\n",
      "dict_keys(['id', 'extrinsic_individual', 'extrinsic', 'SAME_individual', 'SAME', 'WEAT_individual', 'WEAT', 'gWEAT', 'DirectBias_individual', 'DirectBias', 'MAC_individual', 'MAC'])\n",
      "\n",
      "experiment 353 with bias type age\n",
      "dict_keys(['id', 'extrinsic_individual', 'extrinsic', 'SAME_individual', 'SAME', 'WEAT_individual', 'WEAT', 'gWEAT', 'DirectBias_individual', 'DirectBias', 'MAC_individual', 'MAC'])\n",
      "\n",
      "experiment 354 with bias type age\n",
      "dict_keys(['id', 'extrinsic_individual', 'extrinsic', 'SAME_individual', 'SAME', 'WEAT_individual', 'WEAT', 'gWEAT', 'DirectBias_individual', 'DirectBias', 'MAC_individual', 'MAC'])\n",
      "\n",
      "experiment 355 with bias type age\n",
      "dict_keys(['id', 'extrinsic_individual', 'extrinsic', 'SAME_individual', 'SAME', 'WEAT_individual', 'WEAT', 'gWEAT', 'DirectBias_individual', 'DirectBias', 'MAC_individual', 'MAC'])\n",
      "\n",
      "experiment 356 with bias type age\n",
      "dict_keys(['id', 'extrinsic_individual', 'extrinsic', 'SAME_individual', 'SAME', 'WEAT_individual', 'WEAT', 'gWEAT', 'DirectBias_individual', 'DirectBias', 'MAC_individual', 'MAC'])\n",
      "\n",
      "experiment 357 with bias type age\n",
      "dict_keys(['id', 'extrinsic_individual', 'extrinsic', 'SAME_individual', 'SAME', 'WEAT_individual', 'WEAT', 'gWEAT', 'DirectBias_individual', 'DirectBias', 'MAC_individual', 'MAC'])\n",
      "\n",
      "experiment 358 with bias type age\n",
      "dict_keys(['id', 'extrinsic_individual', 'extrinsic', 'SAME_individual', 'SAME', 'WEAT_individual', 'WEAT', 'gWEAT', 'DirectBias_individual', 'DirectBias', 'MAC_individual', 'MAC'])\n",
      "\n",
      "experiment 359 with bias type age\n",
      "dict_keys(['id', 'extrinsic_individual', 'extrinsic', 'SAME_individual', 'SAME', 'WEAT_individual', 'WEAT', 'gWEAT', 'DirectBias_individual', 'DirectBias', 'MAC_individual', 'MAC'])\n",
      "\n",
      "experiment 360 with bias type age\n",
      "dict_keys(['id', 'extrinsic_individual', 'extrinsic', 'SAME_individual', 'SAME', 'WEAT_individual', 'WEAT', 'gWEAT', 'DirectBias_individual', 'DirectBias', 'MAC_individual', 'MAC'])\n",
      "\n",
      "experiment 361 with bias type age\n",
      "dict_keys(['id', 'extrinsic_individual', 'extrinsic', 'SAME_individual', 'SAME', 'WEAT_individual', 'WEAT', 'gWEAT', 'DirectBias_individual', 'DirectBias', 'MAC_individual', 'MAC'])\n",
      "\n",
      "experiment 362 with bias type age\n",
      "dict_keys(['id', 'extrinsic_individual', 'extrinsic', 'SAME_individual', 'SAME', 'WEAT_individual', 'WEAT', 'gWEAT', 'DirectBias_individual', 'DirectBias', 'MAC_individual', 'MAC'])\n",
      "\n",
      "experiment 363 with bias type age\n",
      "dict_keys(['id', 'extrinsic_individual', 'extrinsic', 'SAME_individual', 'SAME', 'WEAT_individual', 'WEAT', 'gWEAT', 'DirectBias_individual', 'DirectBias', 'MAC_individual', 'MAC'])\n",
      "\n",
      "experiment 364 with bias type age\n",
      "dict_keys(['id', 'extrinsic_individual', 'extrinsic', 'SAME_individual', 'SAME', 'WEAT_individual', 'WEAT', 'gWEAT', 'DirectBias_individual', 'DirectBias', 'MAC_individual', 'MAC'])\n",
      "\n",
      "experiment 365 with bias type age\n",
      "dict_keys(['id', 'extrinsic_individual', 'extrinsic', 'SAME_individual', 'SAME', 'WEAT_individual', 'WEAT', 'gWEAT', 'DirectBias_individual', 'DirectBias', 'MAC_individual', 'MAC'])\n",
      "\n",
      "experiment 366 with bias type age\n",
      "dict_keys(['id', 'extrinsic_individual', 'extrinsic', 'SAME_individual', 'SAME', 'WEAT_individual', 'WEAT', 'gWEAT', 'DirectBias_individual', 'DirectBias', 'MAC_individual', 'MAC'])\n",
      "\n",
      "experiment 367 with bias type age\n",
      "dict_keys(['id', 'extrinsic_individual', 'extrinsic', 'SAME_individual', 'SAME', 'WEAT_individual', 'WEAT', 'gWEAT', 'DirectBias_individual', 'DirectBias', 'MAC_individual', 'MAC'])\n",
      "\n",
      "experiment 368 with bias type age\n",
      "dict_keys(['id', 'extrinsic_individual', 'extrinsic', 'SAME_individual', 'SAME', 'WEAT_individual', 'WEAT', 'gWEAT', 'DirectBias_individual', 'DirectBias', 'MAC_individual', 'MAC'])\n",
      "\n",
      "experiment 369 with bias type age\n",
      "dict_keys(['id', 'extrinsic_individual', 'extrinsic', 'SAME_individual', 'SAME', 'WEAT_individual', 'WEAT', 'gWEAT', 'DirectBias_individual', 'DirectBias', 'MAC_individual', 'MAC'])\n",
      "\n",
      "experiment 370 with bias type age\n",
      "dict_keys(['id', 'extrinsic_individual', 'extrinsic', 'SAME_individual', 'SAME', 'WEAT_individual', 'WEAT', 'gWEAT', 'DirectBias_individual', 'DirectBias', 'MAC_individual', 'MAC'])\n",
      "\n",
      "experiment 371 with bias type age\n",
      "dict_keys(['id', 'extrinsic_individual', 'extrinsic', 'SAME_individual', 'SAME', 'WEAT_individual', 'WEAT', 'gWEAT', 'DirectBias_individual', 'DirectBias', 'MAC_individual', 'MAC'])\n",
      "\n",
      "experiment 372 with bias type age\n",
      "dict_keys(['id', 'extrinsic_individual', 'extrinsic', 'SAME_individual', 'SAME', 'WEAT_individual', 'WEAT', 'gWEAT', 'DirectBias_individual', 'DirectBias', 'MAC_individual', 'MAC'])\n",
      "\n",
      "experiment 373 with bias type age\n",
      "dict_keys(['id', 'extrinsic_individual', 'extrinsic', 'SAME_individual', 'SAME', 'WEAT_individual', 'WEAT', 'gWEAT', 'DirectBias_individual', 'DirectBias', 'MAC_individual', 'MAC'])\n",
      "\n",
      "experiment 374 with bias type age\n",
      "dict_keys(['id', 'extrinsic_individual', 'extrinsic', 'SAME_individual', 'SAME', 'WEAT_individual', 'WEAT', 'gWEAT', 'DirectBias_individual', 'DirectBias', 'MAC_individual', 'MAC'])\n",
      "\n",
      "experiment 375 with bias type age\n",
      "dict_keys(['id', 'extrinsic_individual', 'extrinsic', 'SAME_individual', 'SAME', 'WEAT_individual', 'WEAT', 'gWEAT', 'DirectBias_individual', 'DirectBias', 'MAC_individual', 'MAC'])\n",
      "\n",
      "experiment 376 with bias type age\n",
      "dict_keys(['id', 'extrinsic_individual', 'extrinsic', 'SAME_individual', 'SAME', 'WEAT_individual', 'WEAT', 'gWEAT', 'DirectBias_individual', 'DirectBias', 'MAC_individual', 'MAC'])\n",
      "\n",
      "experiment 377 with bias type age\n",
      "dict_keys(['id', 'extrinsic_individual', 'extrinsic', 'SAME_individual', 'SAME', 'WEAT_individual', 'WEAT', 'gWEAT', 'DirectBias_individual', 'DirectBias', 'MAC_individual', 'MAC'])\n",
      "\n",
      "experiment 378 with bias type age\n",
      "dict_keys(['id', 'extrinsic_individual', 'extrinsic', 'SAME_individual', 'SAME', 'WEAT_individual', 'WEAT', 'gWEAT', 'DirectBias_individual', 'DirectBias', 'MAC_individual', 'MAC'])\n",
      "\n",
      "experiment 379 with bias type age\n",
      "dict_keys(['id', 'extrinsic_individual', 'extrinsic', 'SAME_individual', 'SAME', 'WEAT_individual', 'WEAT', 'gWEAT', 'DirectBias_individual', 'DirectBias', 'MAC_individual', 'MAC'])\n",
      "\n",
      "experiment 380 with bias type age\n",
      "dict_keys(['id', 'extrinsic_individual', 'extrinsic', 'SAME_individual', 'SAME', 'WEAT_individual', 'WEAT', 'gWEAT', 'DirectBias_individual', 'DirectBias', 'MAC_individual', 'MAC'])\n",
      "\n",
      "experiment 381 with bias type age\n",
      "dict_keys(['id', 'extrinsic_individual', 'extrinsic', 'SAME_individual', 'SAME', 'WEAT_individual', 'WEAT', 'gWEAT', 'DirectBias_individual', 'DirectBias', 'MAC_individual', 'MAC'])\n",
      "\n",
      "experiment 382 with bias type age\n",
      "dict_keys(['id', 'extrinsic_individual', 'extrinsic', 'SAME_individual', 'SAME', 'WEAT_individual', 'WEAT', 'gWEAT', 'DirectBias_individual', 'DirectBias', 'MAC_individual', 'MAC'])\n",
      "\n",
      "experiment 383 with bias type age\n",
      "dict_keys(['id', 'extrinsic_individual', 'extrinsic', 'SAME_individual', 'SAME', 'WEAT_individual', 'WEAT', 'gWEAT', 'DirectBias_individual', 'DirectBias', 'MAC_individual', 'MAC'])\n",
      "\n",
      "experiment 384 with bias type age\n",
      "dict_keys(['id', 'extrinsic_individual', 'extrinsic', 'SAME_individual', 'SAME', 'WEAT_individual', 'WEAT', 'gWEAT', 'DirectBias_individual', 'DirectBias', 'MAC_individual', 'MAC'])\n",
      "\n",
      "experiment 385 with bias type age\n",
      "dict_keys(['id', 'extrinsic_individual', 'extrinsic', 'SAME_individual', 'SAME', 'WEAT_individual', 'WEAT', 'gWEAT', 'DirectBias_individual', 'DirectBias', 'MAC_individual', 'MAC'])\n",
      "\n",
      "experiment 386 with bias type age\n",
      "dict_keys(['id', 'extrinsic_individual', 'extrinsic', 'SAME_individual', 'SAME', 'WEAT_individual', 'WEAT', 'gWEAT', 'DirectBias_individual', 'DirectBias', 'MAC_individual', 'MAC'])\n",
      "\n",
      "experiment 387 with bias type age\n",
      "dict_keys(['id', 'extrinsic_individual', 'extrinsic', 'SAME_individual', 'SAME', 'WEAT_individual', 'WEAT', 'gWEAT', 'DirectBias_individual', 'DirectBias', 'MAC_individual', 'MAC'])\n",
      "\n",
      "experiment 388 with bias type age\n",
      "dict_keys(['id', 'extrinsic_individual', 'extrinsic', 'SAME_individual', 'SAME', 'WEAT_individual', 'WEAT', 'gWEAT', 'DirectBias_individual', 'DirectBias', 'MAC_individual', 'MAC'])\n",
      "\n",
      "experiment 389 with bias type age\n",
      "dict_keys(['id', 'extrinsic_individual', 'extrinsic', 'SAME_individual', 'SAME', 'WEAT_individual', 'WEAT', 'gWEAT', 'DirectBias_individual', 'DirectBias', 'MAC_individual', 'MAC'])\n",
      "\n",
      "experiment 390 with bias type age\n",
      "dict_keys(['id', 'extrinsic_individual', 'extrinsic', 'SAME_individual', 'SAME', 'WEAT_individual', 'WEAT', 'gWEAT', 'DirectBias_individual', 'DirectBias', 'MAC_individual', 'MAC'])\n",
      "\n",
      "experiment 391 with bias type age\n",
      "dict_keys(['id', 'extrinsic_individual', 'extrinsic', 'SAME_individual', 'SAME', 'WEAT_individual', 'WEAT', 'gWEAT', 'DirectBias_individual', 'DirectBias', 'MAC_individual', 'MAC'])\n",
      "\n",
      "experiment 392 with bias type age\n",
      "dict_keys(['id', 'extrinsic_individual', 'extrinsic', 'SAME_individual', 'SAME', 'WEAT_individual', 'WEAT', 'gWEAT', 'DirectBias_individual', 'DirectBias', 'MAC_individual', 'MAC'])\n",
      "\n",
      "experiment 393 with bias type age\n",
      "dict_keys(['id', 'extrinsic_individual', 'extrinsic', 'SAME_individual', 'SAME', 'WEAT_individual', 'WEAT', 'gWEAT', 'DirectBias_individual', 'DirectBias', 'MAC_individual', 'MAC'])\n",
      "\n",
      "experiment 394 with bias type age\n",
      "dict_keys(['id', 'extrinsic_individual', 'extrinsic', 'SAME_individual', 'SAME', 'WEAT_individual', 'WEAT', 'gWEAT', 'DirectBias_individual', 'DirectBias', 'MAC_individual', 'MAC'])\n",
      "\n",
      "experiment 395 with bias type age\n",
      "dict_keys(['id', 'extrinsic_individual', 'extrinsic', 'SAME_individual', 'SAME', 'WEAT_individual', 'WEAT', 'gWEAT', 'DirectBias_individual', 'DirectBias', 'MAC_individual', 'MAC'])\n",
      "\n",
      "experiment 396 with bias type age\n",
      "dict_keys(['id', 'extrinsic_individual', 'extrinsic', 'SAME_individual', 'SAME', 'WEAT_individual', 'WEAT', 'gWEAT', 'DirectBias_individual', 'DirectBias', 'MAC_individual', 'MAC'])\n",
      "\n",
      "experiment 397 with bias type age\n",
      "dict_keys(['id', 'extrinsic_individual', 'extrinsic', 'SAME_individual', 'SAME', 'WEAT_individual', 'WEAT', 'gWEAT', 'DirectBias_individual', 'DirectBias', 'MAC_individual', 'MAC'])\n",
      "\n",
      "experiment 398 with bias type age\n",
      "dict_keys(['id', 'extrinsic_individual', 'extrinsic', 'SAME_individual', 'SAME', 'WEAT_individual', 'WEAT', 'gWEAT', 'DirectBias_individual', 'DirectBias', 'MAC_individual', 'MAC'])\n",
      "\n",
      "experiment 399 with bias type age\n",
      "dict_keys(['id', 'extrinsic_individual', 'extrinsic', 'SAME_individual', 'SAME', 'WEAT_individual', 'WEAT', 'gWEAT', 'DirectBias_individual', 'DirectBias', 'MAC_individual', 'MAC'])\n",
      "\n",
      "experiment 400 with bias type age\n",
      "dict_keys(['id', 'extrinsic_individual', 'extrinsic', 'SAME_individual', 'SAME', 'WEAT_individual', 'WEAT', 'gWEAT', 'DirectBias_individual', 'DirectBias', 'MAC_individual', 'MAC'])\n",
      "\n",
      "experiment 401 with bias type age\n",
      "dict_keys(['id', 'extrinsic_individual', 'extrinsic', 'SAME_individual', 'SAME', 'WEAT_individual', 'WEAT', 'gWEAT', 'DirectBias_individual', 'DirectBias', 'MAC_individual', 'MAC'])\n",
      "\n",
      "experiment 402 with bias type age\n",
      "dict_keys(['id', 'extrinsic_individual', 'extrinsic', 'SAME_individual', 'SAME', 'WEAT_individual', 'WEAT', 'gWEAT', 'DirectBias_individual', 'DirectBias', 'MAC_individual', 'MAC'])\n",
      "\n",
      "experiment 403 with bias type age\n",
      "dict_keys(['id', 'extrinsic_individual', 'extrinsic', 'SAME_individual', 'SAME', 'WEAT_individual', 'WEAT', 'gWEAT', 'DirectBias_individual', 'DirectBias', 'MAC_individual', 'MAC'])\n",
      "\n",
      "experiment 404 with bias type age\n",
      "dict_keys(['id', 'extrinsic_individual', 'extrinsic', 'SAME_individual', 'SAME', 'WEAT_individual', 'WEAT', 'gWEAT', 'DirectBias_individual', 'DirectBias', 'MAC_individual', 'MAC'])\n",
      "\n",
      "experiment 405 with bias type age\n",
      "dict_keys(['id', 'extrinsic_individual', 'extrinsic', 'SAME_individual', 'SAME', 'WEAT_individual', 'WEAT', 'gWEAT', 'DirectBias_individual', 'DirectBias', 'MAC_individual', 'MAC'])\n",
      "\n",
      "experiment 406 with bias type age\n",
      "dict_keys(['id', 'extrinsic_individual', 'extrinsic', 'SAME_individual', 'SAME', 'WEAT_individual', 'WEAT', 'gWEAT', 'DirectBias_individual', 'DirectBias', 'MAC_individual', 'MAC'])\n",
      "\n",
      "experiment 407 with bias type age\n",
      "dict_keys(['id', 'extrinsic_individual', 'extrinsic', 'SAME_individual', 'SAME', 'WEAT_individual', 'WEAT', 'gWEAT', 'DirectBias_individual', 'DirectBias', 'MAC_individual', 'MAC'])\n",
      "\n",
      "experiment 408 with bias type age\n",
      "dict_keys(['id', 'extrinsic_individual', 'extrinsic', 'SAME_individual', 'SAME', 'WEAT_individual', 'WEAT', 'gWEAT', 'DirectBias_individual', 'DirectBias', 'MAC_individual', 'MAC'])\n",
      "\n",
      "experiment 409 with bias type age\n",
      "dict_keys(['id', 'extrinsic_individual', 'extrinsic', 'SAME_individual', 'SAME', 'WEAT_individual', 'WEAT', 'gWEAT', 'DirectBias_individual', 'DirectBias', 'MAC_individual', 'MAC'])\n",
      "\n",
      "experiment 410 with bias type age\n",
      "dict_keys(['id', 'extrinsic_individual', 'extrinsic', 'SAME_individual', 'SAME', 'WEAT_individual', 'WEAT', 'gWEAT', 'DirectBias_individual', 'DirectBias', 'MAC_individual', 'MAC'])\n",
      "\n",
      "experiment 411 with bias type age\n",
      "dict_keys(['id', 'extrinsic_individual', 'extrinsic', 'SAME_individual', 'SAME', 'WEAT_individual', 'WEAT', 'gWEAT', 'DirectBias_individual', 'DirectBias', 'MAC_individual', 'MAC'])\n",
      "\n",
      "experiment 412 with bias type age\n",
      "dict_keys(['id', 'extrinsic_individual', 'extrinsic', 'SAME_individual', 'SAME', 'WEAT_individual', 'WEAT', 'gWEAT', 'DirectBias_individual', 'DirectBias', 'MAC_individual', 'MAC'])\n",
      "\n",
      "experiment 413 with bias type age\n",
      "dict_keys(['id', 'extrinsic_individual', 'extrinsic', 'SAME_individual', 'SAME', 'WEAT_individual', 'WEAT', 'gWEAT', 'DirectBias_individual', 'DirectBias', 'MAC_individual', 'MAC'])\n",
      "\n",
      "experiment 414 with bias type age\n",
      "dict_keys(['id', 'extrinsic_individual', 'extrinsic', 'SAME_individual', 'SAME', 'WEAT_individual', 'WEAT', 'gWEAT', 'DirectBias_individual', 'DirectBias', 'MAC_individual', 'MAC'])\n",
      "\n",
      "experiment 415 with bias type age\n",
      "dict_keys(['id', 'extrinsic_individual', 'extrinsic', 'SAME_individual', 'SAME', 'WEAT_individual', 'WEAT', 'gWEAT', 'DirectBias_individual', 'DirectBias', 'MAC_individual', 'MAC'])\n",
      "\n",
      "experiment 416 with bias type age\n",
      "dict_keys(['id', 'extrinsic_individual', 'extrinsic', 'SAME_individual', 'SAME', 'WEAT_individual', 'WEAT', 'gWEAT', 'DirectBias_individual', 'DirectBias', 'MAC_individual', 'MAC'])\n",
      "\n",
      "experiment 417 with bias type age\n",
      "dict_keys(['id', 'extrinsic_individual', 'extrinsic', 'SAME_individual', 'SAME', 'WEAT_individual', 'WEAT', 'gWEAT', 'DirectBias_individual', 'DirectBias', 'MAC_individual', 'MAC'])\n",
      "\n",
      "experiment 418 with bias type age\n",
      "dict_keys(['id', 'extrinsic_individual', 'extrinsic', 'SAME_individual', 'SAME', 'WEAT_individual', 'WEAT', 'gWEAT', 'DirectBias_individual', 'DirectBias', 'MAC_individual', 'MAC'])\n",
      "\n",
      "experiment 419 with bias type age\n",
      "dict_keys(['id', 'extrinsic_individual', 'extrinsic', 'SAME_individual', 'SAME', 'WEAT_individual', 'WEAT', 'gWEAT', 'DirectBias_individual', 'DirectBias', 'MAC_individual', 'MAC'])\n",
      "\n",
      "experiment 420 with bias type age\n",
      "dict_keys(['id', 'extrinsic_individual', 'extrinsic', 'SAME_individual', 'SAME', 'WEAT_individual', 'WEAT', 'gWEAT', 'DirectBias_individual', 'DirectBias', 'MAC_individual', 'MAC'])\n",
      "\n",
      "experiment 421 with bias type age\n",
      "dict_keys(['id', 'extrinsic_individual', 'extrinsic', 'SAME_individual', 'SAME', 'WEAT_individual', 'WEAT', 'gWEAT', 'DirectBias_individual', 'DirectBias', 'MAC_individual', 'MAC'])\n",
      "\n",
      "experiment 422 with bias type age\n",
      "dict_keys(['id', 'extrinsic_individual', 'extrinsic', 'SAME_individual', 'SAME', 'WEAT_individual', 'WEAT', 'gWEAT', 'DirectBias_individual', 'DirectBias', 'MAC_individual', 'MAC'])\n",
      "\n",
      "experiment 423 with bias type age\n",
      "dict_keys(['id', 'extrinsic_individual', 'extrinsic', 'SAME_individual', 'SAME', 'WEAT_individual', 'WEAT', 'gWEAT', 'DirectBias_individual', 'DirectBias', 'MAC_individual', 'MAC'])\n",
      "\n",
      "experiment 424 with bias type age\n",
      "dict_keys(['id', 'extrinsic_individual', 'extrinsic', 'SAME_individual', 'SAME', 'WEAT_individual', 'WEAT', 'gWEAT', 'DirectBias_individual', 'DirectBias', 'MAC_individual', 'MAC'])\n",
      "\n",
      "experiment 425 with bias type age\n",
      "dict_keys(['id', 'extrinsic_individual', 'extrinsic', 'SAME_individual', 'SAME', 'WEAT_individual', 'WEAT', 'gWEAT', 'DirectBias_individual', 'DirectBias', 'MAC_individual', 'MAC'])\n",
      "\n",
      "experiment 426 with bias type age\n",
      "dict_keys(['id', 'extrinsic_individual', 'extrinsic', 'SAME_individual', 'SAME', 'WEAT_individual', 'WEAT', 'gWEAT', 'DirectBias_individual', 'DirectBias', 'MAC_individual', 'MAC'])\n",
      "\n",
      "experiment 427 with bias type age\n",
      "dict_keys(['id', 'extrinsic_individual', 'extrinsic', 'SAME_individual', 'SAME', 'WEAT_individual', 'WEAT', 'gWEAT', 'DirectBias_individual', 'DirectBias', 'MAC_individual', 'MAC'])\n",
      "\n",
      "experiment 428 with bias type age\n",
      "dict_keys(['id', 'extrinsic_individual', 'extrinsic', 'SAME_individual', 'SAME', 'WEAT_individual', 'WEAT', 'gWEAT', 'DirectBias_individual', 'DirectBias', 'MAC_individual', 'MAC'])\n",
      "\n",
      "experiment 429 with bias type age\n",
      "dict_keys(['id', 'extrinsic_individual', 'extrinsic', 'SAME_individual', 'SAME', 'WEAT_individual', 'WEAT', 'gWEAT', 'DirectBias_individual', 'DirectBias', 'MAC_individual', 'MAC'])\n",
      "\n",
      "experiment 430 with bias type age\n",
      "dict_keys(['id', 'extrinsic_individual', 'extrinsic', 'SAME_individual', 'SAME', 'WEAT_individual', 'WEAT', 'gWEAT', 'DirectBias_individual', 'DirectBias', 'MAC_individual', 'MAC'])\n",
      "\n",
      "experiment 431 with bias type age\n",
      "dict_keys(['id', 'extrinsic_individual', 'extrinsic', 'SAME_individual', 'SAME', 'WEAT_individual', 'WEAT', 'gWEAT', 'DirectBias_individual', 'DirectBias', 'MAC_individual', 'MAC'])\n",
      "\n",
      "experiment 432 with bias type age\n",
      "dict_keys(['id', 'extrinsic_individual', 'extrinsic', 'SAME_individual', 'SAME', 'WEAT_individual', 'WEAT', 'gWEAT', 'DirectBias_individual', 'DirectBias', 'MAC_individual', 'MAC'])\n",
      "\n",
      "experiment 433 with bias type age\n",
      "dict_keys(['id', 'extrinsic_individual', 'extrinsic', 'SAME_individual', 'SAME', 'WEAT_individual', 'WEAT', 'gWEAT', 'DirectBias_individual', 'DirectBias', 'MAC_individual', 'MAC'])\n",
      "\n",
      "experiment 434 with bias type age\n",
      "dict_keys(['id', 'extrinsic_individual', 'extrinsic', 'SAME_individual', 'SAME', 'WEAT_individual', 'WEAT', 'gWEAT', 'DirectBias_individual', 'DirectBias', 'MAC_individual', 'MAC'])\n",
      "\n",
      "experiment 435 with bias type age\n",
      "dict_keys(['id', 'extrinsic_individual', 'extrinsic', 'SAME_individual', 'SAME', 'WEAT_individual', 'WEAT', 'gWEAT', 'DirectBias_individual', 'DirectBias', 'MAC_individual', 'MAC'])\n",
      "\n",
      "experiment 436 with bias type age\n",
      "dict_keys(['id', 'extrinsic_individual', 'extrinsic', 'SAME_individual', 'SAME', 'WEAT_individual', 'WEAT', 'gWEAT', 'DirectBias_individual', 'DirectBias', 'MAC_individual', 'MAC'])\n",
      "\n",
      "experiment 437 with bias type age\n",
      "dict_keys(['id', 'extrinsic_individual', 'extrinsic', 'SAME_individual', 'SAME', 'WEAT_individual', 'WEAT', 'gWEAT', 'DirectBias_individual', 'DirectBias', 'MAC_individual', 'MAC'])\n",
      "\n",
      "experiment 438 with bias type age\n",
      "dict_keys(['id', 'extrinsic_individual', 'extrinsic', 'SAME_individual', 'SAME', 'WEAT_individual', 'WEAT', 'gWEAT', 'DirectBias_individual', 'DirectBias', 'MAC_individual', 'MAC'])\n",
      "\n",
      "experiment 439 with bias type age\n",
      "dict_keys(['id', 'extrinsic_individual', 'extrinsic', 'SAME_individual', 'SAME', 'WEAT_individual', 'WEAT', 'gWEAT', 'DirectBias_individual', 'DirectBias', 'MAC_individual', 'MAC'])\n",
      "\n",
      "experiment 440 with bias type age\n",
      "dict_keys(['id', 'extrinsic_individual', 'extrinsic', 'SAME_individual', 'SAME', 'WEAT_individual', 'WEAT', 'gWEAT', 'DirectBias_individual', 'DirectBias', 'MAC_individual', 'MAC'])\n",
      "\n",
      "experiment 441 with bias type age\n",
      "dict_keys(['id', 'extrinsic_individual', 'extrinsic', 'SAME_individual', 'SAME', 'WEAT_individual', 'WEAT', 'gWEAT', 'DirectBias_individual', 'DirectBias', 'MAC_individual', 'MAC'])\n",
      "\n",
      "experiment 442 with bias type age\n",
      "dict_keys(['id', 'extrinsic_individual', 'extrinsic', 'SAME_individual', 'SAME', 'WEAT_individual', 'WEAT', 'gWEAT', 'DirectBias_individual', 'DirectBias', 'MAC_individual', 'MAC'])\n",
      "\n",
      "experiment 443 with bias type age\n",
      "dict_keys(['id', 'extrinsic_individual', 'extrinsic', 'SAME_individual', 'SAME', 'WEAT_individual', 'WEAT', 'gWEAT', 'DirectBias_individual', 'DirectBias', 'MAC_individual', 'MAC'])\n",
      "\n",
      "experiment 444 with bias type age\n",
      "dict_keys(['id', 'extrinsic_individual', 'extrinsic', 'SAME_individual', 'SAME', 'WEAT_individual', 'WEAT', 'gWEAT', 'DirectBias_individual', 'DirectBias', 'MAC_individual', 'MAC'])\n",
      "\n",
      "experiment 445 with bias type age\n",
      "dict_keys(['id', 'extrinsic_individual', 'extrinsic', 'SAME_individual', 'SAME', 'WEAT_individual', 'WEAT', 'gWEAT', 'DirectBias_individual', 'DirectBias', 'MAC_individual', 'MAC'])\n",
      "\n",
      "experiment 446 with bias type age\n",
      "dict_keys(['id', 'extrinsic_individual', 'extrinsic', 'SAME_individual', 'SAME', 'WEAT_individual', 'WEAT', 'gWEAT', 'DirectBias_individual', 'DirectBias', 'MAC_individual', 'MAC'])\n",
      "\n",
      "experiment 447 with bias type age\n",
      "dict_keys(['id', 'extrinsic_individual', 'extrinsic', 'SAME_individual', 'SAME', 'WEAT_individual', 'WEAT', 'gWEAT', 'DirectBias_individual', 'DirectBias', 'MAC_individual', 'MAC'])\n",
      "\n"
     ]
    }
   ],
   "source": [
    "score_list = list(cosine_scores.keys())+['extrinsic']\n",
    "scores_per_bias_type = {bt : {score: [] for score in score_list} for bt in exp_config['bias_types']}\n",
    "for i in range(len(results)):\n",
    "    # TODO:\n",
    "    if 'mlm' not in params[i].keys():\n",
    "        continue\n",
    "    print(\"experiment\", i, \"with bias type\", params[i]['bias_type'])\n",
    "    for score in score_list:\n",
    "        scores_per_bias_type[params[i]['bias_type']][score].append(results[i][score])\n",
    "    \n",
    "    print(results[i].keys())\n",
    "    for score in score_list:\n",
    "        if not score+'_individual' in results[i].keys():\n",
    "            continue\n",
    "        for score2 in score_list:\n",
    "            if score == score2:\n",
    "                continue # TODO \n",
    "            if not score2+'_individual' in results[i].keys():\n",
    "                continue\n",
    "            slope, intercept, r, p, std_err = scipy.stats.linregress(np.abs(results[i][score+'_individual']), np.abs(results[i][score2+'_individual']))\n",
    "                \n",
    "            if 'extrinsic' in score and r > 0.4 and p < 0.05:\n",
    "                print(score, score2, \"R=\"+str(r)+\" (p=\"+str(p)+\")\")\n",
    "    print()"
   ]
  },
  {
   "cell_type": "code",
   "execution_count": 10,
   "id": "74802ed6-4676-4edc-bb7b-0e882ef8c3d4",
   "metadata": {
    "tags": []
   },
   "outputs": [
    {
     "name": "stdout",
     "output_type": "stream",
     "text": [
      "race-color\n",
      "SAME\n"
     ]
    },
    {
     "data": {
      "image/png": "[encoded data removed]",
      "text/plain": [
       "<Figure size 640x480 with 1 Axes>"
      ]
     },
     "metadata": {},
     "output_type": "display_data"
    },
    {
     "name": "stdout",
     "output_type": "stream",
     "text": [
      "\n",
      "WEAT\n"
     ]
    },
    {
     "data": {
      "image/png": "[encoded data removed]",
      "text/plain": [
       "<Figure size 640x480 with 1 Axes>"
      ]
     },
     "metadata": {},
     "output_type": "display_data"
    },
    {
     "name": "stdout",
     "output_type": "stream",
     "text": [
      "\n",
      "gWEAT\n"
     ]
    },
    {
     "data": {
      "image/png": "[encoded data removed]",
      "text/plain": [
       "<Figure size 640x480 with 1 Axes>"
      ]
     },
     "metadata": {},
     "output_type": "display_data"
    },
    {
     "name": "stdout",
     "output_type": "stream",
     "text": [
      "\n",
      "DirectBias\n"
     ]
    },
    {
     "data": {
      "image/png": "[encoded data removed]",
      "text/plain": [
       "<Figure size 640x480 with 1 Axes>"
      ]
     },
     "metadata": {},
     "output_type": "display_data"
    },
    {
     "name": "stdout",
     "output_type": "stream",
     "text": [
      "\n",
      "MAC\n"
     ]
    },
    {
     "data": {
      "image/png": "[encoded data removed]",
      "text/plain": [
       "<Figure size 640x480 with 1 Axes>"
      ]
     },
     "metadata": {},
     "output_type": "display_data"
    },
    {
     "name": "stdout",
     "output_type": "stream",
     "text": [
      "\n",
      "gender\n",
      "SAME\n"
     ]
    },
    {
     "data": {
      "image/png": "[encoded data removed]",
      "text/plain": [
       "<Figure size 640x480 with 1 Axes>"
      ]
     },
     "metadata": {},
     "output_type": "display_data"
    },
    {
     "name": "stdout",
     "output_type": "stream",
     "text": [
      "\n",
      "WEAT\n"
     ]
    },
    {
     "data": {
      "image/png": "[encoded data removed]",
      "text/plain": [
       "<Figure size 640x480 with 1 Axes>"
      ]
     },
     "metadata": {},
     "output_type": "display_data"
    },
    {
     "name": "stdout",
     "output_type": "stream",
     "text": [
      "\n",
      "gWEAT\n"
     ]
    },
    {
     "data": {
      "image/png": "[encoded data removed]",
      "text/plain": [
       "<Figure size 640x480 with 1 Axes>"
      ]
     },
     "metadata": {},
     "output_type": "display_data"
    },
    {
     "name": "stdout",
     "output_type": "stream",
     "text": [
      "\n",
      "DirectBias\n"
     ]
    },
    {
     "data": {
      "image/png": "[encoded data removed]",
      "text/plain": [
       "<Figure size 640x480 with 1 Axes>"
      ]
     },
     "metadata": {},
     "output_type": "display_data"
    },
    {
     "name": "stdout",
     "output_type": "stream",
     "text": [
      "\n",
      "MAC\n"
     ]
    },
    {
     "data": {
      "image/png": "[encoded data removed]",
      "text/plain": [
       "<Figure size 640x480 with 1 Axes>"
      ]
     },
     "metadata": {},
     "output_type": "display_data"
    },
    {
     "name": "stdout",
     "output_type": "stream",
     "text": [
      "\n",
      "religion\n",
      "SAME\n"
     ]
    },
    {
     "data": {
      "image/png": "[encoded data removed]",
      "text/plain": [
       "<Figure size 640x480 with 1 Axes>"
      ]
     },
     "metadata": {},
     "output_type": "display_data"
    },
    {
     "name": "stdout",
     "output_type": "stream",
     "text": [
      "\n",
      "WEAT\n"
     ]
    },
    {
     "data": {
      "image/png": "[encoded data removed]",
      "text/plain": [
       "<Figure size 640x480 with 1 Axes>"
      ]
     },
     "metadata": {},
     "output_type": "display_data"
    },
    {
     "name": "stdout",
     "output_type": "stream",
     "text": [
      "\n",
      "gWEAT\n"
     ]
    },
    {
     "data": {
      "image/png": "[encoded data removed]",
      "text/plain": [
       "<Figure size 640x480 with 1 Axes>"
      ]
     },
     "metadata": {},
     "output_type": "display_data"
    },
    {
     "name": "stdout",
     "output_type": "stream",
     "text": [
      "\n",
      "DirectBias\n"
     ]
    },
    {
     "data": {
      "image/png": "[encoded data removed]",
      "text/plain": [
       "<Figure size 640x480 with 1 Axes>"
      ]
     },
     "metadata": {},
     "output_type": "display_data"
    },
    {
     "name": "stdout",
     "output_type": "stream",
     "text": [
      "\n",
      "MAC\n"
     ]
    },
    {
     "data": {
      "image/png": "[encoded data removed]",
      "text/plain": [
       "<Figure size 640x480 with 1 Axes>"
      ]
     },
     "metadata": {},
     "output_type": "display_data"
    },
    {
     "name": "stdout",
     "output_type": "stream",
     "text": [
      "\n",
      "age\n",
      "SAME\n"
     ]
    },
    {
     "data": {
      "image/png": "[encoded data removed]",
      "text/plain": [
       "<Figure size 640x480 with 1 Axes>"
      ]
     },
     "metadata": {},
     "output_type": "display_data"
    },
    {
     "name": "stdout",
     "output_type": "stream",
     "text": [
      "\n",
      "WEAT\n"
     ]
    },
    {
     "data": {
      "image/png": "[encoded data removed]",
      "text/plain": [
       "<Figure size 640x480 with 1 Axes>"
      ]
     },
     "metadata": {},
     "output_type": "display_data"
    },
    {
     "name": "stdout",
     "output_type": "stream",
     "text": [
      "\n",
      "gWEAT\n"
     ]
    },
    {
     "data": {
      "image/png": "[encoded data removed]",
      "text/plain": [
       "<Figure size 640x480 with 1 Axes>"
      ]
     },
     "metadata": {},
     "output_type": "display_data"
    },
    {
     "name": "stdout",
     "output_type": "stream",
     "text": [
      "\n",
      "DirectBias\n"
     ]
    },
    {
     "data": {
      "image/png": "[encoded data removed]",
      "text/plain": [
       "<Figure size 640x480 with 1 Axes>"
      ]
     },
     "metadata": {},
     "output_type": "display_data"
    },
    {
     "name": "stdout",
     "output_type": "stream",
     "text": [
      "\n",
      "MAC\n"
     ]
    },
    {
     "data": {
      "image/png": "[encoded data removed]",
      "text/plain": [
       "<Figure size 640x480 with 1 Axes>"
      ]
     },
     "metadata": {},
     "output_type": "display_data"
    },
    {
     "name": "stdout",
     "output_type": "stream",
     "text": [
      "\n"
     ]
    }
   ],
   "source": [
    "for bt, res in scores_per_bias_type.items():\n",
    "    df = pd.DataFrame(res)\n",
    "    print(bt)\n",
    "    for score in score_list:\n",
    "        if not score == 'extrinsic':\n",
    "            print(score)\n",
    "            sns.regplot(x=\"extrinsic\", y=score, data=df)\n",
    "            plt.show()\n",
    "            print()"
   ]
  },
  {
   "cell_type": "code",
   "execution_count": 11,
   "id": "638acfd4-0b9f-4117-88f4-c1cda60c5698",
   "metadata": {
    "tags": []
   },
   "outputs": [
    {
     "name": "stdout",
     "output_type": "stream",
     "text": [
      "race-color\n",
      "SAME WEAT R=nan (p=nan)\n",
      "SAME gWEAT R=0.29199114698054857 (p=0.0017850232765959206)\n",
      "SAME DirectBias R=0.02853970520070431 (p=0.765162598364141)\n",
      "SAME MAC R=0.631987635720641 (p=7.866069447800285e-14)\n",
      "SAME extrinsic R=-0.1545359705068561 (p=0.1037590476703689)\n",
      "WEAT SAME R=nan (p=nan)\n",
      "WEAT gWEAT R=nan (p=nan)\n",
      "WEAT DirectBias R=nan (p=nan)\n",
      "WEAT MAC R=nan (p=nan)\n",
      "WEAT extrinsic R=nan (p=nan)\n",
      "gWEAT SAME R=0.29199114698054857 (p=0.0017850232765959206)\n",
      "gWEAT WEAT R=nan (p=nan)\n",
      "gWEAT DirectBias R=0.016586945251273105 (p=0.8621936825874958)\n",
      "gWEAT MAC R=0.30183995722344253 (p=0.001219319524807058)\n",
      "gWEAT extrinsic R=-0.0013344446027370408 (p=0.9888586962742607)\n",
      "DirectBias SAME R=0.02853970520070431 (p=0.765162598364141)\n",
      "DirectBias WEAT R=nan (p=nan)\n",
      "DirectBias gWEAT R=0.016586945251273105 (p=0.8621936825874958)\n",
      "DirectBias MAC R=-0.031768693104730364 (p=0.7394962887009182)\n",
      "DirectBias extrinsic R=0.047832502479212585 (p=0.616498133969102)\n",
      "MAC SAME R=0.631987635720641 (p=7.866069447800285e-14)\n",
      "MAC WEAT R=nan (p=nan)\n",
      "MAC gWEAT R=0.30183995722344253 (p=0.001219319524807058)\n",
      "MAC DirectBias R=-0.031768693104730364 (p=0.7394962887009182)\n",
      "MAC extrinsic R=-0.11582849740600049 (p=0.2239239721884014)\n",
      "extrinsic SAME R=-0.1545359705068561 (p=0.1037590476703689)\n",
      "extrinsic WEAT R=nan (p=nan)\n",
      "extrinsic gWEAT R=-0.0013344446027370408 (p=0.9888586962742607)\n",
      "extrinsic DirectBias R=0.047832502479212585 (p=0.616498133969102)\n",
      "extrinsic MAC R=-0.11582849740600049 (p=0.2239239721884014)\n",
      "\n",
      "gender\n",
      "SAME WEAT R=-0.2391720824530755 (p=0.011093581618545496)\n",
      "SAME gWEAT R=-0.6837378189670338 (p=9.744292592773896e-17)\n",
      "SAME DirectBias R=0.7380736793454873 (p=1.6314603759690135e-20)\n",
      "SAME MAC R=0.5380275283030544 (p=9.490951951092517e-10)\n",
      "SAME extrinsic R=0.07516595079185542 (p=0.4308881414550819)\n",
      "WEAT SAME R=-0.2391720824530755 (p=0.011093581618545496)\n",
      "WEAT gWEAT R=0.46340526976313573 (p=2.671224611045214e-07)\n",
      "WEAT DirectBias R=0.0016369558855746055 (p=0.986333244860732)\n",
      "WEAT MAC R=-0.08243717627712181 (p=0.3875231872592113)\n",
      "WEAT extrinsic R=0.11210225799406226 (p=0.23928215439217707)\n",
      "gWEAT SAME R=-0.6837378189670338 (p=9.744292592773896e-17)\n",
      "gWEAT WEAT R=0.46340526976313573 (p=2.671224611045214e-07)\n",
      "gWEAT DirectBias R=-0.6150071865699277 (p=5.428828737655158e-13)\n",
      "gWEAT MAC R=-0.24462464033833523 (p=0.009337588391104044)\n",
      "gWEAT extrinsic R=0.37592642743498117 (p=4.413941491151536e-05)\n",
      "DirectBias SAME R=0.7380736793454873 (p=1.6314603759690135e-20)\n",
      "DirectBias WEAT R=0.0016369558855746055 (p=0.986333244860732)\n",
      "DirectBias gWEAT R=-0.6150071865699277 (p=5.428828737655158e-13)\n",
      "DirectBias MAC R=0.08458398259129572 (p=0.3752399457601704)\n",
      "DirectBias extrinsic R=-0.0803620818675209 (p=0.39962297439762484)\n",
      "MAC SAME R=0.5380275283030544 (p=9.490951951092517e-10)\n",
      "MAC WEAT R=-0.08243717627712181 (p=0.3875231872592113)\n",
      "MAC gWEAT R=-0.24462464033833523 (p=0.009337588391104044)\n",
      "MAC DirectBias R=0.08458398259129572 (p=0.3752399457601704)\n",
      "MAC extrinsic R=0.19443006144722508 (p=0.03995461532980944)\n",
      "extrinsic SAME R=0.07516595079185542 (p=0.4308881414550819)\n",
      "extrinsic WEAT R=0.11210225799406226 (p=0.23928215439217707)\n",
      "extrinsic gWEAT R=0.37592642743498117 (p=4.413941491151536e-05)\n",
      "extrinsic DirectBias R=-0.0803620818675209 (p=0.39962297439762484)\n",
      "extrinsic MAC R=0.19443006144722508 (p=0.03995461532980944)\n",
      "\n",
      "religion\n",
      "SAME WEAT R=nan (p=nan)\n",
      "SAME gWEAT R=0.2533241445045857 (p=0.007039657569291039)\n",
      "SAME DirectBias R=0.6930400488128362 (p=2.5210985534279738e-17)\n",
      "SAME MAC R=0.6523833608014689 (p=6.565866559048748e-15)\n",
      "SAME extrinsic R=0.7881652728317387 (p=6.2168504103618635e-25)\n",
      "WEAT SAME R=nan (p=nan)\n",
      "WEAT gWEAT R=nan (p=nan)\n",
      "WEAT DirectBias R=nan (p=nan)\n",
      "WEAT MAC R=nan (p=nan)\n",
      "WEAT extrinsic R=nan (p=nan)\n",
      "gWEAT SAME R=0.2533241445045857 (p=0.007039657569291039)\n",
      "gWEAT WEAT R=nan (p=nan)\n",
      "gWEAT DirectBias R=0.1126873867467494 (p=0.23682317157942162)\n",
      "gWEAT MAC R=0.5297341981916116 (p=1.903390592130302e-09)\n",
      "gWEAT extrinsic R=-0.027139994903358975 (p=0.7763698832387425)\n",
      "DirectBias SAME R=0.6930400488128362 (p=2.5210985534279738e-17)\n",
      "DirectBias WEAT R=nan (p=nan)\n",
      "DirectBias gWEAT R=0.1126873867467494 (p=0.23682317157942162)\n",
      "DirectBias MAC R=0.1368562521111148 (p=0.15018401195581876)\n",
      "DirectBias extrinsic R=0.45544542537677507 (p=4.5199195318213565e-07)\n",
      "MAC SAME R=0.6523833608014689 (p=6.565866559048748e-15)\n",
      "MAC WEAT R=nan (p=nan)\n",
      "MAC gWEAT R=0.5297341981916116 (p=1.903390592130302e-09)\n",
      "MAC DirectBias R=0.1368562521111148 (p=0.15018401195581876)\n",
      "MAC extrinsic R=0.5869247772313995 (p=1.0393977720381236e-11)\n",
      "extrinsic SAME R=0.7881652728317387 (p=6.2168504103618635e-25)\n",
      "extrinsic WEAT R=nan (p=nan)\n",
      "extrinsic gWEAT R=-0.027139994903358975 (p=0.7763698832387425)\n",
      "extrinsic DirectBias R=0.45544542537677507 (p=4.5199195318213565e-07)\n",
      "extrinsic MAC R=0.5869247772313995 (p=1.0393977720381236e-11)\n",
      "\n",
      "age\n",
      "SAME WEAT R=0.0060274446265530905 (p=0.9497080260465126)\n",
      "SAME gWEAT R=-0.05087098954727781 (p=0.5942596915139908)\n",
      "SAME DirectBias R=0.49319072736897224 (p=3.3013931687655196e-08)\n",
      "SAME MAC R=0.2778210256777786 (p=0.0030188256272113503)\n",
      "SAME extrinsic R=0.3422433419213798 (p=0.000221173779309405)\n",
      "WEAT SAME R=0.0060274446265530905 (p=0.9497080260465126)\n",
      "WEAT gWEAT R=0.6825627271519167 (p=1.1518080790526926e-16)\n",
      "WEAT DirectBias R=-0.19725831695736806 (p=0.03709689447086354)\n",
      "WEAT MAC R=-0.046269379137445166 (p=0.6280769408420597)\n",
      "WEAT extrinsic R=-0.12144026221680415 (p=0.2021282448638536)\n",
      "gWEAT SAME R=-0.05087098954727781 (p=0.5942596915139908)\n",
      "gWEAT WEAT R=0.6825627271519167 (p=1.1518080790526926e-16)\n",
      "gWEAT DirectBias R=-0.40855867825776815 (p=7.747754699490406e-06)\n",
      "gWEAT MAC R=-0.08083553367009408 (p=0.39684274557249033)\n",
      "gWEAT extrinsic R=0.22119655690020948 (p=0.019089742816379946)\n",
      "DirectBias SAME R=0.49319072736897224 (p=3.3013931687655196e-08)\n",
      "DirectBias WEAT R=-0.19725831695736806 (p=0.03709689447086354)\n",
      "DirectBias gWEAT R=-0.40855867825776815 (p=7.747754699490406e-06)\n",
      "DirectBias MAC R=0.0428762950909784 (p=0.653521040557119)\n",
      "DirectBias extrinsic R=-0.12408492180928359 (p=0.1924029679082114)\n",
      "MAC SAME R=0.2778210256777786 (p=0.0030188256272113503)\n",
      "MAC WEAT R=-0.046269379137445166 (p=0.6280769408420597)\n",
      "MAC gWEAT R=-0.08083553367009408 (p=0.39684274557249033)\n",
      "MAC DirectBias R=0.0428762950909784 (p=0.653521040557119)\n",
      "MAC extrinsic R=0.14514454681502123 (p=0.12677813231760557)\n",
      "extrinsic SAME R=0.3422433419213798 (p=0.000221173779309405)\n",
      "extrinsic WEAT R=-0.12144026221680415 (p=0.2021282448638536)\n",
      "extrinsic gWEAT R=0.22119655690020948 (p=0.019089742816379946)\n",
      "extrinsic DirectBias R=-0.12408492180928359 (p=0.1924029679082114)\n",
      "extrinsic MAC R=0.14514454681502123 (p=0.12677813231760557)\n",
      "\n"
     ]
    }
   ],
   "source": [
    "for bt, res in scores_per_bias_type.items():\n",
    "    print(bt)\n",
    "    for score in score_list:\n",
    "        for score2 in score_list:\n",
    "            if score == score2:\n",
    "                continue # TODO \n",
    "            if not score2 in res.keys():\n",
    "                continue\n",
    "\n",
    "            slope, intercept, r, p, std_err = scipy.stats.linregress(res[score], res[score2])\n",
    "            print(score, score2, \"R=\"+str(r)+\" (p=\"+str(p)+\")\")\n",
    "            \n",
    "    print()"
   ]
  },
  {
   "cell_type": "code",
   "execution_count": 15,
   "id": "60d91196-e0e1-4fba-8261-ce719e68a994",
   "metadata": {
    "tags": []
   },
   "outputs": [],
   "source": [
    "debias_ks = exp_config['debias_k']\n",
    "embedder = exp_config['mlm']"
   ]
  },
  {
   "cell_type": "code",
   "execution_count": 16,
   "id": "6b87bc5e-60ef-425d-9292-317f4b133558",
   "metadata": {
    "tags": []
   },
   "outputs": [
    {
     "data": {
      "text/plain": [
       "[1, 3, 5, 7, 9]"
      ]
     },
     "execution_count": 16,
     "metadata": {},
     "output_type": "execute_result"
    }
   ],
   "source": [
    "debias_ks"
   ]
  },
  {
   "cell_type": "code",
   "execution_count": 43,
   "id": "1e6dcbba-5afe-4451-b687-57db0aaa040b",
   "metadata": {
    "tags": []
   },
   "outputs": [
    {
     "name": "stdout",
     "output_type": "stream",
     "text": [
      "percentage of experiments with decreased extrinsic biases after hard debiasing (per k):\n",
      "SAME\n",
      "1 0.0625\n",
      "3 0.125\n",
      "5 0.25\n",
      "7 0.3125\n",
      "9 0.375\n",
      "\n",
      "WEAT\n",
      "1 nan\n",
      "3 nan\n",
      "5 nan\n",
      "7 nan\n",
      "9 nan\n",
      "\n",
      "gWEAT\n",
      "1 0.125\n",
      "3 0.1875\n",
      "5 0.3125\n",
      "7 0.3125\n",
      "9 0.375\n",
      "\n",
      "DirectBias\n",
      "1 0.125\n",
      "3 0.125\n",
      "5 0.1875\n",
      "7 0.3125\n",
      "9 0.3125\n",
      "\n",
      "MAC\n",
      "1 0.125\n",
      "3 0.1875\n",
      "5 0.3125\n",
      "7 0.375\n",
      "9 0.375\n",
      "\n",
      "extrinsic\n",
      "1 0.0\n",
      "3 0.0625\n",
      "5 0.0625\n",
      "7 0.125\n",
      "9 0.1875\n",
      "\n"
     ]
    },
    {
     "name": "stderr",
     "output_type": "stream",
     "text": [
      "/tmp/ipykernel_239140/1674429983.py:32: RuntimeWarning: invalid value encountered in scalar divide\n",
      "  print(k, np.sum(bias_decreased[score][k])/len(bias_decreased[score][k]))\n"
     ]
    }
   ],
   "source": [
    "all_scores = list(cosine_scores.keys())+['extrinsic']\n",
    "exp_idx = 0\n",
    "bias_decreased = {score: {k: [] for k in debias_ks} for score in all_scores}\n",
    "for model in embedder:\n",
    "    low_recall = False\n",
    "    #for idx in range(exp_idx, exp_idx+len(debias_ks)):\n",
    "        #if results[idx]['recall'] < 0.5 or np.min(results[idx]['class_recall']) < 0.1:\n",
    "        #    low_recall = True\n",
    "    #if low_recall:\n",
    "    #    print(\"skip \", model, \"because of low recall\")\n",
    "    #    exp_idx += len(debias_ks)+1\n",
    "    #    continue\n",
    "        \n",
    "    default_idx = exp_idx\n",
    "    debias_ids = [exp_idx+i+1 for i,k in enumerate(debias_ks)]\n",
    "    exp_idx += len(debias_ks)+1\n",
    "    for score in all_scores:\n",
    "        if params[default_idx]['bias_type'] not in ['gender', 'age'] and score == 'WEAT':\n",
    "            continue\n",
    "        if score not in results[default_idx].keys():\n",
    "            continue\n",
    "        default_score = results[default_idx][score] # one per split\n",
    "\n",
    "        for i, k in enumerate(debias_ks):\n",
    "            val = results[debias_ids[i]][score]\n",
    "            bias_decreased[score][k].append(val < default_score)\n",
    "\n",
    "print(\"percentage of experiments with decreased extrinsic biases after hard debiasing (per k):\")\n",
    "for score in all_scores:\n",
    "    print(score)\n",
    "    for k in debias_ks:\n",
    "        print(k, np.sum(bias_decreased[score][k])/len(bias_decreased[score][k]))\n",
    "    print()\n",
    "        "
   ]
  },
  {
   "cell_type": "code",
   "execution_count": 45,
   "id": "1ea38462-c720-4c55-95df-c447f1164958",
   "metadata": {
    "tags": []
   },
   "outputs": [
    {
     "name": "stdout",
     "output_type": "stream",
     "text": [
      "SAME\n",
      "1\n"
     ]
    },
    {
     "data": {
      "image/png": "[encoded data removed]",
      "text/plain": [
       "<Figure size 640x480 with 2 Axes>"
      ]
     },
     "metadata": {},
     "output_type": "display_data"
    },
    {
     "ename": "ValueError",
     "evalue": "Only one class present in y_true. ROC AUC score is not defined in that case.",
     "output_type": "error",
     "traceback": [
      "\u001b[0;31m---------------------------------------------------------------------------\u001b[0m",
      "\u001b[0;31mValueError\u001b[0m                                Traceback (most recent call last)",
      "Cell \u001b[0;32mIn[45], line 12\u001b[0m\n\u001b[1;32m     10\u001b[0m cm_display\u001b[38;5;241m.\u001b[39max_\u001b[38;5;241m.\u001b[39mget_images()[\u001b[38;5;241m0\u001b[39m]\u001b[38;5;241m.\u001b[39mset_cmap(plt\u001b[38;5;241m.\u001b[39mcm\u001b[38;5;241m.\u001b[39mBlues)\n\u001b[1;32m     11\u001b[0m plt\u001b[38;5;241m.\u001b[39mshow()\n\u001b[0;32m---> 12\u001b[0m \u001b[38;5;28mprint\u001b[39m(\u001b[38;5;124m\"\u001b[39m\u001b[38;5;124mROC AUC: \u001b[39m\u001b[38;5;124m\"\u001b[39m, roc_auc_score(bias_decreased[\u001b[38;5;124m'\u001b[39m\u001b[38;5;124mextrinsic\u001b[39m\u001b[38;5;124m'\u001b[39m][k],bias_decreased[score][k]))\n\u001b[1;32m     13\u001b[0m \u001b[38;5;66;03m#fpr, tpr, _ = roc_curve(bias_decreased['extrinsic'][k],bias_decreased[score][k])\u001b[39;00m\n\u001b[1;32m     14\u001b[0m \u001b[38;5;66;03m#roc_display = RocCurveDisplay(fpr=fpr, tpr=tpr).plot()\u001b[39;00m\n\u001b[1;32m     15\u001b[0m \u001b[38;5;28mprint\u001b[39m()\n",
      "File \u001b[0;32m~/anaconda3/envs/plmbias/lib/python3.11/site-packages/sklearn/utils/_param_validation.py:211\u001b[0m, in \u001b[0;36mvalidate_params.<locals>.decorator.<locals>.wrapper\u001b[0;34m(*args, **kwargs)\u001b[0m\n\u001b[1;32m    205\u001b[0m \u001b[38;5;28;01mtry\u001b[39;00m:\n\u001b[1;32m    206\u001b[0m     \u001b[38;5;28;01mwith\u001b[39;00m config_context(\n\u001b[1;32m    207\u001b[0m         skip_parameter_validation\u001b[38;5;241m=\u001b[39m(\n\u001b[1;32m    208\u001b[0m             prefer_skip_nested_validation \u001b[38;5;129;01mor\u001b[39;00m global_skip_validation\n\u001b[1;32m    209\u001b[0m         )\n\u001b[1;32m    210\u001b[0m     ):\n\u001b[0;32m--> 211\u001b[0m         \u001b[38;5;28;01mreturn\u001b[39;00m func(\u001b[38;5;241m*\u001b[39margs, \u001b[38;5;241m*\u001b[39m\u001b[38;5;241m*\u001b[39mkwargs)\n\u001b[1;32m    212\u001b[0m \u001b[38;5;28;01mexcept\u001b[39;00m InvalidParameterError \u001b[38;5;28;01mas\u001b[39;00m e:\n\u001b[1;32m    213\u001b[0m     \u001b[38;5;66;03m# When the function is just a wrapper around an estimator, we allow\u001b[39;00m\n\u001b[1;32m    214\u001b[0m     \u001b[38;5;66;03m# the function to delegate validation to the estimator, but we replace\u001b[39;00m\n\u001b[1;32m    215\u001b[0m     \u001b[38;5;66;03m# the name of the estimator by the name of the function in the error\u001b[39;00m\n\u001b[1;32m    216\u001b[0m     \u001b[38;5;66;03m# message to avoid confusion.\u001b[39;00m\n\u001b[1;32m    217\u001b[0m     msg \u001b[38;5;241m=\u001b[39m re\u001b[38;5;241m.\u001b[39msub(\n\u001b[1;32m    218\u001b[0m         \u001b[38;5;124mr\u001b[39m\u001b[38;5;124m\"\u001b[39m\u001b[38;5;124mparameter of \u001b[39m\u001b[38;5;124m\\\u001b[39m\u001b[38;5;124mw+ must be\u001b[39m\u001b[38;5;124m\"\u001b[39m,\n\u001b[1;32m    219\u001b[0m         \u001b[38;5;124mf\u001b[39m\u001b[38;5;124m\"\u001b[39m\u001b[38;5;124mparameter of \u001b[39m\u001b[38;5;132;01m{\u001b[39;00mfunc\u001b[38;5;241m.\u001b[39m\u001b[38;5;18m__qualname__\u001b[39m\u001b[38;5;132;01m}\u001b[39;00m\u001b[38;5;124m must be\u001b[39m\u001b[38;5;124m\"\u001b[39m,\n\u001b[1;32m    220\u001b[0m         \u001b[38;5;28mstr\u001b[39m(e),\n\u001b[1;32m    221\u001b[0m     )\n",
      "File \u001b[0;32m~/anaconda3/envs/plmbias/lib/python3.11/site-packages/sklearn/metrics/_ranking.py:626\u001b[0m, in \u001b[0;36mroc_auc_score\u001b[0;34m(y_true, y_score, average, sample_weight, max_fpr, multi_class, labels)\u001b[0m\n\u001b[1;32m    624\u001b[0m     labels \u001b[38;5;241m=\u001b[39m np\u001b[38;5;241m.\u001b[39munique(y_true)\n\u001b[1;32m    625\u001b[0m     y_true \u001b[38;5;241m=\u001b[39m label_binarize(y_true, classes\u001b[38;5;241m=\u001b[39mlabels)[:, \u001b[38;5;241m0\u001b[39m]\n\u001b[0;32m--> 626\u001b[0m     \u001b[38;5;28;01mreturn\u001b[39;00m _average_binary_score(\n\u001b[1;32m    627\u001b[0m         partial(_binary_roc_auc_score, max_fpr\u001b[38;5;241m=\u001b[39mmax_fpr),\n\u001b[1;32m    628\u001b[0m         y_true,\n\u001b[1;32m    629\u001b[0m         y_score,\n\u001b[1;32m    630\u001b[0m         average,\n\u001b[1;32m    631\u001b[0m         sample_weight\u001b[38;5;241m=\u001b[39msample_weight,\n\u001b[1;32m    632\u001b[0m     )\n\u001b[1;32m    633\u001b[0m \u001b[38;5;28;01melse\u001b[39;00m:  \u001b[38;5;66;03m# multilabel-indicator\u001b[39;00m\n\u001b[1;32m    634\u001b[0m     \u001b[38;5;28;01mreturn\u001b[39;00m _average_binary_score(\n\u001b[1;32m    635\u001b[0m         partial(_binary_roc_auc_score, max_fpr\u001b[38;5;241m=\u001b[39mmax_fpr),\n\u001b[1;32m    636\u001b[0m         y_true,\n\u001b[0;32m   (...)\u001b[0m\n\u001b[1;32m    639\u001b[0m         sample_weight\u001b[38;5;241m=\u001b[39msample_weight,\n\u001b[1;32m    640\u001b[0m     )\n",
      "File \u001b[0;32m~/anaconda3/envs/plmbias/lib/python3.11/site-packages/sklearn/metrics/_base.py:75\u001b[0m, in \u001b[0;36m_average_binary_score\u001b[0;34m(binary_metric, y_true, y_score, average, sample_weight)\u001b[0m\n\u001b[1;32m     72\u001b[0m     \u001b[38;5;28;01mraise\u001b[39;00m \u001b[38;5;167;01mValueError\u001b[39;00m(\u001b[38;5;124m\"\u001b[39m\u001b[38;5;132;01m{0}\u001b[39;00m\u001b[38;5;124m format is not supported\u001b[39m\u001b[38;5;124m\"\u001b[39m\u001b[38;5;241m.\u001b[39mformat(y_type))\n\u001b[1;32m     74\u001b[0m \u001b[38;5;28;01mif\u001b[39;00m y_type \u001b[38;5;241m==\u001b[39m \u001b[38;5;124m\"\u001b[39m\u001b[38;5;124mbinary\u001b[39m\u001b[38;5;124m\"\u001b[39m:\n\u001b[0;32m---> 75\u001b[0m     \u001b[38;5;28;01mreturn\u001b[39;00m binary_metric(y_true, y_score, sample_weight\u001b[38;5;241m=\u001b[39msample_weight)\n\u001b[1;32m     77\u001b[0m check_consistent_length(y_true, y_score, sample_weight)\n\u001b[1;32m     78\u001b[0m y_true \u001b[38;5;241m=\u001b[39m check_array(y_true)\n",
      "File \u001b[0;32m~/anaconda3/envs/plmbias/lib/python3.11/site-packages/sklearn/metrics/_ranking.py:381\u001b[0m, in \u001b[0;36m_binary_roc_auc_score\u001b[0;34m(y_true, y_score, sample_weight, max_fpr)\u001b[0m\n\u001b[1;32m    379\u001b[0m \u001b[38;5;250m\u001b[39m\u001b[38;5;124;03m\"\"\"Binary roc auc score.\"\"\"\u001b[39;00m\n\u001b[1;32m    380\u001b[0m \u001b[38;5;28;01mif\u001b[39;00m \u001b[38;5;28mlen\u001b[39m(np\u001b[38;5;241m.\u001b[39munique(y_true)) \u001b[38;5;241m!=\u001b[39m \u001b[38;5;241m2\u001b[39m:\n\u001b[0;32m--> 381\u001b[0m     \u001b[38;5;28;01mraise\u001b[39;00m \u001b[38;5;167;01mValueError\u001b[39;00m(\n\u001b[1;32m    382\u001b[0m         \u001b[38;5;124m\"\u001b[39m\u001b[38;5;124mOnly one class present in y_true. ROC AUC score \u001b[39m\u001b[38;5;124m\"\u001b[39m\n\u001b[1;32m    383\u001b[0m         \u001b[38;5;124m\"\u001b[39m\u001b[38;5;124mis not defined in that case.\u001b[39m\u001b[38;5;124m\"\u001b[39m\n\u001b[1;32m    384\u001b[0m     )\n\u001b[1;32m    386\u001b[0m fpr, tpr, _ \u001b[38;5;241m=\u001b[39m roc_curve(y_true, y_score, sample_weight\u001b[38;5;241m=\u001b[39msample_weight)\n\u001b[1;32m    387\u001b[0m \u001b[38;5;28;01mif\u001b[39;00m max_fpr \u001b[38;5;129;01mis\u001b[39;00m \u001b[38;5;28;01mNone\u001b[39;00m \u001b[38;5;129;01mor\u001b[39;00m max_fpr \u001b[38;5;241m==\u001b[39m \u001b[38;5;241m1\u001b[39m:\n",
      "\u001b[0;31mValueError\u001b[0m: Only one class present in y_true. ROC AUC score is not defined in that case."
     ]
    }
   ],
   "source": [
    "from sklearn.metrics import confusion_matrix, roc_curve, RocCurveDisplay, ConfusionMatrixDisplay, roc_auc_score\n",
    "\n",
    "for score in cosine_scores.keys():\n",
    "    print(score)\n",
    "    for k in debias_ks:\n",
    "        print(k)\n",
    "        cm = confusion_matrix(bias_decreased['extrinsic'][k],bias_decreased[score][k], normalize='true')\n",
    "        cm_display = ConfusionMatrixDisplay(cm).plot()\n",
    "        cm_display.ax_.get_images()[0].set_clim(0, 1)\n",
    "        cm_display.ax_.get_images()[0].set_cmap(plt.cm.Blues)\n",
    "        plt.show()\n",
    "        print(\"ROC AUC: \", roc_auc_score(bias_decreased['extrinsic'][k],bias_decreased[score][k]))\n",
    "        #fpr, tpr, _ = roc_curve(bias_decreased['extrinsic'][k],bias_decreased[score][k])\n",
    "        #roc_display = RocCurveDisplay(fpr=fpr, tpr=tpr).plot()\n",
    "        print()\n",
    "    print()"
   ]
  },
  {
   "cell_type": "code",
   "execution_count": 30,
   "id": "b8e56a8d-684c-492b-9561-c8827e66dda6",
   "metadata": {
    "tags": []
   },
   "outputs": [
    {
     "data": {
      "text/plain": [
       "-0.0027615547"
      ]
     },
     "execution_count": 30,
     "metadata": {},
     "output_type": "execute_result"
    }
   ],
   "source": []
  },
  {
   "cell_type": "code",
   "execution_count": 29,
   "id": "6459e8fc-b64d-47e1-80bb-c0f70d71067c",
   "metadata": {
    "tags": []
   },
   "outputs": [
    {
     "data": {
      "text/plain": [
       "{'bias_type': 'age',\n",
       " 'mlm': 'xlm-roberta-large',\n",
       " 'bias_scores': ['SAME', 'WEAT', 'gWEAT', 'DirectBias', 'MAC'],\n",
       " 'debias': False,\n",
       " 'debias_k': 10}"
      ]
     },
     "execution_count": 29,
     "metadata": {},
     "output_type": "execute_result"
    }
   ],
   "source": []
  },
  {
   "cell_type": "code",
   "execution_count": null,
   "id": "36517adf-5e76-4210-addf-766cf5c61b04",
   "metadata": {},
   "outputs": [],
   "source": []
  },
  {
   "cell_type": "code",
   "execution_count": 13,
   "id": "c1539548-badb-4099-8ca7-a830688d80cd",
   "metadata": {
    "tags": []
   },
   "outputs": [
    {
     "name": "stdout",
     "output_type": "stream",
     "text": [
      "[0.25779605 0.84232704 0.66061095 0.6800017  0.27577074 0.97274091\n",
      " 0.90078076 0.44284408 0.61111924 0.73740976 0.03614057 0.20623851\n",
      " 0.94187575 0.76217741 0.70233077 0.91095887 0.00460259 0.05908727\n",
      " 0.65341392 0.98815824 0.30220397 0.14454476 0.82035664 0.19620816\n",
      " 0.7639203  0.54445096 0.70957284 0.44698533 0.75593005 0.85639609\n",
      " 0.09363558 0.33468246 0.30917508 0.31013635 0.89432228 0.10754972\n",
      " 0.14120625 0.11672424 0.02323287 0.09583977 0.59078821 0.67680276\n",
      " 0.93351696 0.31277794 0.85117698 0.45884459 0.34128161 0.0557133\n",
      " 0.24502175 0.02232416 0.33114742 0.45721923 0.33975888 0.59159193\n",
      " 0.83452228 0.68060358 0.3426947  0.42417781 0.54306282 0.9013298\n",
      " 0.11181589 0.50708072 0.81740862 0.18760617 0.03062899 0.32386705\n",
      " 0.91337159 0.05995006 0.24084687 0.74247385 0.31881307 0.88970492\n",
      " 0.57024007 0.30186151 0.39830323 0.67666217 0.62419045 0.93757273\n",
      " 0.43706712 0.1445433  0.83332061 0.58028678 0.33206791 0.76634543\n",
      " 0.96988479 0.3238827  0.47725722 0.70888373 0.7157051  0.10418235\n",
      " 0.80624461 0.49709496 0.77688078 0.03395721 0.16766661 0.16264875\n",
      " 0.25116399 0.72863292 0.65191291 0.54442598]\n",
      "0.8840173557668332 3.908134886808546e-34\n"
     ]
    }
   ],
   "source": [
    "data = np.random.rand(100)\n",
    "slope, intercept, r, p, std_err = scipy.stats.linregress(data, np.log(data))\n",
    "print(r,p)"
   ]
  },
  {
   "cell_type": "code",
   "execution_count": 3,
   "id": "3a42f78c-069a-46c2-a4e9-b3ab1e3452ec",
   "metadata": {
    "tags": []
   },
   "outputs": [
    {
     "name": "stderr",
     "output_type": "stream",
     "text": [
      "Found cached dataset crows_pairs (/home/saschroeder/.cache/huggingface/datasets/crows_pairs/crows_pairs/1.0.0/33d1d2c8fb39ec51955a725d16f117ccbb733fc2adf2fad749b6442e6ed78a0e)\n"
     ]
    },
    {
     "name": "stdout",
     "output_type": "stream",
     "text": [
      "['jews though'] ['koreans though ']\n",
      "['amish'] []\n",
      "['muslim'] ['mormon']\n",
      "['jewish'] ['atheist']\n",
      "['muslim'] ['cathloic']\n",
      "['mohammads'] ['jesuss']\n",
      "['jewish'] ['italian']\n",
      "['white'] ['jew']\n",
      "['atheists'] ['catholics']\n",
      "['jew'] ['white']\n",
      "[] ['hindu']\n",
      "['jews'] ['americans']\n",
      "['muslim'] ['catholic']\n",
      "['a christian'] ['an atheist']\n",
      "['jew'] ['white']\n",
      "['mosque'] ['shrine']\n",
      "['mohammad'] ['joseph']\n",
      "['jew'] ['catholic']\n",
      "['wiccan'] ['baptist']\n",
      "['muslim'] ['atheist']\n",
      "['muslims'] ['episcopalians']\n",
      "['jew'] ['american']\n",
      "['jewish'] ['new york']\n",
      "['christmas'] ['tisha bav']\n",
      "['buddhist'] []\n",
      "['muslims', 'them'] ['them', 'baptists']\n",
      "['arabic'] ['atheist']\n",
      "['jew  greedily'] ['whitegreedily']\n",
      "[] ['atheist']\n",
      "['hindu'] []\n",
      "['torah', 'temple'] []\n",
      "['jews'] ['whites']\n",
      "['jew'] ['white']\n",
      "['jew'] ['white']\n",
      "['atheists'] []\n",
      "['jew'] ['white']\n",
      "['jew'] ['white']\n",
      "['muslim'] ['pentacostal']\n",
      "['', 'christian'] ['', 'just']\n",
      "['hindu'] ['lutheran']\n",
      "['jew'] ['white']\n",
      "['loud', 'mosque'] ['quiet', 'church']\n",
      "['muslims', 'him'] ['mormons', 'him']\n",
      "['navajo indians strongly'] ['white american chistian men']\n",
      "['jew'] ['white']\n",
      "['an atheist'] ['a christian']\n",
      "['muslim'] ['american']\n",
      "['jew'] ['white']\n",
      "['head scarfs'] ['baseball caps']\n",
      "['buddhist'] []\n",
      "['jewish'] ['white']\n",
      "[] ['hindus']\n",
      "['jewish'] ['methodist']\n",
      "['wiccan'] []\n",
      "['wiccan'] ['baptist']\n",
      "['satanists'] []\n",
      "['muslim'] ['unitarian']\n",
      "['catholics'] ['protestants']\n"
     ]
    }
   ],
   "source": [
    "csp_dataset = CrowSPairsDataset(groups_by_bias_types, terms_by_groups)"
   ]
  },
  {
   "cell_type": "code",
   "execution_count": null,
   "id": "03268df2-70fe-4c22-acf7-d6879eaa5f5c",
   "metadata": {},
   "outputs": [],
   "source": [
    "for sample in csp_dataset.data:\n",
    "    if sample['bias_type'] == 'religion':\n",
    "        print(sample['group'], sample['group_cf'])"
   ]
  }
 ],
 "metadata": {
  "kernelspec": {
   "display_name": "Python 3 (ipykernel)",
   "language": "python",
   "name": "python3"
  },
  "language_info": {
   "codemirror_mode": {
    "name": "ipython",
    "version": 3
   },
   "file_extension": ".py",
   "mimetype": "text/x-python",
   "name": "python",
   "nbconvert_exporter": "python",
   "pygments_lexer": "ipython3",
   "version": "3.11.4"
  }
 },
 "nbformat": 4,
 "nbformat_minor": 5
}
